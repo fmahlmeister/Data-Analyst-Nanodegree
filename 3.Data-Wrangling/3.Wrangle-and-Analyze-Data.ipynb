{
 "cells": [
  {
   "cell_type": "markdown",
   "metadata": {},
   "source": [
    "# Project 3: Wrangle and Analyze Data\n",
    "\n",
    "São Paulo, 03 june of 2019\n",
    "\n",
    "Felipe Mahlmeister\n",
    "\n",
    "## Table of Contents\n",
    "1. [Introduction](#intro)<br>\n",
    "    1.1. [Key Points](#key_points)<br>\n",
    "2. [Data Wrangling](#data_wrangling)<br>\n",
    "    2.1. [Gather](#gather)<br>\n",
    "    2.2. [Assess](#assess)<br>\n",
    "    2.3. [Clean](#clean)<br>\n",
    "3. [Data Analysis](#data_analysis)<br>\n",
    "    3.1. [Storing](#storing)<br>\n",
    "    3.2. [Analyzing and Visualizing (act_report)](#analyzing)<br>"
   ]
  },
  {
   "cell_type": "markdown",
   "metadata": {},
   "source": [
    "<a id='intro'></a>\n",
    "# 1. Introduction"
   ]
  },
  {
   "cell_type": "markdown",
   "metadata": {},
   "source": [
    "This project will wrangling (and analyzing and visualizing) an dataset from the tweet archive of Twitter user <a href=\"https://twitter.com/dog_rates\">@dog_rates</a>, also known as <a href=\"https://en.wikipedia.org/wiki/WeRateDogs\">WeRateDogs</a>. WeRateDogs is a Twitter account that rates people's dogs with a humorous comment about the dog. WeRateDogs has over 4 million followers and has received international media coverage."
   ]
  },
  {
   "cell_type": "markdown",
   "metadata": {},
   "source": [
    "<a id='key_points'></a>\n",
    "## 1.1. Key points\n",
    "\n",
    "Key points of data wrangling for this project:\n",
    "\n",
    "- We'll look only at original ratings (no retweets) that have images. Though there are 5000+ tweets in the dataset, not all are dog ratings and some are retweets.\n",
    "- Assessing and cleaning the entire dataset completely would require a lot of time, and is not necessary to practice and demonstrate your skills in data wrangling. Therefore, the requirements of this project are only to assess and clean at least 8 quality issues and at least 2 tidiness issues in this dataset.\n",
    "- Cleaning includes merging individual pieces of data according to the rules of tidy data.\n",
    "- The fact that the rating numerators are greater than the denominators does not need to be cleaned. This unique rating system is a big part of the popularity of WeRateDogs.\n",
    "- You do not need to gather the tweets beyond August 1st, 2017. You can, but note that you won't be able to gather the image predictions for these tweets since you don't have access to the algorithm used."
   ]
  },
  {
   "cell_type": "markdown",
   "metadata": {},
   "source": [
    "<a id='data_wrangling'></a>\n",
    "# 2. Data Wrangling"
   ]
  },
  {
   "cell_type": "markdown",
   "metadata": {},
   "source": [
    "<a id='gather'></a>\n",
    "## 2.1. Gather"
   ]
  },
  {
   "cell_type": "code",
   "execution_count": 1,
   "metadata": {},
   "outputs": [],
   "source": [
    "# Import libraries\n",
    "import pandas as pd\n",
    "import numpy as np\n",
    "import requests\n",
    "import io\n",
    "import tweepy\n",
    "import json\n",
    "import time\n",
    "import re"
   ]
  },
  {
   "cell_type": "markdown",
   "metadata": {},
   "source": [
    "### Gather Dataframes\n",
    "\n",
    "In order to gather all necessary dataframes, we need to divide this topic in 3 steps:\n",
    "\n",
    "2.1. [Gather](#gather)<br>\n",
    "    2.1.1. [Import Twitter Archive](#import_twitter_1)<br>\n",
    "    2.1.2. [Import Tweet image predictions](#import_twitter_2)<br>\n",
    "    2.1.3. [Import additional data from Twitter](#import_twitter_3)<br>\n",
    "    2.1.4. [Gather Summary](#gather_summary)<br>\n",
    "\n",
    "<a id='import_twitter_1'></a>\n",
    "### 2.1.1. Import Twitter Archive"
   ]
  },
  {
   "cell_type": "code",
   "execution_count": 2,
   "metadata": {},
   "outputs": [],
   "source": [
    "# Import Twitter archive enhanced by reading from csv file, using pandas\n",
    "\n",
    "twitter_archive_raw = pd.read_csv('source/twitter-archive-enhanced.csv')\n",
    "twitter_archive = twitter_archive_raw.copy()"
   ]
  },
  {
   "cell_type": "markdown",
   "metadata": {},
   "source": [
    "<a id='import_twitter_2'></a>\n",
    "### 2.1.2. Import Tweet image predictions"
   ]
  },
  {
   "cell_type": "code",
   "execution_count": 3,
   "metadata": {},
   "outputs": [],
   "source": [
    "# Import tweet image predictions by downloading image predictions file from Udacity website using requests\n",
    "\n",
    "url = 'https://d17h27t6h515a5.cloudfront.net/topher/2017/August/599fd2ad_image-predictions/image-predictions.tsv'\n",
    "urlData = requests.get(url)\n",
    "\n",
    "with open('source/image-predictions.tsv', mode ='wb') as file:\n",
    "    file.write(urlData.content)\n",
    "\n",
    "# Load image predictions file\n",
    "images_predict_raw = pd.read_csv('source/image-predictions.tsv', sep = '\\t')\n",
    "images_predict = images_predict_raw.copy()"
   ]
  },
  {
   "cell_type": "markdown",
   "metadata": {},
   "source": [
    "<a id='import_twitter_3'></a>\n",
    "### 2.1.3. Import additional data from Twitter"
   ]
  },
  {
   "cell_type": "code",
   "execution_count": 4,
   "metadata": {},
   "outputs": [],
   "source": [
    "# Setting up the Twitter API connection settings\n",
    "\n",
    "# Variables that contain the user credentials to access Twitter API\n",
    "access_token = \"\"\n",
    "access_token_secret = \"\"\n",
    "consumer_key = \"\"\n",
    "consumer_secret = \"\"\n",
    "\n",
    "# Connecting with tweepy API\n",
    "auth = tweepy.OAuthHandler(consumer_key, consumer_secret)\n",
    "auth.set_access_token(access_token, access_token_secret)\n",
    "api = tweepy.API(auth, \n",
    "                 parser = tweepy.parsers.JSONParser(), \n",
    "                 wait_on_rate_limit = True, \n",
    "                 wait_on_rate_limit_notify = True)"
   ]
  },
  {
   "cell_type": "code",
   "execution_count": 5,
   "metadata": {
    "scrolled": true
   },
   "outputs": [
    {
     "name": "stdout",
     "output_type": "stream",
     "text": [
      "888202515573088257 - [{'code': 144, 'message': 'No status found with that ID.'}]\n",
      "873697596434513921 - [{'code': 144, 'message': 'No status found with that ID.'}]\n",
      "872668790621863937 - [{'code': 144, 'message': 'No status found with that ID.'}]\n",
      "872261713294495745 - [{'code': 144, 'message': 'No status found with that ID.'}]\n",
      "869988702071779329 - [{'code': 144, 'message': 'No status found with that ID.'}]\n",
      "866816280283807744 - [{'code': 144, 'message': 'No status found with that ID.'}]\n",
      "861769973181624320 - [{'code': 144, 'message': 'No status found with that ID.'}]\n",
      "856602993587888130 - [{'code': 144, 'message': 'No status found with that ID.'}]\n",
      "851953902622658560 - [{'code': 144, 'message': 'No status found with that ID.'}]\n",
      "845459076796616705 - [{'code': 144, 'message': 'No status found with that ID.'}]\n",
      "844704788403113984 - [{'code': 144, 'message': 'No status found with that ID.'}]\n",
      "842892208864923648 - [{'code': 144, 'message': 'No status found with that ID.'}]\n",
      "837012587749474308 - [{'code': 144, 'message': 'No status found with that ID.'}]\n",
      "829374341691346946 - [{'code': 144, 'message': 'No status found with that ID.'}]\n",
      "827228250799742977 - [{'code': 144, 'message': 'No status found with that ID.'}]\n",
      "812747805718642688 - [{'code': 144, 'message': 'No status found with that ID.'}]\n",
      "802247111496568832 - [{'code': 144, 'message': 'No status found with that ID.'}]\n",
      "775096608509886464 - [{'code': 144, 'message': 'No status found with that ID.'}]\n",
      "770743923962707968 - [{'code': 144, 'message': 'No status found with that ID.'}]\n"
     ]
    },
    {
     "name": "stderr",
     "output_type": "stream",
     "text": [
      "Rate limit reached. Sleeping for: 579\n"
     ]
    },
    {
     "name": "stdout",
     "output_type": "stream",
     "text": [
      "754011816964026368 - [{'code': 144, 'message': 'No status found with that ID.'}]\n",
      "680055455951884288 - [{'code': 144, 'message': 'No status found with that ID.'}]\n"
     ]
    },
    {
     "name": "stderr",
     "output_type": "stream",
     "text": [
      "Rate limit reached. Sleeping for: 692\n"
     ]
    },
    {
     "name": "stdout",
     "output_type": "stream",
     "text": [
      "-----------------------------------------------------\n",
      "execution time:  1938.7829999923706 seconds\n",
      "execution time:  32.313049999872845 minutes\n"
     ]
    }
   ],
   "source": [
    "# Import additional data from Twitter, utilizing Queries from Twitter API \n",
    "\n",
    "# List of tweets with actual data\n",
    "tweet_data_list = []\n",
    "\n",
    "# List of the missing tweets\n",
    "tweet_id_missing = []\n",
    "\n",
    "# List of sucessfully imported tweets\n",
    "tweet_id_success = []\n",
    "\n",
    "# Calculate the time of execution\n",
    "start = time.time()\n",
    "\n",
    "# For loop which will add each available tweet json to tweet_data\n",
    "# This loop is as simple as possible to avoid too much execution time\n",
    "for tweet_id in twitter_archive['tweet_id']:\n",
    "    try:\n",
    "        tweet = api.get_status(tweet_id, tweet_mode = 'extended')\n",
    "        tweet_id_success.append(tweet_id)\n",
    "        tweet_data_list.append(tweet)\n",
    "               \n",
    "    except Exception as e:\n",
    "        print(str(tweet_id)+ \" - \" + str(e))\n",
    "        tweet_id_missing.append(tweet_id)\n",
    "        \n",
    "# Calculate the time of execution\n",
    "end = time.time()\n",
    "print('-----------------------------------------------------')\n",
    "print('execution time: ',end - start, 'seconds')\n",
    "print('execution time: ',(end - start)/60, 'minutes')"
   ]
  },
  {
   "cell_type": "code",
   "execution_count": 6,
   "metadata": {},
   "outputs": [
    {
     "name": "stdout",
     "output_type": "stream",
     "text": [
      "# of tweets successfully imported:  2335\n",
      "# of tweets missing:  21\n"
     ]
    }
   ],
   "source": [
    "print(\"# of tweets successfully imported: \", len(tweet_data_list))\n",
    "print(\"# of tweets missing: \", len(tweet_id_missing))"
   ]
  },
  {
   "cell_type": "markdown",
   "metadata": {},
   "source": [
    "From the above results:\n",
    "\n",
    "<ul>\n",
    "    <li>We reached the limit of Tweetpy API two times (we slept for 20 minutes - 60% of execution time) but wait_on_rate_limit automatically re-estabilished the conection</li>\n",
    "    <li>We got 2335 tweets sucessfuly imported and 21 erros (99% of sucess rate)</li>\n",
    "    <li>The total execution time was about 32 minutes</li>\n",
    "</ul>"
   ]
  },
  {
   "cell_type": "code",
   "execution_count": 7,
   "metadata": {},
   "outputs": [],
   "source": [
    "# All tweets are embedded in a big list, we need to break it into\n",
    "# individual pieces and isolate json the part of each tweepy object,\n",
    "# then we will add them all into a list\n",
    "\n",
    "tweet_data_list_of_dict = []\n",
    "for each_json_tweet in tweet_data_list:\n",
    "    tweet_data_list_of_dict.append(each_json_tweet)\n",
    "    \n",
    "# Writing a text file with this list of dictionaires:\n",
    "\n",
    "with open('source/tweet-json.txt', 'w') as file:\n",
    "        file.write(json.dumps(tweet_data_list_of_dict, indent=4))"
   ]
  },
  {
   "cell_type": "code",
   "execution_count": 8,
   "metadata": {},
   "outputs": [
    {
     "name": "stdout",
     "output_type": "stream",
     "text": [
      "-----------------------------------------------------\n",
      "execution time:  9.707377195358276 seconds\n",
      "execution time:  0.16178961992263793 minutes\n"
     ]
    }
   ],
   "source": [
    "# # Getting all JSON objects of all the tweets using Tweepy\n",
    "\n",
    "# In order to avoid complex \"for loop\" during the Gathering of data from Twitter, \n",
    "# we kept it as simple as possible, and now we will read the 'tweet-json.txt' file with all the data\n",
    "# and chose the variables of interest to generate a Dataframe with it\n",
    "\n",
    "transitional_list = []\n",
    "\n",
    "# Calculate the time of execution\n",
    "start = time.time()\n",
    "\n",
    "with open('source/tweet-json.txt', encoding='utf-8') as json_file: \n",
    "    \n",
    "    tweet_data_all = json.load(json_file)\n",
    "    \n",
    "    for dictionary in tweet_data_all:\n",
    "        \n",
    "        tweet_id = dictionary['id']\n",
    "        source = dictionary['source']\n",
    "        device = source[source.find('rel=\"nofollow\">') + 15:-4]\n",
    "        user = dictionary['user']\n",
    "        followers_count = user['followers_count']\n",
    "        retweet_count = dictionary['retweet_count']\n",
    "        favorite_count = dictionary['favorite_count']\n",
    "        retweeted = dictionary['retweeted']\n",
    "        text = dictionary['full_text']\n",
    "        date_time = dictionary['created_at']\n",
    "        \n",
    "        transitional_list.append({'tweet_id': str(tweet_id),\n",
    "                                  'device': str(device),\n",
    "                                  'followers_count': int(followers_count),\n",
    "                                  'retweet_count': int(retweet_count),\n",
    "                                  'favorite_count': int(favorite_count),\n",
    "                                  'retweeted': retweeted,\n",
    "                                  'text': text,\n",
    "                                  'date_time': pd.to_datetime(date_time)\n",
    "                                 })\n",
    "        \n",
    "        tweet_data = pd.DataFrame(transitional_list, columns = ['tweet_id',\n",
    "                                                                'device',\n",
    "                                                                'followers_count',\n",
    "                                                                'retweet_count',\n",
    "                                                                'favorite_count',\n",
    "                                                                'retweeted',\n",
    "                                                                'text',\n",
    "                                                                'date_time'\n",
    "                                                               ])\n",
    "\n",
    "# Calculate the time of execution\n",
    "end = time.time()\n",
    "print('-----------------------------------------------------')\n",
    "print('execution time: ',end - start, 'seconds')\n",
    "print('execution time: ',(end - start)/60, 'minutes')"
   ]
  },
  {
   "cell_type": "markdown",
   "metadata": {},
   "source": [
    "<a id='gather_summary'></a>\n",
    "### 2.1.4. Gather Summary"
   ]
  },
  {
   "cell_type": "markdown",
   "metadata": {},
   "source": [
    "We completed the first step of Data Wrangling process !\n",
    "\n",
    "\n",
    "\n",
    "Summary:<br><br>\n",
    "    2.1.1. Imported Twitter archive enhanced by reading from csv file, using pandas<br>\n",
    "    2.1.2. Imported tweet image predictions by downloading image predictions file from Udacity website using requests <br>\n",
    "    2.1.3. Imported additional data from Twitter, utilizing Queries from Twitter API and getting all JSON objects of all the tweets using Tweepy<br>\n",
    "    \n",
    "Now we're ready to continue the Data Wrangling process:"
   ]
  },
  {
   "cell_type": "markdown",
   "metadata": {},
   "source": [
    "<a id='assess'></a>\n",
    "## 2.2. Assess Dataframes\n",
    "\n",
    "We will assess the dataframes `twitter_archive`, `images_predict` and `tweet data` both visually and programmatically for identify quality and tidiness issues using pandas. We will also documentate all the issues for further cleaning, as follows:\n",
    "\n",
    "2.2.1. [Visual Assessment](#visual_assessment)<br>\n",
    "2.2.2. [Programmatic Assessment](#programmatic_assessment)<br>\n",
    "2.2.3. [Quality](#quality)<br>\n",
    "2.2.4. [Tidiness](#tidiness)\n",
    "\n",
    "<a id='visual_assessment'></a>\n",
    "### 2.2.1. Visual Assessment\n",
    "\n",
    "Let's take a look of our gathered data:"
   ]
  },
  {
   "cell_type": "code",
   "execution_count": 9,
   "metadata": {
    "scrolled": true
   },
   "outputs": [
    {
     "data": {
      "text/html": [
       "<div>\n",
       "<style scoped>\n",
       "    .dataframe tbody tr th:only-of-type {\n",
       "        vertical-align: middle;\n",
       "    }\n",
       "\n",
       "    .dataframe tbody tr th {\n",
       "        vertical-align: top;\n",
       "    }\n",
       "\n",
       "    .dataframe thead th {\n",
       "        text-align: right;\n",
       "    }\n",
       "</style>\n",
       "<table border=\"1\" class=\"dataframe\">\n",
       "  <thead>\n",
       "    <tr style=\"text-align: right;\">\n",
       "      <th></th>\n",
       "      <th>tweet_id</th>\n",
       "      <th>in_reply_to_status_id</th>\n",
       "      <th>in_reply_to_user_id</th>\n",
       "      <th>timestamp</th>\n",
       "      <th>source</th>\n",
       "      <th>text</th>\n",
       "      <th>retweeted_status_id</th>\n",
       "      <th>retweeted_status_user_id</th>\n",
       "      <th>retweeted_status_timestamp</th>\n",
       "      <th>expanded_urls</th>\n",
       "      <th>rating_numerator</th>\n",
       "      <th>rating_denominator</th>\n",
       "      <th>name</th>\n",
       "      <th>doggo</th>\n",
       "      <th>floofer</th>\n",
       "      <th>pupper</th>\n",
       "      <th>puppo</th>\n",
       "    </tr>\n",
       "  </thead>\n",
       "  <tbody>\n",
       "    <tr>\n",
       "      <th>1985</th>\n",
       "      <td>672898206762672129</td>\n",
       "      <td>NaN</td>\n",
       "      <td>NaN</td>\n",
       "      <td>2015-12-04 22:00:08 +0000</td>\n",
       "      <td>&lt;a href=\"http://twitter.com/download/iphone\" r...</td>\n",
       "      <td>This is Cheryl AKA Queen Pupper of the Skies. ...</td>\n",
       "      <td>NaN</td>\n",
       "      <td>NaN</td>\n",
       "      <td>NaN</td>\n",
       "      <td>https://twitter.com/dog_rates/status/672898206...</td>\n",
       "      <td>11</td>\n",
       "      <td>10</td>\n",
       "      <td>Cheryl</td>\n",
       "      <td>None</td>\n",
       "      <td>None</td>\n",
       "      <td>pupper</td>\n",
       "      <td>None</td>\n",
       "    </tr>\n",
       "    <tr>\n",
       "      <th>378</th>\n",
       "      <td>827933404142436356</td>\n",
       "      <td>NaN</td>\n",
       "      <td>NaN</td>\n",
       "      <td>2017-02-04 17:34:40 +0000</td>\n",
       "      <td>&lt;a href=\"http://twitter.com/download/iphone\" r...</td>\n",
       "      <td>This is Kona. Yesterday she stopped by the dep...</td>\n",
       "      <td>NaN</td>\n",
       "      <td>NaN</td>\n",
       "      <td>NaN</td>\n",
       "      <td>https://twitter.com/dog_rates/status/827933404...</td>\n",
       "      <td>12</td>\n",
       "      <td>10</td>\n",
       "      <td>Kona</td>\n",
       "      <td>None</td>\n",
       "      <td>None</td>\n",
       "      <td>pupper</td>\n",
       "      <td>None</td>\n",
       "    </tr>\n",
       "    <tr>\n",
       "      <th>1930</th>\n",
       "      <td>674038233588723717</td>\n",
       "      <td>NaN</td>\n",
       "      <td>NaN</td>\n",
       "      <td>2015-12-08 01:30:12 +0000</td>\n",
       "      <td>&lt;a href=\"http://twitter.com/download/iphone\" r...</td>\n",
       "      <td>This is Kaiya. She's an aspiring shoe model. 1...</td>\n",
       "      <td>NaN</td>\n",
       "      <td>NaN</td>\n",
       "      <td>NaN</td>\n",
       "      <td>https://twitter.com/dog_rates/status/674038233...</td>\n",
       "      <td>12</td>\n",
       "      <td>10</td>\n",
       "      <td>Kaiya</td>\n",
       "      <td>None</td>\n",
       "      <td>None</td>\n",
       "      <td>pupper</td>\n",
       "      <td>None</td>\n",
       "    </tr>\n",
       "  </tbody>\n",
       "</table>\n",
       "</div>"
      ],
      "text/plain": [
       "                tweet_id  in_reply_to_status_id  in_reply_to_user_id  \\\n",
       "1985  672898206762672129                    NaN                  NaN   \n",
       "378   827933404142436356                    NaN                  NaN   \n",
       "1930  674038233588723717                    NaN                  NaN   \n",
       "\n",
       "                      timestamp  \\\n",
       "1985  2015-12-04 22:00:08 +0000   \n",
       "378   2017-02-04 17:34:40 +0000   \n",
       "1930  2015-12-08 01:30:12 +0000   \n",
       "\n",
       "                                                 source  \\\n",
       "1985  <a href=\"http://twitter.com/download/iphone\" r...   \n",
       "378   <a href=\"http://twitter.com/download/iphone\" r...   \n",
       "1930  <a href=\"http://twitter.com/download/iphone\" r...   \n",
       "\n",
       "                                                   text  retweeted_status_id  \\\n",
       "1985  This is Cheryl AKA Queen Pupper of the Skies. ...                  NaN   \n",
       "378   This is Kona. Yesterday she stopped by the dep...                  NaN   \n",
       "1930  This is Kaiya. She's an aspiring shoe model. 1...                  NaN   \n",
       "\n",
       "      retweeted_status_user_id retweeted_status_timestamp  \\\n",
       "1985                       NaN                        NaN   \n",
       "378                        NaN                        NaN   \n",
       "1930                       NaN                        NaN   \n",
       "\n",
       "                                          expanded_urls  rating_numerator  \\\n",
       "1985  https://twitter.com/dog_rates/status/672898206...                11   \n",
       "378   https://twitter.com/dog_rates/status/827933404...                12   \n",
       "1930  https://twitter.com/dog_rates/status/674038233...                12   \n",
       "\n",
       "      rating_denominator    name doggo floofer  pupper puppo  \n",
       "1985                  10  Cheryl  None    None  pupper  None  \n",
       "378                   10    Kona  None    None  pupper  None  \n",
       "1930                  10   Kaiya  None    None  pupper  None  "
      ]
     },
     "execution_count": 9,
     "metadata": {},
     "output_type": "execute_result"
    }
   ],
   "source": [
    "# Printing some random examples\n",
    "\n",
    "twitter_archive.sample(3)"
   ]
  },
  {
   "cell_type": "code",
   "execution_count": 10,
   "metadata": {},
   "outputs": [
    {
     "data": {
      "text/html": [
       "<div>\n",
       "<style scoped>\n",
       "    .dataframe tbody tr th:only-of-type {\n",
       "        vertical-align: middle;\n",
       "    }\n",
       "\n",
       "    .dataframe tbody tr th {\n",
       "        vertical-align: top;\n",
       "    }\n",
       "\n",
       "    .dataframe thead th {\n",
       "        text-align: right;\n",
       "    }\n",
       "</style>\n",
       "<table border=\"1\" class=\"dataframe\">\n",
       "  <thead>\n",
       "    <tr style=\"text-align: right;\">\n",
       "      <th></th>\n",
       "      <th>tweet_id</th>\n",
       "      <th>jpg_url</th>\n",
       "      <th>img_num</th>\n",
       "      <th>p1</th>\n",
       "      <th>p1_conf</th>\n",
       "      <th>p1_dog</th>\n",
       "      <th>p2</th>\n",
       "      <th>p2_conf</th>\n",
       "      <th>p2_dog</th>\n",
       "      <th>p3</th>\n",
       "      <th>p3_conf</th>\n",
       "      <th>p3_dog</th>\n",
       "    </tr>\n",
       "  </thead>\n",
       "  <tbody>\n",
       "    <tr>\n",
       "      <th>2033</th>\n",
       "      <td>883482846933004288</td>\n",
       "      <td>https://pbs.twimg.com/media/DELC9dZXUAADqUk.jpg</td>\n",
       "      <td>1</td>\n",
       "      <td>golden_retriever</td>\n",
       "      <td>0.943082</td>\n",
       "      <td>True</td>\n",
       "      <td>Labrador_retriever</td>\n",
       "      <td>0.032409</td>\n",
       "      <td>True</td>\n",
       "      <td>kuvasz</td>\n",
       "      <td>0.005501</td>\n",
       "      <td>True</td>\n",
       "    </tr>\n",
       "    <tr>\n",
       "      <th>555</th>\n",
       "      <td>677662372920729601</td>\n",
       "      <td>https://pbs.twimg.com/media/CWeKTZTWsAA5R3Z.jpg</td>\n",
       "      <td>1</td>\n",
       "      <td>cowboy_hat</td>\n",
       "      <td>0.256110</td>\n",
       "      <td>False</td>\n",
       "      <td>trench_coat</td>\n",
       "      <td>0.127086</td>\n",
       "      <td>False</td>\n",
       "      <td>cloak</td>\n",
       "      <td>0.071439</td>\n",
       "      <td>False</td>\n",
       "    </tr>\n",
       "    <tr>\n",
       "      <th>644</th>\n",
       "      <td>681579835668455424</td>\n",
       "      <td>https://pbs.twimg.com/media/CXV1Ot_W8AEpkQO.jpg</td>\n",
       "      <td>1</td>\n",
       "      <td>Rottweiler</td>\n",
       "      <td>0.760671</td>\n",
       "      <td>True</td>\n",
       "      <td>Labrador_retriever</td>\n",
       "      <td>0.096585</td>\n",
       "      <td>True</td>\n",
       "      <td>Staffordshire_bullterrier</td>\n",
       "      <td>0.040333</td>\n",
       "      <td>True</td>\n",
       "    </tr>\n",
       "  </tbody>\n",
       "</table>\n",
       "</div>"
      ],
      "text/plain": [
       "                tweet_id                                          jpg_url  \\\n",
       "2033  883482846933004288  https://pbs.twimg.com/media/DELC9dZXUAADqUk.jpg   \n",
       "555   677662372920729601  https://pbs.twimg.com/media/CWeKTZTWsAA5R3Z.jpg   \n",
       "644   681579835668455424  https://pbs.twimg.com/media/CXV1Ot_W8AEpkQO.jpg   \n",
       "\n",
       "      img_num                p1   p1_conf  p1_dog                  p2  \\\n",
       "2033        1  golden_retriever  0.943082    True  Labrador_retriever   \n",
       "555         1        cowboy_hat  0.256110   False         trench_coat   \n",
       "644         1        Rottweiler  0.760671    True  Labrador_retriever   \n",
       "\n",
       "       p2_conf  p2_dog                         p3   p3_conf  p3_dog  \n",
       "2033  0.032409    True                     kuvasz  0.005501    True  \n",
       "555   0.127086   False                      cloak  0.071439   False  \n",
       "644   0.096585    True  Staffordshire_bullterrier  0.040333    True  "
      ]
     },
     "execution_count": 10,
     "metadata": {},
     "output_type": "execute_result"
    }
   ],
   "source": [
    "# Printing some random examples\n",
    "\n",
    "images_predict.sample(3)"
   ]
  },
  {
   "cell_type": "code",
   "execution_count": 11,
   "metadata": {},
   "outputs": [
    {
     "data": {
      "text/html": [
       "<div>\n",
       "<style scoped>\n",
       "    .dataframe tbody tr th:only-of-type {\n",
       "        vertical-align: middle;\n",
       "    }\n",
       "\n",
       "    .dataframe tbody tr th {\n",
       "        vertical-align: top;\n",
       "    }\n",
       "\n",
       "    .dataframe thead th {\n",
       "        text-align: right;\n",
       "    }\n",
       "</style>\n",
       "<table border=\"1\" class=\"dataframe\">\n",
       "  <thead>\n",
       "    <tr style=\"text-align: right;\">\n",
       "      <th></th>\n",
       "      <th>tweet_id</th>\n",
       "      <th>device</th>\n",
       "      <th>followers_count</th>\n",
       "      <th>retweet_count</th>\n",
       "      <th>favorite_count</th>\n",
       "      <th>retweeted</th>\n",
       "      <th>text</th>\n",
       "      <th>date_time</th>\n",
       "    </tr>\n",
       "  </thead>\n",
       "  <tbody>\n",
       "    <tr>\n",
       "      <th>2130</th>\n",
       "      <td>669682095984410625</td>\n",
       "      <td>Twitter for iPhone</td>\n",
       "      <td>8134212</td>\n",
       "      <td>136</td>\n",
       "      <td>349</td>\n",
       "      <td>False</td>\n",
       "      <td>Meet Louie. He just pounded that bottle of win...</td>\n",
       "      <td>2015-11-26 01:00:28+00:00</td>\n",
       "    </tr>\n",
       "    <tr>\n",
       "      <th>1058</th>\n",
       "      <td>739485634323156992</td>\n",
       "      <td>Twitter for iPhone</td>\n",
       "      <td>8134174</td>\n",
       "      <td>3061</td>\n",
       "      <td>7388</td>\n",
       "      <td>False</td>\n",
       "      <td>This is Kyle. He's a heavy drinker and an avid...</td>\n",
       "      <td>2016-06-05 15:54:48+00:00</td>\n",
       "    </tr>\n",
       "    <tr>\n",
       "      <th>693</th>\n",
       "      <td>784826020293709826</td>\n",
       "      <td>Twitter for iPhone</td>\n",
       "      <td>8134150</td>\n",
       "      <td>3475</td>\n",
       "      <td>10652</td>\n",
       "      <td>False</td>\n",
       "      <td>This is Rusty. He's going D1 for sure. Insane ...</td>\n",
       "      <td>2016-10-08 18:41:19+00:00</td>\n",
       "    </tr>\n",
       "  </tbody>\n",
       "</table>\n",
       "</div>"
      ],
      "text/plain": [
       "                tweet_id              device  followers_count  retweet_count  \\\n",
       "2130  669682095984410625  Twitter for iPhone          8134212            136   \n",
       "1058  739485634323156992  Twitter for iPhone          8134174           3061   \n",
       "693   784826020293709826  Twitter for iPhone          8134150           3475   \n",
       "\n",
       "      favorite_count  retweeted  \\\n",
       "2130             349      False   \n",
       "1058            7388      False   \n",
       "693            10652      False   \n",
       "\n",
       "                                                   text  \\\n",
       "2130  Meet Louie. He just pounded that bottle of win...   \n",
       "1058  This is Kyle. He's a heavy drinker and an avid...   \n",
       "693   This is Rusty. He's going D1 for sure. Insane ...   \n",
       "\n",
       "                     date_time  \n",
       "2130 2015-11-26 01:00:28+00:00  \n",
       "1058 2016-06-05 15:54:48+00:00  \n",
       "693  2016-10-08 18:41:19+00:00  "
      ]
     },
     "execution_count": 11,
     "metadata": {},
     "output_type": "execute_result"
    }
   ],
   "source": [
    "# Printing some random examples\n",
    "\n",
    "tweet_data.sample(3)"
   ]
  },
  {
   "cell_type": "markdown",
   "metadata": {},
   "source": [
    "<a id='programmatic_assessment'></a>\n",
    "### 2.2.2. Programmatic Assessment\n",
    "\n",
    "Assessing programmatically `twitter_archive`, `images_predict` and `tweet data` dataframes\n",
    "\n",
    "#### twitter_archive"
   ]
  },
  {
   "cell_type": "code",
   "execution_count": 12,
   "metadata": {},
   "outputs": [
    {
     "data": {
      "text/plain": [
       "(2356, 17)"
      ]
     },
     "execution_count": 12,
     "metadata": {},
     "output_type": "execute_result"
    }
   ],
   "source": [
    "twitter_archive.shape"
   ]
  },
  {
   "cell_type": "code",
   "execution_count": 13,
   "metadata": {
    "scrolled": false
   },
   "outputs": [
    {
     "name": "stdout",
     "output_type": "stream",
     "text": [
      "<class 'pandas.core.frame.DataFrame'>\n",
      "RangeIndex: 2356 entries, 0 to 2355\n",
      "Data columns (total 17 columns):\n",
      "tweet_id                      2356 non-null int64\n",
      "in_reply_to_status_id         78 non-null float64\n",
      "in_reply_to_user_id           78 non-null float64\n",
      "timestamp                     2356 non-null object\n",
      "source                        2356 non-null object\n",
      "text                          2356 non-null object\n",
      "retweeted_status_id           181 non-null float64\n",
      "retweeted_status_user_id      181 non-null float64\n",
      "retweeted_status_timestamp    181 non-null object\n",
      "expanded_urls                 2297 non-null object\n",
      "rating_numerator              2356 non-null int64\n",
      "rating_denominator            2356 non-null int64\n",
      "name                          2356 non-null object\n",
      "doggo                         2356 non-null object\n",
      "floofer                       2356 non-null object\n",
      "pupper                        2356 non-null object\n",
      "puppo                         2356 non-null object\n",
      "dtypes: float64(4), int64(3), object(10)\n",
      "memory usage: 313.0+ KB\n"
     ]
    }
   ],
   "source": [
    "twitter_archive.info()"
   ]
  },
  {
   "cell_type": "code",
   "execution_count": 14,
   "metadata": {},
   "outputs": [
    {
     "data": {
      "text/plain": [
       "tweet_id                         0\n",
       "in_reply_to_status_id         2278\n",
       "in_reply_to_user_id           2278\n",
       "timestamp                        0\n",
       "source                           0\n",
       "text                             0\n",
       "retweeted_status_id           2175\n",
       "retweeted_status_user_id      2175\n",
       "retweeted_status_timestamp    2175\n",
       "expanded_urls                   59\n",
       "rating_numerator                 0\n",
       "rating_denominator               0\n",
       "name                             0\n",
       "doggo                            0\n",
       "floofer                          0\n",
       "pupper                           0\n",
       "puppo                            0\n",
       "dtype: int64"
      ]
     },
     "execution_count": 14,
     "metadata": {},
     "output_type": "execute_result"
    }
   ],
   "source": [
    "twitter_archive.isna().sum()"
   ]
  },
  {
   "cell_type": "code",
   "execution_count": 15,
   "metadata": {},
   "outputs": [
    {
     "data": {
      "text/plain": [
       "0"
      ]
     },
     "execution_count": 15,
     "metadata": {},
     "output_type": "execute_result"
    }
   ],
   "source": [
    "twitter_archive.loc[:,'tweet_id'].duplicated().sum()"
   ]
  },
  {
   "cell_type": "code",
   "execution_count": 16,
   "metadata": {},
   "outputs": [
    {
     "data": {
      "text/plain": [
       "<a href=\"http://twitter.com/download/iphone\" rel=\"nofollow\">Twitter for iPhone</a>     2221\n",
       "<a href=\"http://vine.co\" rel=\"nofollow\">Vine - Make a Scene</a>                          91\n",
       "<a href=\"http://twitter.com\" rel=\"nofollow\">Twitter Web Client</a>                       33\n",
       "<a href=\"https://about.twitter.com/products/tweetdeck\" rel=\"nofollow\">TweetDeck</a>      11\n",
       "Name: source, dtype: int64"
      ]
     },
     "execution_count": 16,
     "metadata": {},
     "output_type": "execute_result"
    }
   ],
   "source": [
    "twitter_archive.loc[:,'source'].value_counts()"
   ]
  },
  {
   "cell_type": "code",
   "execution_count": 17,
   "metadata": {},
   "outputs": [
    {
     "data": {
      "text/plain": [
       "12      558\n",
       "11      464\n",
       "10      461\n",
       "13      351\n",
       "9       158\n",
       "8       102\n",
       "7        55\n",
       "14       54\n",
       "5        37\n",
       "6        32\n",
       "3        19\n",
       "4        17\n",
       "1         9\n",
       "2         9\n",
       "420       2\n",
       "0         2\n",
       "15        2\n",
       "75        2\n",
       "80        1\n",
       "20        1\n",
       "24        1\n",
       "26        1\n",
       "44        1\n",
       "50        1\n",
       "60        1\n",
       "165       1\n",
       "84        1\n",
       "88        1\n",
       "144       1\n",
       "182       1\n",
       "143       1\n",
       "666       1\n",
       "960       1\n",
       "1776      1\n",
       "17        1\n",
       "27        1\n",
       "45        1\n",
       "99        1\n",
       "121       1\n",
       "204       1\n",
       "Name: rating_numerator, dtype: int64"
      ]
     },
     "execution_count": 17,
     "metadata": {},
     "output_type": "execute_result"
    }
   ],
   "source": [
    "numerator_check_list = twitter_archive.loc[:,'rating_numerator'].value_counts()\n",
    "numerator_check_list"
   ]
  },
  {
   "cell_type": "code",
   "execution_count": 18,
   "metadata": {
    "scrolled": true
   },
   "outputs": [
    {
     "data": {
      "text/plain": [
       "10     2333\n",
       "11        3\n",
       "50        3\n",
       "80        2\n",
       "20        2\n",
       "2         1\n",
       "16        1\n",
       "40        1\n",
       "70        1\n",
       "15        1\n",
       "90        1\n",
       "110       1\n",
       "120       1\n",
       "130       1\n",
       "150       1\n",
       "170       1\n",
       "7         1\n",
       "0         1\n",
       "Name: rating_denominator, dtype: int64"
      ]
     },
     "execution_count": 18,
     "metadata": {},
     "output_type": "execute_result"
    }
   ],
   "source": [
    "twitter_archive.loc[:,'rating_denominator'].value_counts()"
   ]
  },
  {
   "cell_type": "code",
   "execution_count": 19,
   "metadata": {},
   "outputs": [
    {
     "data": {
      "text/plain": [
       "1095    NaN\n",
       "1823    NaN\n",
       "2067    NaN\n",
       "549     NaN\n",
       "788     NaN\n",
       "Name: retweeted_status_timestamp, dtype: object"
      ]
     },
     "execution_count": 19,
     "metadata": {},
     "output_type": "execute_result"
    }
   ],
   "source": [
    "twitter_archive.loc[:,'retweeted_status_timestamp'].sample(5)"
   ]
  },
  {
   "cell_type": "code",
   "execution_count": 20,
   "metadata": {},
   "outputs": [
    {
     "name": "stdout",
     "output_type": "stream",
     "text": [
      "doggo unique values: ['None' 'doggo']\n",
      "floofer unique values: ['None' 'floofer']\n",
      "pupper unique values: ['None' 'pupper']\n",
      "puppo unique values: ['None' 'puppo']\n"
     ]
    }
   ],
   "source": [
    "print('doggo unique values:',twitter_archive.loc[:,'doggo'].unique())\n",
    "print('floofer unique values:',twitter_archive.loc[:,'floofer'].unique())\n",
    "print('pupper unique values:',twitter_archive.loc[:,'pupper'].unique())      \n",
    "print('puppo unique values:',twitter_archive.loc[:,'puppo'].unique())"
   ]
  },
  {
   "cell_type": "code",
   "execution_count": 21,
   "metadata": {},
   "outputs": [
    {
     "name": "stdout",
     "output_type": "stream",
     "text": [
      "dogoo counts: 97\n",
      "floofer counts: 10\n",
      "pupper counts: 257\n",
      "puppo counts: 30\n"
     ]
    }
   ],
   "source": [
    "print('dogoo counts:',twitter_archive.loc[twitter_archive['doggo']=='doggo']['doggo'].count())\n",
    "print('floofer counts:',twitter_archive.loc[twitter_archive['floofer']=='floofer']['floofer'].count())\n",
    "print('pupper counts:',twitter_archive.loc[twitter_archive['pupper']=='pupper']['pupper'].count())\n",
    "print('puppo counts:',twitter_archive.loc[twitter_archive['puppo']=='puppo']['puppo'].count())"
   ]
  },
  {
   "cell_type": "code",
   "execution_count": 22,
   "metadata": {},
   "outputs": [
    {
     "data": {
      "text/plain": [
       "181"
      ]
     },
     "execution_count": 22,
     "metadata": {},
     "output_type": "execute_result"
    }
   ],
   "source": [
    "twitter_archive.loc[:,'retweeted_status_id'].nunique()"
   ]
  },
  {
   "cell_type": "markdown",
   "metadata": {},
   "source": [
    "#### images_predict"
   ]
  },
  {
   "cell_type": "code",
   "execution_count": 23,
   "metadata": {},
   "outputs": [
    {
     "data": {
      "text/plain": [
       "(2075, 12)"
      ]
     },
     "execution_count": 23,
     "metadata": {},
     "output_type": "execute_result"
    }
   ],
   "source": [
    "images_predict.shape"
   ]
  },
  {
   "cell_type": "code",
   "execution_count": 24,
   "metadata": {},
   "outputs": [
    {
     "name": "stdout",
     "output_type": "stream",
     "text": [
      "<class 'pandas.core.frame.DataFrame'>\n",
      "RangeIndex: 2075 entries, 0 to 2074\n",
      "Data columns (total 12 columns):\n",
      "tweet_id    2075 non-null int64\n",
      "jpg_url     2075 non-null object\n",
      "img_num     2075 non-null int64\n",
      "p1          2075 non-null object\n",
      "p1_conf     2075 non-null float64\n",
      "p1_dog      2075 non-null bool\n",
      "p2          2075 non-null object\n",
      "p2_conf     2075 non-null float64\n",
      "p2_dog      2075 non-null bool\n",
      "p3          2075 non-null object\n",
      "p3_conf     2075 non-null float64\n",
      "p3_dog      2075 non-null bool\n",
      "dtypes: bool(3), float64(3), int64(2), object(4)\n",
      "memory usage: 152.1+ KB\n"
     ]
    }
   ],
   "source": [
    "images_predict.info()"
   ]
  },
  {
   "cell_type": "code",
   "execution_count": 25,
   "metadata": {},
   "outputs": [
    {
     "data": {
      "text/plain": [
       "tweet_id    0\n",
       "jpg_url     0\n",
       "img_num     0\n",
       "p1          0\n",
       "p1_conf     0\n",
       "p1_dog      0\n",
       "p2          0\n",
       "p2_conf     0\n",
       "p2_dog      0\n",
       "p3          0\n",
       "p3_conf     0\n",
       "p3_dog      0\n",
       "dtype: int64"
      ]
     },
     "execution_count": 25,
     "metadata": {},
     "output_type": "execute_result"
    }
   ],
   "source": [
    "images_predict.isna().sum()"
   ]
  },
  {
   "cell_type": "code",
   "execution_count": 26,
   "metadata": {},
   "outputs": [
    {
     "data": {
      "text/plain": [
       "0"
      ]
     },
     "execution_count": 26,
     "metadata": {},
     "output_type": "execute_result"
    }
   ],
   "source": [
    "images_predict.loc[:,'tweet_id'].duplicated().sum()"
   ]
  },
  {
   "cell_type": "code",
   "execution_count": 27,
   "metadata": {},
   "outputs": [
    {
     "data": {
      "text/plain": [
       "2009"
      ]
     },
     "execution_count": 27,
     "metadata": {},
     "output_type": "execute_result"
    }
   ],
   "source": [
    "images_predict.loc[:,'jpg_url'].nunique()"
   ]
  },
  {
   "cell_type": "code",
   "execution_count": 28,
   "metadata": {},
   "outputs": [
    {
     "name": "stdout",
     "output_type": "stream",
     "text": [
      "66 duplicated images\n"
     ]
    }
   ],
   "source": [
    "# jpg_url non-null - jpg_url unique values:\n",
    "\n",
    "print(2075-2009, 'duplicated images')"
   ]
  },
  {
   "cell_type": "code",
   "execution_count": 29,
   "metadata": {},
   "outputs": [
    {
     "data": {
      "text/plain": [
       "p1    378\n",
       "p2    405\n",
       "p3    408\n",
       "dtype: int64"
      ]
     },
     "execution_count": 29,
     "metadata": {},
     "output_type": "execute_result"
    }
   ],
   "source": [
    "images_predict.loc[:,['p1','p2','p3']].nunique()"
   ]
  },
  {
   "cell_type": "markdown",
   "metadata": {},
   "source": [
    "#### tweet_data"
   ]
  },
  {
   "cell_type": "code",
   "execution_count": 30,
   "metadata": {},
   "outputs": [
    {
     "data": {
      "text/plain": [
       "(2335, 8)"
      ]
     },
     "execution_count": 30,
     "metadata": {},
     "output_type": "execute_result"
    }
   ],
   "source": [
    "tweet_data.shape"
   ]
  },
  {
   "cell_type": "code",
   "execution_count": 31,
   "metadata": {},
   "outputs": [
    {
     "name": "stdout",
     "output_type": "stream",
     "text": [
      "<class 'pandas.core.frame.DataFrame'>\n",
      "RangeIndex: 2335 entries, 0 to 2334\n",
      "Data columns (total 8 columns):\n",
      "tweet_id           2335 non-null object\n",
      "device             2335 non-null object\n",
      "followers_count    2335 non-null int64\n",
      "retweet_count      2335 non-null int64\n",
      "favorite_count     2335 non-null int64\n",
      "retweeted          2335 non-null bool\n",
      "text               2335 non-null object\n",
      "date_time          2335 non-null datetime64[ns, UTC]\n",
      "dtypes: bool(1), datetime64[ns, UTC](1), int64(3), object(3)\n",
      "memory usage: 130.1+ KB\n"
     ]
    }
   ],
   "source": [
    "tweet_data.info()"
   ]
  },
  {
   "cell_type": "code",
   "execution_count": 32,
   "metadata": {},
   "outputs": [
    {
     "data": {
      "text/plain": [
       "tweet_id           0\n",
       "device             0\n",
       "followers_count    0\n",
       "retweet_count      0\n",
       "favorite_count     0\n",
       "retweeted          0\n",
       "text               0\n",
       "date_time          0\n",
       "dtype: int64"
      ]
     },
     "execution_count": 32,
     "metadata": {},
     "output_type": "execute_result"
    }
   ],
   "source": [
    "tweet_data.isna().sum()"
   ]
  },
  {
   "cell_type": "code",
   "execution_count": 33,
   "metadata": {},
   "outputs": [
    {
     "data": {
      "text/plain": [
       "0"
      ]
     },
     "execution_count": 33,
     "metadata": {},
     "output_type": "execute_result"
    }
   ],
   "source": [
    "tweet_data.loc[:,'tweet_id'].duplicated().sum()"
   ]
  },
  {
   "cell_type": "code",
   "execution_count": 34,
   "metadata": {},
   "outputs": [
    {
     "data": {
      "text/plain": [
       "array([False])"
      ]
     },
     "execution_count": 34,
     "metadata": {},
     "output_type": "execute_result"
    }
   ],
   "source": [
    "tweet_data.loc[:,'retweeted'].unique()"
   ]
  },
  {
   "cell_type": "markdown",
   "metadata": {},
   "source": [
    "<a id='quality'></a>\n",
    "### 2.2.3. Quality\n",
    "\n",
    "#### twitter_archive dataset\n",
    "\n",
    "1. Delete columns that won't be used for analysis: `in_reply_to_status_id`,`in_reply_to_user_id`,`retweeted_status_user_id`,\n",
    "`retweeted_status_timestamp`,`expanded_urls`\n",
    "\n",
    "- ID fields need to be stored as <b>strings</b>: `tweet_id`\n",
    "\n",
    "- Incorrect values in rating numerators: `rating_numerator`\n",
    "\n",
    "- data format should be <b>integer</b> instead of <b>float</b>: `in_reply_to_status_id`, `in_reply_to_user_id`, `retweeted_status_id`, `retweeted_status_user_id`\n",
    "- data format should be <b>category</b> instead of <b>object</b>: `source`, `doggo`, `floofer`, `pupper`, `puppo`\n",
    "\n",
    "- data format should be <b>timestamp</b> instead of <b>object</b>: `timestamp`, `retweeted_status_timestamp`\n",
    "\n",
    "- `rating_numerator` and `rating_denominator` columns have invalid values\n",
    "\n",
    "- Several columns has the string <b>None</b> instead of <b>NaN</b> (null objects are non-null)\n",
    "\n",
    "- `source` has dirt in data fields, need to be more readable\n",
    "\n",
    "- `twitter_archive` dataset has 181 retweets\n",
    "\n",
    "\n",
    "#### images_predict dataset\n",
    "\n",
    "10. Missing values from `images_predict` dataset (2337 rows instead of 2356)\n",
    "\n",
    "- ID fields need to be stored as <b>strings</b>: `tweet_id`\n",
    "\n",
    "- `jpg_url` has 66 duplicated images\n",
    "\n",
    "#### tweet_data dataset\n",
    "\n",
    "12. Missing values from `tweet_data` dataset (2075 rows instead of 2356)\n",
    "\n",
    "- ID fields need to be stored as <b>strings</b>: `tweet_id`\n",
    "\n",
    "- data format should be <b>category</b> instead of <b>object</b>: `device`"
   ]
  },
  {
   "cell_type": "markdown",
   "metadata": {},
   "source": [
    "<a id='tidiness'></a>\n",
    "### 2.2.4. Tidiness\n",
    "\n",
    "1. Merge all tables to be part of one dataset\n",
    "\n",
    "#### twitter_archive dataset\n",
    "\n",
    "2. `dog_stage` variable in four columns: `doggo`, `floofer`, `pupper`, `puppo`\n",
    "\n",
    "#### images_predict dataset\n",
    "\n",
    "3. The information of the following columns can be stored in only two columns `dog_breed_prediction` and `confidence_level`:<br><br>`p1`, `p1_conf`, `p1_dog`, `p2`, `p2_conf`, `p2_dog`, `p3`, `p3_conf`, `p3_dog`\n",
    "\n",
    "#### tweet_data dataset\n",
    "\n",
    "4. There were no tidiness issues identified in this dataset"
   ]
  },
  {
   "cell_type": "markdown",
   "metadata": {},
   "source": [
    "<a id='clean'></a>\n",
    "## 2.3. Clean\n",
    "\n",
    "\n",
    "### 2.3.1. [twitter_archive_clean](#twitter_archive_clean)\n",
    "\n",
    "Tidiness<br>\n",
    "1.[Tidiness - merging multiple dog stages](#1_tidiness)<br>\n",
    "\n",
    "Quality<br>\n",
    "1.[Quality - delete columns that won't be used for analysis](#1_quality)<br>\n",
    "2.[Quality - ID fields need to be stored as strings](#2_quality)<br>\n",
    "3.[Quality - Incorrect values in rating numerators](#3_quality)<br>\n",
    "4.[Quality - data format should be integer instead of float](#4_quality)<br>\n",
    "5.[Quality - data format should be category instead of object](#5_quality)<br>\n",
    "6.[Quality - data format should be timestamp instead of object](#6_quality)<br>\n",
    "7.[Quality - Several columns has the string None instead of NaN (null objects are non-null)](#7_quality)<br>\n",
    "8.[Quality - source has dirt in data fields, need to be more readable](#8_quality)<br>\n",
    "9.[Quality - twitter_archive dataset has 181 retweets](#9_quality)<br>\n",
    "\n",
    "### 2.3.2. [images_predict_clean](#images_predict_clean)\n",
    "Tidiness<br>\n",
    "2.[Tidiness - prediction columns can be stored in only two columns \"dog_breed_prediction\" and \"confidence_level\"](#2_tidiness)<br>\n",
    "\n",
    "Quality<br>\n",
    "10.[Quality - ID fields need to be stored as strings](#10_quality)<br>\n",
    "11.[Quality - jpg_url has 66 duplicated images](#11_quality)<br>\n",
    "\n",
    "\n",
    "### 2.3.3. [tweet_data_clean](#tweet_data_clean)\n",
    "\n",
    "Tidiness<br>\n",
    "There were no tidiness issues identified in this dataset\n",
    "\n",
    "Quality<br>\n",
    "12.[Quality - ID fields need to be stored as strings](#12_quality)<br>\n",
    "13.[Quality - data format should be category instead of object](#14_quality)<br>\n",
    "\n",
    "\n",
    "### 2.3.4. [Merge Dataframes](#merge)\n",
    "\n",
    "Tidiness<br>\n",
    "3.[Tidiness - merge all tables to be part of one dataset](#3_tidiness)<br>"
   ]
  },
  {
   "cell_type": "markdown",
   "metadata": {},
   "source": [
    "<a id='clean'></a>\n",
    "## 2.3. Clean\n",
    "\n",
    "### Copies of the original pieces of data prior to cleaning"
   ]
  },
  {
   "cell_type": "code",
   "execution_count": 35,
   "metadata": {},
   "outputs": [],
   "source": [
    "# Copy Dataframes\n",
    "twitter_archive_clean = twitter_archive.copy()\n",
    "images_predict_clean = images_predict.copy()\n",
    "tweet_data_clean = tweet_data.copy()"
   ]
  },
  {
   "cell_type": "markdown",
   "metadata": {},
   "source": [
    "<a id='twitter_archive_clean'></a>\n",
    "### 2.3.1. twitter_archive_clean\n",
    "\n",
    "<a id='1_tidiness'></a>\n",
    "#### 1. Tidiness:\n",
    "\n",
    "#### Define\n",
    "- `dog_stage` variable in four columns: `doggo`, `floofer`, `pupper`, `puppo`\n",
    "\n",
    "#### Code"
   ]
  },
  {
   "cell_type": "code",
   "execution_count": 36,
   "metadata": {},
   "outputs": [
    {
     "data": {
      "text/html": [
       "<div>\n",
       "<style scoped>\n",
       "    .dataframe tbody tr th:only-of-type {\n",
       "        vertical-align: middle;\n",
       "    }\n",
       "\n",
       "    .dataframe tbody tr th {\n",
       "        vertical-align: top;\n",
       "    }\n",
       "\n",
       "    .dataframe thead th {\n",
       "        text-align: right;\n",
       "    }\n",
       "</style>\n",
       "<table border=\"1\" class=\"dataframe\">\n",
       "  <thead>\n",
       "    <tr style=\"text-align: right;\">\n",
       "      <th></th>\n",
       "      <th>doggo</th>\n",
       "      <th>floofer</th>\n",
       "      <th>pupper</th>\n",
       "      <th>puppo</th>\n",
       "      <th>count</th>\n",
       "    </tr>\n",
       "  </thead>\n",
       "  <tbody>\n",
       "    <tr>\n",
       "      <th>0</th>\n",
       "      <td>None</td>\n",
       "      <td>None</td>\n",
       "      <td>None</td>\n",
       "      <td>None</td>\n",
       "      <td>1976</td>\n",
       "    </tr>\n",
       "    <tr>\n",
       "      <th>1</th>\n",
       "      <td>None</td>\n",
       "      <td>None</td>\n",
       "      <td>None</td>\n",
       "      <td>puppo</td>\n",
       "      <td>29</td>\n",
       "    </tr>\n",
       "    <tr>\n",
       "      <th>2</th>\n",
       "      <td>None</td>\n",
       "      <td>None</td>\n",
       "      <td>pupper</td>\n",
       "      <td>None</td>\n",
       "      <td>245</td>\n",
       "    </tr>\n",
       "    <tr>\n",
       "      <th>3</th>\n",
       "      <td>None</td>\n",
       "      <td>floofer</td>\n",
       "      <td>None</td>\n",
       "      <td>None</td>\n",
       "      <td>9</td>\n",
       "    </tr>\n",
       "    <tr>\n",
       "      <th>4</th>\n",
       "      <td>doggo</td>\n",
       "      <td>None</td>\n",
       "      <td>None</td>\n",
       "      <td>None</td>\n",
       "      <td>83</td>\n",
       "    </tr>\n",
       "    <tr>\n",
       "      <th>5</th>\n",
       "      <td>doggo</td>\n",
       "      <td>None</td>\n",
       "      <td>None</td>\n",
       "      <td>puppo</td>\n",
       "      <td>1</td>\n",
       "    </tr>\n",
       "    <tr>\n",
       "      <th>6</th>\n",
       "      <td>doggo</td>\n",
       "      <td>None</td>\n",
       "      <td>pupper</td>\n",
       "      <td>None</td>\n",
       "      <td>12</td>\n",
       "    </tr>\n",
       "    <tr>\n",
       "      <th>7</th>\n",
       "      <td>doggo</td>\n",
       "      <td>floofer</td>\n",
       "      <td>None</td>\n",
       "      <td>None</td>\n",
       "      <td>1</td>\n",
       "    </tr>\n",
       "  </tbody>\n",
       "</table>\n",
       "</div>"
      ],
      "text/plain": [
       "   doggo  floofer  pupper  puppo  count\n",
       "0   None     None    None   None   1976\n",
       "1   None     None    None  puppo     29\n",
       "2   None     None  pupper   None    245\n",
       "3   None  floofer    None   None      9\n",
       "4  doggo     None    None   None     83\n",
       "5  doggo     None    None  puppo      1\n",
       "6  doggo     None  pupper   None     12\n",
       "7  doggo  floofer    None   None      1"
      ]
     },
     "execution_count": 36,
     "metadata": {},
     "output_type": "execute_result"
    }
   ],
   "source": [
    "twitter_archive_clean.groupby([\"doggo\", \"floofer\", \"pupper\", \"puppo\"]).size().reset_index().rename(columns={0: \"count\"})"
   ]
  },
  {
   "cell_type": "code",
   "execution_count": 37,
   "metadata": {},
   "outputs": [],
   "source": [
    "twitter_archive_clean.doggo.replace('None', '', inplace=True)\n",
    "twitter_archive_clean.doggo.replace(np.NaN, '', inplace=True)\n",
    "\n",
    "twitter_archive_clean.floofer.replace('None', '', inplace=True)\n",
    "twitter_archive_clean.floofer.replace(np.NaN, '', inplace=True)\n",
    "\n",
    "twitter_archive_clean.pupper.replace('None', '', inplace=True)\n",
    "twitter_archive_clean.pupper.replace(np.NaN, '', inplace=True)\n",
    "\n",
    "twitter_archive_clean.puppo.replace('None', '', inplace=True)\n",
    "twitter_archive_clean.puppo.replace(np.NaN, '', inplace=True)"
   ]
  },
  {
   "cell_type": "code",
   "execution_count": 38,
   "metadata": {},
   "outputs": [],
   "source": [
    "twitter_archive_clean['dog_stage'] = twitter_archive_clean.doggo + \\\n",
    "                                 twitter_archive_clean.floofer + \\\n",
    "                                 twitter_archive_clean.pupper + \\\n",
    "                                 twitter_archive_clean.puppo\n",
    "twitter_archive_clean.loc[twitter_archive_clean.dog_stage == 'doggopupper', 'dog_stage'] = 'doggo,pupper'\n",
    "twitter_archive_clean.loc[twitter_archive_clean.dog_stage == 'doggopuppo', 'dog_stage'] = 'doggo,puppo'\n",
    "twitter_archive_clean.loc[twitter_archive_clean.dog_stage == 'doggofloofer', 'dog_stage'] = 'doggo,floofer'"
   ]
  },
  {
   "cell_type": "markdown",
   "metadata": {},
   "source": [
    "#### Test"
   ]
  },
  {
   "cell_type": "code",
   "execution_count": 39,
   "metadata": {
    "scrolled": true
   },
   "outputs": [
    {
     "data": {
      "text/html": [
       "<div>\n",
       "<style scoped>\n",
       "    .dataframe tbody tr th:only-of-type {\n",
       "        vertical-align: middle;\n",
       "    }\n",
       "\n",
       "    .dataframe tbody tr th {\n",
       "        vertical-align: top;\n",
       "    }\n",
       "\n",
       "    .dataframe thead th {\n",
       "        text-align: right;\n",
       "    }\n",
       "</style>\n",
       "<table border=\"1\" class=\"dataframe\">\n",
       "  <thead>\n",
       "    <tr style=\"text-align: right;\">\n",
       "      <th></th>\n",
       "      <th>tweet_id</th>\n",
       "      <th>in_reply_to_status_id</th>\n",
       "      <th>in_reply_to_user_id</th>\n",
       "      <th>timestamp</th>\n",
       "      <th>source</th>\n",
       "      <th>text</th>\n",
       "      <th>retweeted_status_id</th>\n",
       "      <th>retweeted_status_user_id</th>\n",
       "      <th>retweeted_status_timestamp</th>\n",
       "      <th>expanded_urls</th>\n",
       "      <th>rating_numerator</th>\n",
       "      <th>rating_denominator</th>\n",
       "      <th>name</th>\n",
       "      <th>doggo</th>\n",
       "      <th>floofer</th>\n",
       "      <th>pupper</th>\n",
       "      <th>puppo</th>\n",
       "      <th>dog_stage</th>\n",
       "    </tr>\n",
       "  </thead>\n",
       "  <tbody>\n",
       "    <tr>\n",
       "      <th>2271</th>\n",
       "      <td>667495797102141441</td>\n",
       "      <td>NaN</td>\n",
       "      <td>NaN</td>\n",
       "      <td>2015-11-20 00:12:54 +0000</td>\n",
       "      <td>&lt;a href=\"http://twitter.com\" rel=\"nofollow\"&gt;Tw...</td>\n",
       "      <td>This is Philippe from Soviet Russia. Commandin...</td>\n",
       "      <td>NaN</td>\n",
       "      <td>NaN</td>\n",
       "      <td>NaN</td>\n",
       "      <td>https://twitter.com/dog_rates/status/667495797...</td>\n",
       "      <td>9</td>\n",
       "      <td>10</td>\n",
       "      <td>Philippe</td>\n",
       "      <td></td>\n",
       "      <td></td>\n",
       "      <td></td>\n",
       "      <td></td>\n",
       "      <td></td>\n",
       "    </tr>\n",
       "    <tr>\n",
       "      <th>2174</th>\n",
       "      <td>669216679721873412</td>\n",
       "      <td>NaN</td>\n",
       "      <td>NaN</td>\n",
       "      <td>2015-11-24 18:11:04 +0000</td>\n",
       "      <td>&lt;a href=\"http://twitter.com/download/iphone\" r...</td>\n",
       "      <td>This is Clarq. He's a golden Quetzalcoatl. Cla...</td>\n",
       "      <td>NaN</td>\n",
       "      <td>NaN</td>\n",
       "      <td>NaN</td>\n",
       "      <td>https://twitter.com/dog_rates/status/669216679...</td>\n",
       "      <td>8</td>\n",
       "      <td>10</td>\n",
       "      <td>Clarq</td>\n",
       "      <td></td>\n",
       "      <td></td>\n",
       "      <td></td>\n",
       "      <td></td>\n",
       "      <td></td>\n",
       "    </tr>\n",
       "    <tr>\n",
       "      <th>566</th>\n",
       "      <td>802247111496568832</td>\n",
       "      <td>NaN</td>\n",
       "      <td>NaN</td>\n",
       "      <td>2016-11-25 20:26:31 +0000</td>\n",
       "      <td>&lt;a href=\"http://twitter.com/download/iphone\" r...</td>\n",
       "      <td>RT @dog_rates: Everybody drop what you're doin...</td>\n",
       "      <td>7.790561e+17</td>\n",
       "      <td>4.196984e+09</td>\n",
       "      <td>2016-09-22 20:33:42 +0000</td>\n",
       "      <td>https://twitter.com/dog_rates/status/779056095...</td>\n",
       "      <td>13</td>\n",
       "      <td>10</td>\n",
       "      <td>None</td>\n",
       "      <td></td>\n",
       "      <td></td>\n",
       "      <td></td>\n",
       "      <td></td>\n",
       "      <td></td>\n",
       "    </tr>\n",
       "  </tbody>\n",
       "</table>\n",
       "</div>"
      ],
      "text/plain": [
       "                tweet_id  in_reply_to_status_id  in_reply_to_user_id  \\\n",
       "2271  667495797102141441                    NaN                  NaN   \n",
       "2174  669216679721873412                    NaN                  NaN   \n",
       "566   802247111496568832                    NaN                  NaN   \n",
       "\n",
       "                      timestamp  \\\n",
       "2271  2015-11-20 00:12:54 +0000   \n",
       "2174  2015-11-24 18:11:04 +0000   \n",
       "566   2016-11-25 20:26:31 +0000   \n",
       "\n",
       "                                                 source  \\\n",
       "2271  <a href=\"http://twitter.com\" rel=\"nofollow\">Tw...   \n",
       "2174  <a href=\"http://twitter.com/download/iphone\" r...   \n",
       "566   <a href=\"http://twitter.com/download/iphone\" r...   \n",
       "\n",
       "                                                   text  retweeted_status_id  \\\n",
       "2271  This is Philippe from Soviet Russia. Commandin...                  NaN   \n",
       "2174  This is Clarq. He's a golden Quetzalcoatl. Cla...                  NaN   \n",
       "566   RT @dog_rates: Everybody drop what you're doin...         7.790561e+17   \n",
       "\n",
       "      retweeted_status_user_id retweeted_status_timestamp  \\\n",
       "2271                       NaN                        NaN   \n",
       "2174                       NaN                        NaN   \n",
       "566               4.196984e+09  2016-09-22 20:33:42 +0000   \n",
       "\n",
       "                                          expanded_urls  rating_numerator  \\\n",
       "2271  https://twitter.com/dog_rates/status/667495797...                 9   \n",
       "2174  https://twitter.com/dog_rates/status/669216679...                 8   \n",
       "566   https://twitter.com/dog_rates/status/779056095...                13   \n",
       "\n",
       "      rating_denominator      name doggo floofer pupper puppo dog_stage  \n",
       "2271                  10  Philippe                                       \n",
       "2174                  10     Clarq                                       \n",
       "566                   10      None                                       "
      ]
     },
     "execution_count": 39,
     "metadata": {},
     "output_type": "execute_result"
    }
   ],
   "source": [
    "twitter_archive_clean.sample(3)"
   ]
  },
  {
   "cell_type": "code",
   "execution_count": 40,
   "metadata": {},
   "outputs": [
    {
     "data": {
      "text/plain": [
       "                 1976\n",
       "pupper            245\n",
       "doggo              83\n",
       "puppo              29\n",
       "doggo,pupper       12\n",
       "floofer             9\n",
       "doggo,floofer       1\n",
       "doggo,puppo         1\n",
       "Name: dog_stage, dtype: int64"
      ]
     },
     "execution_count": 40,
     "metadata": {},
     "output_type": "execute_result"
    }
   ],
   "source": [
    "twitter_archive_clean.dog_stage.value_counts()"
   ]
  },
  {
   "cell_type": "code",
   "execution_count": 41,
   "metadata": {},
   "outputs": [
    {
     "data": {
      "text/html": [
       "<div>\n",
       "<style scoped>\n",
       "    .dataframe tbody tr th:only-of-type {\n",
       "        vertical-align: middle;\n",
       "    }\n",
       "\n",
       "    .dataframe tbody tr th {\n",
       "        vertical-align: top;\n",
       "    }\n",
       "\n",
       "    .dataframe thead th {\n",
       "        text-align: right;\n",
       "    }\n",
       "</style>\n",
       "<table border=\"1\" class=\"dataframe\">\n",
       "  <thead>\n",
       "    <tr style=\"text-align: right;\">\n",
       "      <th></th>\n",
       "      <th>tweet_id</th>\n",
       "      <th>in_reply_to_status_id</th>\n",
       "      <th>in_reply_to_user_id</th>\n",
       "      <th>timestamp</th>\n",
       "      <th>source</th>\n",
       "      <th>text</th>\n",
       "      <th>retweeted_status_id</th>\n",
       "      <th>retweeted_status_user_id</th>\n",
       "      <th>retweeted_status_timestamp</th>\n",
       "      <th>expanded_urls</th>\n",
       "      <th>rating_numerator</th>\n",
       "      <th>rating_denominator</th>\n",
       "      <th>name</th>\n",
       "      <th>doggo</th>\n",
       "      <th>floofer</th>\n",
       "      <th>pupper</th>\n",
       "      <th>puppo</th>\n",
       "      <th>dog_stage</th>\n",
       "    </tr>\n",
       "  </thead>\n",
       "  <tbody>\n",
       "    <tr>\n",
       "      <th>460</th>\n",
       "      <td>817777686764523521</td>\n",
       "      <td>NaN</td>\n",
       "      <td>NaN</td>\n",
       "      <td>2017-01-07 16:59:28 +0000</td>\n",
       "      <td>&lt;a href=\"http://twitter.com/download/iphone\" r...</td>\n",
       "      <td>This is Dido. She's playing the lead role in \"...</td>\n",
       "      <td>NaN</td>\n",
       "      <td>NaN</td>\n",
       "      <td>NaN</td>\n",
       "      <td>https://twitter.com/dog_rates/status/817777686...</td>\n",
       "      <td>13</td>\n",
       "      <td>10</td>\n",
       "      <td>Dido</td>\n",
       "      <td>doggo</td>\n",
       "      <td></td>\n",
       "      <td>pupper</td>\n",
       "      <td></td>\n",
       "      <td>doggo,pupper</td>\n",
       "    </tr>\n",
       "    <tr>\n",
       "      <th>531</th>\n",
       "      <td>808106460588765185</td>\n",
       "      <td>NaN</td>\n",
       "      <td>NaN</td>\n",
       "      <td>2016-12-12 00:29:28 +0000</td>\n",
       "      <td>&lt;a href=\"http://twitter.com/download/iphone\" r...</td>\n",
       "      <td>Here we have Burke (pupper) and Dexter (doggo)...</td>\n",
       "      <td>NaN</td>\n",
       "      <td>NaN</td>\n",
       "      <td>NaN</td>\n",
       "      <td>https://twitter.com/dog_rates/status/808106460...</td>\n",
       "      <td>12</td>\n",
       "      <td>10</td>\n",
       "      <td>None</td>\n",
       "      <td>doggo</td>\n",
       "      <td></td>\n",
       "      <td>pupper</td>\n",
       "      <td></td>\n",
       "      <td>doggo,pupper</td>\n",
       "    </tr>\n",
       "    <tr>\n",
       "      <th>565</th>\n",
       "      <td>802265048156610565</td>\n",
       "      <td>7.331095e+17</td>\n",
       "      <td>4.196984e+09</td>\n",
       "      <td>2016-11-25 21:37:47 +0000</td>\n",
       "      <td>&lt;a href=\"http://twitter.com/download/iphone\" r...</td>\n",
       "      <td>Like doggo, like pupper version 2. Both 11/10 ...</td>\n",
       "      <td>NaN</td>\n",
       "      <td>NaN</td>\n",
       "      <td>NaN</td>\n",
       "      <td>https://twitter.com/dog_rates/status/802265048...</td>\n",
       "      <td>11</td>\n",
       "      <td>10</td>\n",
       "      <td>None</td>\n",
       "      <td>doggo</td>\n",
       "      <td></td>\n",
       "      <td>pupper</td>\n",
       "      <td></td>\n",
       "      <td>doggo,pupper</td>\n",
       "    </tr>\n",
       "    <tr>\n",
       "      <th>575</th>\n",
       "      <td>801115127852503040</td>\n",
       "      <td>NaN</td>\n",
       "      <td>NaN</td>\n",
       "      <td>2016-11-22 17:28:25 +0000</td>\n",
       "      <td>&lt;a href=\"http://twitter.com/download/iphone\" r...</td>\n",
       "      <td>This is Bones. He's being haunted by another d...</td>\n",
       "      <td>NaN</td>\n",
       "      <td>NaN</td>\n",
       "      <td>NaN</td>\n",
       "      <td>https://twitter.com/dog_rates/status/801115127...</td>\n",
       "      <td>12</td>\n",
       "      <td>10</td>\n",
       "      <td>Bones</td>\n",
       "      <td>doggo</td>\n",
       "      <td></td>\n",
       "      <td>pupper</td>\n",
       "      <td></td>\n",
       "      <td>doggo,pupper</td>\n",
       "    </tr>\n",
       "    <tr>\n",
       "      <th>705</th>\n",
       "      <td>785639753186217984</td>\n",
       "      <td>NaN</td>\n",
       "      <td>NaN</td>\n",
       "      <td>2016-10-11 00:34:48 +0000</td>\n",
       "      <td>&lt;a href=\"http://twitter.com/download/iphone\" r...</td>\n",
       "      <td>This is Pinot. He's a sophisticated doggo. You...</td>\n",
       "      <td>NaN</td>\n",
       "      <td>NaN</td>\n",
       "      <td>NaN</td>\n",
       "      <td>https://twitter.com/dog_rates/status/785639753...</td>\n",
       "      <td>10</td>\n",
       "      <td>10</td>\n",
       "      <td>Pinot</td>\n",
       "      <td>doggo</td>\n",
       "      <td></td>\n",
       "      <td>pupper</td>\n",
       "      <td></td>\n",
       "      <td>doggo,pupper</td>\n",
       "    </tr>\n",
       "    <tr>\n",
       "      <th>733</th>\n",
       "      <td>781308096455073793</td>\n",
       "      <td>NaN</td>\n",
       "      <td>NaN</td>\n",
       "      <td>2016-09-29 01:42:20 +0000</td>\n",
       "      <td>&lt;a href=\"http://vine.co\" rel=\"nofollow\"&gt;Vine -...</td>\n",
       "      <td>Pupper butt 1, Doggo 0. Both 12/10 https://t.c...</td>\n",
       "      <td>NaN</td>\n",
       "      <td>NaN</td>\n",
       "      <td>NaN</td>\n",
       "      <td>https://vine.co/v/5rgu2Law2ut</td>\n",
       "      <td>12</td>\n",
       "      <td>10</td>\n",
       "      <td>None</td>\n",
       "      <td>doggo</td>\n",
       "      <td></td>\n",
       "      <td>pupper</td>\n",
       "      <td></td>\n",
       "      <td>doggo,pupper</td>\n",
       "    </tr>\n",
       "    <tr>\n",
       "      <th>778</th>\n",
       "      <td>775898661951791106</td>\n",
       "      <td>NaN</td>\n",
       "      <td>NaN</td>\n",
       "      <td>2016-09-14 03:27:11 +0000</td>\n",
       "      <td>&lt;a href=\"http://twitter.com/download/iphone\" r...</td>\n",
       "      <td>RT @dog_rates: Like father (doggo), like son (...</td>\n",
       "      <td>7.331095e+17</td>\n",
       "      <td>4.196984e+09</td>\n",
       "      <td>2016-05-19 01:38:16 +0000</td>\n",
       "      <td>https://twitter.com/dog_rates/status/733109485...</td>\n",
       "      <td>12</td>\n",
       "      <td>10</td>\n",
       "      <td>None</td>\n",
       "      <td>doggo</td>\n",
       "      <td></td>\n",
       "      <td>pupper</td>\n",
       "      <td></td>\n",
       "      <td>doggo,pupper</td>\n",
       "    </tr>\n",
       "    <tr>\n",
       "      <th>822</th>\n",
       "      <td>770093767776997377</td>\n",
       "      <td>NaN</td>\n",
       "      <td>NaN</td>\n",
       "      <td>2016-08-29 03:00:36 +0000</td>\n",
       "      <td>&lt;a href=\"http://twitter.com/download/iphone\" r...</td>\n",
       "      <td>RT @dog_rates: This is just downright precious...</td>\n",
       "      <td>7.410673e+17</td>\n",
       "      <td>4.196984e+09</td>\n",
       "      <td>2016-06-10 00:39:48 +0000</td>\n",
       "      <td>https://twitter.com/dog_rates/status/741067306...</td>\n",
       "      <td>12</td>\n",
       "      <td>10</td>\n",
       "      <td>just</td>\n",
       "      <td>doggo</td>\n",
       "      <td></td>\n",
       "      <td>pupper</td>\n",
       "      <td></td>\n",
       "      <td>doggo,pupper</td>\n",
       "    </tr>\n",
       "    <tr>\n",
       "      <th>889</th>\n",
       "      <td>759793422261743616</td>\n",
       "      <td>NaN</td>\n",
       "      <td>NaN</td>\n",
       "      <td>2016-07-31 16:50:42 +0000</td>\n",
       "      <td>&lt;a href=\"http://twitter.com/download/iphone\" r...</td>\n",
       "      <td>Meet Maggie &amp;amp; Lila. Maggie is the doggo, L...</td>\n",
       "      <td>NaN</td>\n",
       "      <td>NaN</td>\n",
       "      <td>NaN</td>\n",
       "      <td>https://twitter.com/dog_rates/status/759793422...</td>\n",
       "      <td>12</td>\n",
       "      <td>10</td>\n",
       "      <td>Maggie</td>\n",
       "      <td>doggo</td>\n",
       "      <td></td>\n",
       "      <td>pupper</td>\n",
       "      <td></td>\n",
       "      <td>doggo,pupper</td>\n",
       "    </tr>\n",
       "    <tr>\n",
       "      <th>956</th>\n",
       "      <td>751583847268179968</td>\n",
       "      <td>NaN</td>\n",
       "      <td>NaN</td>\n",
       "      <td>2016-07-09 01:08:47 +0000</td>\n",
       "      <td>&lt;a href=\"http://twitter.com/download/iphone\" r...</td>\n",
       "      <td>Please stop sending it pictures that don't eve...</td>\n",
       "      <td>NaN</td>\n",
       "      <td>NaN</td>\n",
       "      <td>NaN</td>\n",
       "      <td>https://twitter.com/dog_rates/status/751583847...</td>\n",
       "      <td>5</td>\n",
       "      <td>10</td>\n",
       "      <td>None</td>\n",
       "      <td>doggo</td>\n",
       "      <td></td>\n",
       "      <td>pupper</td>\n",
       "      <td></td>\n",
       "      <td>doggo,pupper</td>\n",
       "    </tr>\n",
       "    <tr>\n",
       "      <th>1063</th>\n",
       "      <td>741067306818797568</td>\n",
       "      <td>NaN</td>\n",
       "      <td>NaN</td>\n",
       "      <td>2016-06-10 00:39:48 +0000</td>\n",
       "      <td>&lt;a href=\"http://twitter.com/download/iphone\" r...</td>\n",
       "      <td>This is just downright precious af. 12/10 for ...</td>\n",
       "      <td>NaN</td>\n",
       "      <td>NaN</td>\n",
       "      <td>NaN</td>\n",
       "      <td>https://twitter.com/dog_rates/status/741067306...</td>\n",
       "      <td>12</td>\n",
       "      <td>10</td>\n",
       "      <td>just</td>\n",
       "      <td>doggo</td>\n",
       "      <td></td>\n",
       "      <td>pupper</td>\n",
       "      <td></td>\n",
       "      <td>doggo,pupper</td>\n",
       "    </tr>\n",
       "    <tr>\n",
       "      <th>1113</th>\n",
       "      <td>733109485275860992</td>\n",
       "      <td>NaN</td>\n",
       "      <td>NaN</td>\n",
       "      <td>2016-05-19 01:38:16 +0000</td>\n",
       "      <td>&lt;a href=\"http://twitter.com/download/iphone\" r...</td>\n",
       "      <td>Like father (doggo), like son (pupper). Both 1...</td>\n",
       "      <td>NaN</td>\n",
       "      <td>NaN</td>\n",
       "      <td>NaN</td>\n",
       "      <td>https://twitter.com/dog_rates/status/733109485...</td>\n",
       "      <td>12</td>\n",
       "      <td>10</td>\n",
       "      <td>None</td>\n",
       "      <td>doggo</td>\n",
       "      <td></td>\n",
       "      <td>pupper</td>\n",
       "      <td></td>\n",
       "      <td>doggo,pupper</td>\n",
       "    </tr>\n",
       "  </tbody>\n",
       "</table>\n",
       "</div>"
      ],
      "text/plain": [
       "                tweet_id  in_reply_to_status_id  in_reply_to_user_id  \\\n",
       "460   817777686764523521                    NaN                  NaN   \n",
       "531   808106460588765185                    NaN                  NaN   \n",
       "565   802265048156610565           7.331095e+17         4.196984e+09   \n",
       "575   801115127852503040                    NaN                  NaN   \n",
       "705   785639753186217984                    NaN                  NaN   \n",
       "733   781308096455073793                    NaN                  NaN   \n",
       "778   775898661951791106                    NaN                  NaN   \n",
       "822   770093767776997377                    NaN                  NaN   \n",
       "889   759793422261743616                    NaN                  NaN   \n",
       "956   751583847268179968                    NaN                  NaN   \n",
       "1063  741067306818797568                    NaN                  NaN   \n",
       "1113  733109485275860992                    NaN                  NaN   \n",
       "\n",
       "                      timestamp  \\\n",
       "460   2017-01-07 16:59:28 +0000   \n",
       "531   2016-12-12 00:29:28 +0000   \n",
       "565   2016-11-25 21:37:47 +0000   \n",
       "575   2016-11-22 17:28:25 +0000   \n",
       "705   2016-10-11 00:34:48 +0000   \n",
       "733   2016-09-29 01:42:20 +0000   \n",
       "778   2016-09-14 03:27:11 +0000   \n",
       "822   2016-08-29 03:00:36 +0000   \n",
       "889   2016-07-31 16:50:42 +0000   \n",
       "956   2016-07-09 01:08:47 +0000   \n",
       "1063  2016-06-10 00:39:48 +0000   \n",
       "1113  2016-05-19 01:38:16 +0000   \n",
       "\n",
       "                                                 source  \\\n",
       "460   <a href=\"http://twitter.com/download/iphone\" r...   \n",
       "531   <a href=\"http://twitter.com/download/iphone\" r...   \n",
       "565   <a href=\"http://twitter.com/download/iphone\" r...   \n",
       "575   <a href=\"http://twitter.com/download/iphone\" r...   \n",
       "705   <a href=\"http://twitter.com/download/iphone\" r...   \n",
       "733   <a href=\"http://vine.co\" rel=\"nofollow\">Vine -...   \n",
       "778   <a href=\"http://twitter.com/download/iphone\" r...   \n",
       "822   <a href=\"http://twitter.com/download/iphone\" r...   \n",
       "889   <a href=\"http://twitter.com/download/iphone\" r...   \n",
       "956   <a href=\"http://twitter.com/download/iphone\" r...   \n",
       "1063  <a href=\"http://twitter.com/download/iphone\" r...   \n",
       "1113  <a href=\"http://twitter.com/download/iphone\" r...   \n",
       "\n",
       "                                                   text  retweeted_status_id  \\\n",
       "460   This is Dido. She's playing the lead role in \"...                  NaN   \n",
       "531   Here we have Burke (pupper) and Dexter (doggo)...                  NaN   \n",
       "565   Like doggo, like pupper version 2. Both 11/10 ...                  NaN   \n",
       "575   This is Bones. He's being haunted by another d...                  NaN   \n",
       "705   This is Pinot. He's a sophisticated doggo. You...                  NaN   \n",
       "733   Pupper butt 1, Doggo 0. Both 12/10 https://t.c...                  NaN   \n",
       "778   RT @dog_rates: Like father (doggo), like son (...         7.331095e+17   \n",
       "822   RT @dog_rates: This is just downright precious...         7.410673e+17   \n",
       "889   Meet Maggie &amp; Lila. Maggie is the doggo, L...                  NaN   \n",
       "956   Please stop sending it pictures that don't eve...                  NaN   \n",
       "1063  This is just downright precious af. 12/10 for ...                  NaN   \n",
       "1113  Like father (doggo), like son (pupper). Both 1...                  NaN   \n",
       "\n",
       "      retweeted_status_user_id retweeted_status_timestamp  \\\n",
       "460                        NaN                        NaN   \n",
       "531                        NaN                        NaN   \n",
       "565                        NaN                        NaN   \n",
       "575                        NaN                        NaN   \n",
       "705                        NaN                        NaN   \n",
       "733                        NaN                        NaN   \n",
       "778               4.196984e+09  2016-05-19 01:38:16 +0000   \n",
       "822               4.196984e+09  2016-06-10 00:39:48 +0000   \n",
       "889                        NaN                        NaN   \n",
       "956                        NaN                        NaN   \n",
       "1063                       NaN                        NaN   \n",
       "1113                       NaN                        NaN   \n",
       "\n",
       "                                          expanded_urls  rating_numerator  \\\n",
       "460   https://twitter.com/dog_rates/status/817777686...                13   \n",
       "531   https://twitter.com/dog_rates/status/808106460...                12   \n",
       "565   https://twitter.com/dog_rates/status/802265048...                11   \n",
       "575   https://twitter.com/dog_rates/status/801115127...                12   \n",
       "705   https://twitter.com/dog_rates/status/785639753...                10   \n",
       "733                       https://vine.co/v/5rgu2Law2ut                12   \n",
       "778   https://twitter.com/dog_rates/status/733109485...                12   \n",
       "822   https://twitter.com/dog_rates/status/741067306...                12   \n",
       "889   https://twitter.com/dog_rates/status/759793422...                12   \n",
       "956   https://twitter.com/dog_rates/status/751583847...                 5   \n",
       "1063  https://twitter.com/dog_rates/status/741067306...                12   \n",
       "1113  https://twitter.com/dog_rates/status/733109485...                12   \n",
       "\n",
       "      rating_denominator    name  doggo floofer  pupper puppo     dog_stage  \n",
       "460                   10    Dido  doggo          pupper        doggo,pupper  \n",
       "531                   10    None  doggo          pupper        doggo,pupper  \n",
       "565                   10    None  doggo          pupper        doggo,pupper  \n",
       "575                   10   Bones  doggo          pupper        doggo,pupper  \n",
       "705                   10   Pinot  doggo          pupper        doggo,pupper  \n",
       "733                   10    None  doggo          pupper        doggo,pupper  \n",
       "778                   10    None  doggo          pupper        doggo,pupper  \n",
       "822                   10    just  doggo          pupper        doggo,pupper  \n",
       "889                   10  Maggie  doggo          pupper        doggo,pupper  \n",
       "956                   10    None  doggo          pupper        doggo,pupper  \n",
       "1063                  10    just  doggo          pupper        doggo,pupper  \n",
       "1113                  10    None  doggo          pupper        doggo,pupper  "
      ]
     },
     "execution_count": 41,
     "metadata": {},
     "output_type": "execute_result"
    }
   ],
   "source": [
    "twitter_archive_clean.loc[twitter_archive_clean['dog_stage']=='doggo,pupper',:]"
   ]
  },
  {
   "cell_type": "markdown",
   "metadata": {},
   "source": [
    "#### Define\n",
    "\n",
    "Drop `doggo`,`floofer`,`pupper`,`puppo` columns\n",
    "\n",
    "#### Code"
   ]
  },
  {
   "cell_type": "code",
   "execution_count": 42,
   "metadata": {},
   "outputs": [],
   "source": [
    "twitter_archive_clean.drop(columns=['doggo','floofer','pupper','puppo'], inplace=True)"
   ]
  },
  {
   "cell_type": "markdown",
   "metadata": {},
   "source": [
    "#### Test"
   ]
  },
  {
   "cell_type": "code",
   "execution_count": 43,
   "metadata": {},
   "outputs": [
    {
     "data": {
      "text/html": [
       "<div>\n",
       "<style scoped>\n",
       "    .dataframe tbody tr th:only-of-type {\n",
       "        vertical-align: middle;\n",
       "    }\n",
       "\n",
       "    .dataframe tbody tr th {\n",
       "        vertical-align: top;\n",
       "    }\n",
       "\n",
       "    .dataframe thead th {\n",
       "        text-align: right;\n",
       "    }\n",
       "</style>\n",
       "<table border=\"1\" class=\"dataframe\">\n",
       "  <thead>\n",
       "    <tr style=\"text-align: right;\">\n",
       "      <th></th>\n",
       "      <th>tweet_id</th>\n",
       "      <th>in_reply_to_status_id</th>\n",
       "      <th>in_reply_to_user_id</th>\n",
       "      <th>timestamp</th>\n",
       "      <th>source</th>\n",
       "      <th>text</th>\n",
       "      <th>retweeted_status_id</th>\n",
       "      <th>retweeted_status_user_id</th>\n",
       "      <th>retweeted_status_timestamp</th>\n",
       "      <th>expanded_urls</th>\n",
       "      <th>rating_numerator</th>\n",
       "      <th>rating_denominator</th>\n",
       "      <th>name</th>\n",
       "      <th>dog_stage</th>\n",
       "    </tr>\n",
       "  </thead>\n",
       "  <tbody>\n",
       "    <tr>\n",
       "      <th>625</th>\n",
       "      <td>795400264262053889</td>\n",
       "      <td>NaN</td>\n",
       "      <td>NaN</td>\n",
       "      <td>2016-11-06 22:59:35 +0000</td>\n",
       "      <td>&lt;a href=\"http://twitter.com/download/iphone\" r...</td>\n",
       "      <td>This is Brody. He's trying to make the same fa...</td>\n",
       "      <td>NaN</td>\n",
       "      <td>NaN</td>\n",
       "      <td>NaN</td>\n",
       "      <td>https://twitter.com/dog_rates/status/795400264...</td>\n",
       "      <td>12</td>\n",
       "      <td>10</td>\n",
       "      <td>Brody</td>\n",
       "      <td></td>\n",
       "    </tr>\n",
       "    <tr>\n",
       "      <th>516</th>\n",
       "      <td>810984652412424192</td>\n",
       "      <td>NaN</td>\n",
       "      <td>NaN</td>\n",
       "      <td>2016-12-19 23:06:23 +0000</td>\n",
       "      <td>&lt;a href=\"http://twitter.com/download/iphone\" r...</td>\n",
       "      <td>Meet Sam. She smiles 24/7 &amp;amp; secretly aspir...</td>\n",
       "      <td>NaN</td>\n",
       "      <td>NaN</td>\n",
       "      <td>NaN</td>\n",
       "      <td>https://www.gofundme.com/sams-smile,https://tw...</td>\n",
       "      <td>24</td>\n",
       "      <td>7</td>\n",
       "      <td>Sam</td>\n",
       "      <td></td>\n",
       "    </tr>\n",
       "    <tr>\n",
       "      <th>1339</th>\n",
       "      <td>704871453724954624</td>\n",
       "      <td>6.671522e+17</td>\n",
       "      <td>4.196984e+09</td>\n",
       "      <td>2016-03-02 03:30:25 +0000</td>\n",
       "      <td>&lt;a href=\"http://twitter.com/download/iphone\" r...</td>\n",
       "      <td>I found a forest Pipsy. 12/10 https://t.co/mIQ...</td>\n",
       "      <td>NaN</td>\n",
       "      <td>NaN</td>\n",
       "      <td>NaN</td>\n",
       "      <td>https://twitter.com/dog_rates/status/704871453...</td>\n",
       "      <td>12</td>\n",
       "      <td>10</td>\n",
       "      <td>None</td>\n",
       "      <td></td>\n",
       "    </tr>\n",
       "  </tbody>\n",
       "</table>\n",
       "</div>"
      ],
      "text/plain": [
       "                tweet_id  in_reply_to_status_id  in_reply_to_user_id  \\\n",
       "625   795400264262053889                    NaN                  NaN   \n",
       "516   810984652412424192                    NaN                  NaN   \n",
       "1339  704871453724954624           6.671522e+17         4.196984e+09   \n",
       "\n",
       "                      timestamp  \\\n",
       "625   2016-11-06 22:59:35 +0000   \n",
       "516   2016-12-19 23:06:23 +0000   \n",
       "1339  2016-03-02 03:30:25 +0000   \n",
       "\n",
       "                                                 source  \\\n",
       "625   <a href=\"http://twitter.com/download/iphone\" r...   \n",
       "516   <a href=\"http://twitter.com/download/iphone\" r...   \n",
       "1339  <a href=\"http://twitter.com/download/iphone\" r...   \n",
       "\n",
       "                                                   text  retweeted_status_id  \\\n",
       "625   This is Brody. He's trying to make the same fa...                  NaN   \n",
       "516   Meet Sam. She smiles 24/7 &amp; secretly aspir...                  NaN   \n",
       "1339  I found a forest Pipsy. 12/10 https://t.co/mIQ...                  NaN   \n",
       "\n",
       "      retweeted_status_user_id retweeted_status_timestamp  \\\n",
       "625                        NaN                        NaN   \n",
       "516                        NaN                        NaN   \n",
       "1339                       NaN                        NaN   \n",
       "\n",
       "                                          expanded_urls  rating_numerator  \\\n",
       "625   https://twitter.com/dog_rates/status/795400264...                12   \n",
       "516   https://www.gofundme.com/sams-smile,https://tw...                24   \n",
       "1339  https://twitter.com/dog_rates/status/704871453...                12   \n",
       "\n",
       "      rating_denominator   name dog_stage  \n",
       "625                   10  Brody            \n",
       "516                    7    Sam            \n",
       "1339                  10   None            "
      ]
     },
     "execution_count": 43,
     "metadata": {},
     "output_type": "execute_result"
    }
   ],
   "source": [
    "twitter_archive_clean.sample(3)"
   ]
  },
  {
   "cell_type": "markdown",
   "metadata": {},
   "source": [
    "<a id='1_quality'></a>\n",
    "#### 1. Quality: \n",
    "\n",
    "#### Define\n",
    "- Delete columns that won't be used for analysis: `in_reply_to_status_id`,`in_reply_to_user_id`,`retweeted_status_user_id`,\n",
    "`retweeted_status_timestamp`,`expanded_urls`\n",
    "\n",
    "#### Code"
   ]
  },
  {
   "cell_type": "code",
   "execution_count": 44,
   "metadata": {},
   "outputs": [],
   "source": [
    "del_cols_twitter_archive = ['in_reply_to_status_id', \n",
    "                            'in_reply_to_user_id',\n",
    "                            'retweeted_status_user_id',\n",
    "                            'retweeted_status_timestamp',\n",
    "                            'expanded_urls']\n",
    "\n",
    "twitter_archive_clean.drop(columns=del_cols_twitter_archive, inplace=True)"
   ]
  },
  {
   "cell_type": "markdown",
   "metadata": {},
   "source": [
    "#### Test"
   ]
  },
  {
   "cell_type": "code",
   "execution_count": 45,
   "metadata": {
    "scrolled": true
   },
   "outputs": [
    {
     "data": {
      "text/html": [
       "<div>\n",
       "<style scoped>\n",
       "    .dataframe tbody tr th:only-of-type {\n",
       "        vertical-align: middle;\n",
       "    }\n",
       "\n",
       "    .dataframe tbody tr th {\n",
       "        vertical-align: top;\n",
       "    }\n",
       "\n",
       "    .dataframe thead th {\n",
       "        text-align: right;\n",
       "    }\n",
       "</style>\n",
       "<table border=\"1\" class=\"dataframe\">\n",
       "  <thead>\n",
       "    <tr style=\"text-align: right;\">\n",
       "      <th></th>\n",
       "      <th>tweet_id</th>\n",
       "      <th>timestamp</th>\n",
       "      <th>source</th>\n",
       "      <th>text</th>\n",
       "      <th>retweeted_status_id</th>\n",
       "      <th>rating_numerator</th>\n",
       "      <th>rating_denominator</th>\n",
       "      <th>name</th>\n",
       "      <th>dog_stage</th>\n",
       "    </tr>\n",
       "  </thead>\n",
       "  <tbody>\n",
       "    <tr>\n",
       "      <th>0</th>\n",
       "      <td>892420643555336193</td>\n",
       "      <td>2017-08-01 16:23:56 +0000</td>\n",
       "      <td>&lt;a href=\"http://twitter.com/download/iphone\" r...</td>\n",
       "      <td>This is Phineas. He's a mystical boy. Only eve...</td>\n",
       "      <td>NaN</td>\n",
       "      <td>13</td>\n",
       "      <td>10</td>\n",
       "      <td>Phineas</td>\n",
       "      <td></td>\n",
       "    </tr>\n",
       "  </tbody>\n",
       "</table>\n",
       "</div>"
      ],
      "text/plain": [
       "             tweet_id                  timestamp  \\\n",
       "0  892420643555336193  2017-08-01 16:23:56 +0000   \n",
       "\n",
       "                                              source  \\\n",
       "0  <a href=\"http://twitter.com/download/iphone\" r...   \n",
       "\n",
       "                                                text  retweeted_status_id  \\\n",
       "0  This is Phineas. He's a mystical boy. Only eve...                  NaN   \n",
       "\n",
       "   rating_numerator  rating_denominator     name dog_stage  \n",
       "0                13                  10  Phineas            "
      ]
     },
     "execution_count": 45,
     "metadata": {},
     "output_type": "execute_result"
    }
   ],
   "source": [
    "twitter_archive_clean.head(1)"
   ]
  },
  {
   "cell_type": "markdown",
   "metadata": {},
   "source": [
    "<a id='2_quality'></a>\n",
    "#### 2. Quality:\n",
    "\n",
    "#### Define\n",
    "- ID fields need to be stored as strings: `tweet_id`\n",
    "\n",
    "#### Code"
   ]
  },
  {
   "cell_type": "code",
   "execution_count": 46,
   "metadata": {},
   "outputs": [],
   "source": [
    "twitter_archive_clean.tweet_id = twitter_archive_clean.tweet_id.astype(str)"
   ]
  },
  {
   "cell_type": "markdown",
   "metadata": {},
   "source": [
    "#### Test"
   ]
  },
  {
   "cell_type": "code",
   "execution_count": 47,
   "metadata": {
    "scrolled": true
   },
   "outputs": [
    {
     "name": "stdout",
     "output_type": "stream",
     "text": [
      "<class 'pandas.core.frame.DataFrame'>\n",
      "RangeIndex: 2356 entries, 0 to 2355\n",
      "Data columns (total 9 columns):\n",
      "tweet_id               2356 non-null object\n",
      "timestamp              2356 non-null object\n",
      "source                 2356 non-null object\n",
      "text                   2356 non-null object\n",
      "retweeted_status_id    181 non-null float64\n",
      "rating_numerator       2356 non-null int64\n",
      "rating_denominator     2356 non-null int64\n",
      "name                   2356 non-null object\n",
      "dog_stage              2356 non-null object\n",
      "dtypes: float64(1), int64(2), object(6)\n",
      "memory usage: 165.7+ KB\n"
     ]
    }
   ],
   "source": [
    "twitter_archive_clean.info()"
   ]
  },
  {
   "cell_type": "markdown",
   "metadata": {},
   "source": [
    "<a id='3_quality'></a>\n",
    "#### 3. Quality:\n",
    "\n",
    "#### Define\n",
    "- Incorrect values in rating numerators\n",
    "\n",
    "#### Code"
   ]
  },
  {
   "cell_type": "code",
   "execution_count": 48,
   "metadata": {},
   "outputs": [],
   "source": [
    "# This quality won't be corrected in this project"
   ]
  },
  {
   "cell_type": "markdown",
   "metadata": {},
   "source": [
    "#### Test"
   ]
  },
  {
   "cell_type": "code",
   "execution_count": 49,
   "metadata": {},
   "outputs": [],
   "source": [
    "# This quality won't be corrected in this project"
   ]
  },
  {
   "cell_type": "markdown",
   "metadata": {},
   "source": [
    "<a id='4_quality'></a>\n",
    "#### 4. Quality:\n",
    "\n",
    "#### Define\n",
    "- data format should be <b>integer</b> instead of <b>float</b>: <s>`in_reply_to_status_id`</s>, <s>`in_reply_to_user_id`</s>, `retweeted_status_id`, <s>`retweeted_status_user_id`</s>\n",
    "\n",
    "#### Code"
   ]
  },
  {
   "cell_type": "code",
   "execution_count": 50,
   "metadata": {},
   "outputs": [
    {
     "name": "stdout",
     "output_type": "stream",
     "text": [
      "<class 'pandas.core.frame.DataFrame'>\n",
      "RangeIndex: 2356 entries, 0 to 2355\n",
      "Data columns (total 9 columns):\n",
      "tweet_id               2356 non-null object\n",
      "timestamp              2356 non-null object\n",
      "source                 2356 non-null object\n",
      "text                   2356 non-null object\n",
      "retweeted_status_id    181 non-null float64\n",
      "rating_numerator       2356 non-null int64\n",
      "rating_denominator     2356 non-null int64\n",
      "name                   2356 non-null object\n",
      "dog_stage              2356 non-null object\n",
      "dtypes: float64(1), int64(2), object(6)\n",
      "memory usage: 165.7+ KB\n"
     ]
    }
   ],
   "source": [
    "twitter_archive_clean.info()"
   ]
  },
  {
   "cell_type": "code",
   "execution_count": 51,
   "metadata": {},
   "outputs": [],
   "source": [
    "twitter_archive_clean.loc[:,'retweeted_status_id'] = twitter_archive_clean.loc[:,'retweeted_status_id'].\\\n",
    "                                               fillna(0).astype(int)"
   ]
  },
  {
   "cell_type": "markdown",
   "metadata": {},
   "source": [
    "####  Test"
   ]
  },
  {
   "cell_type": "code",
   "execution_count": 52,
   "metadata": {},
   "outputs": [
    {
     "name": "stdout",
     "output_type": "stream",
     "text": [
      "<class 'pandas.core.frame.DataFrame'>\n",
      "RangeIndex: 2356 entries, 0 to 2355\n",
      "Data columns (total 9 columns):\n",
      "tweet_id               2356 non-null object\n",
      "timestamp              2356 non-null object\n",
      "source                 2356 non-null object\n",
      "text                   2356 non-null object\n",
      "retweeted_status_id    2356 non-null int64\n",
      "rating_numerator       2356 non-null int64\n",
      "rating_denominator     2356 non-null int64\n",
      "name                   2356 non-null object\n",
      "dog_stage              2356 non-null object\n",
      "dtypes: int64(3), object(6)\n",
      "memory usage: 165.7+ KB\n"
     ]
    }
   ],
   "source": [
    "twitter_archive_clean.info()"
   ]
  },
  {
   "cell_type": "markdown",
   "metadata": {},
   "source": [
    "<a id='5_quality'></a>\n",
    "#### 5. Quality:\n",
    "\n",
    "#### Define\n",
    "\n",
    "- data format should be <b>category</b> instead of <b>object</b>: `source`, `doggo`, `floofer`, `pupper`, `puppo`\n",
    "\n",
    "#### Code"
   ]
  },
  {
   "cell_type": "code",
   "execution_count": 53,
   "metadata": {},
   "outputs": [],
   "source": [
    "twitter_archive_clean.loc[:,['source','dog_stage']] = \\\n",
    "twitter_archive_clean.loc[:,['source','dog_stage']].fillna(0).astype('category')"
   ]
  },
  {
   "cell_type": "markdown",
   "metadata": {},
   "source": [
    "####  Test"
   ]
  },
  {
   "cell_type": "code",
   "execution_count": 54,
   "metadata": {},
   "outputs": [
    {
     "name": "stdout",
     "output_type": "stream",
     "text": [
      "<class 'pandas.core.frame.DataFrame'>\n",
      "RangeIndex: 2356 entries, 0 to 2355\n",
      "Data columns (total 9 columns):\n",
      "tweet_id               2356 non-null object\n",
      "timestamp              2356 non-null object\n",
      "source                 2356 non-null category\n",
      "text                   2356 non-null object\n",
      "retweeted_status_id    2356 non-null int64\n",
      "rating_numerator       2356 non-null int64\n",
      "rating_denominator     2356 non-null int64\n",
      "name                   2356 non-null object\n",
      "dog_stage              2356 non-null category\n",
      "dtypes: category(2), int64(3), object(4)\n",
      "memory usage: 134.1+ KB\n"
     ]
    }
   ],
   "source": [
    "twitter_archive_clean.info()"
   ]
  },
  {
   "cell_type": "markdown",
   "metadata": {},
   "source": [
    "<a id='6_quality'></a>\n",
    "#### 6. Quality:\n",
    "\n",
    "#### Define\n",
    "\n",
    "- data format should be <b>timestamp</b> instead of <b>object</b>: `timestamp`, <s>`retweeted_status_timestamp`</s>\n",
    "\n",
    "#### Code"
   ]
  },
  {
   "cell_type": "code",
   "execution_count": 55,
   "metadata": {},
   "outputs": [],
   "source": [
    "twitter_archive_clean.loc[:,'timestamp'] = pd.to_datetime(twitter_archive_clean['timestamp'])"
   ]
  },
  {
   "cell_type": "markdown",
   "metadata": {},
   "source": [
    "#### Test"
   ]
  },
  {
   "cell_type": "code",
   "execution_count": 56,
   "metadata": {},
   "outputs": [
    {
     "name": "stdout",
     "output_type": "stream",
     "text": [
      "<class 'pandas.core.frame.DataFrame'>\n",
      "RangeIndex: 2356 entries, 0 to 2355\n",
      "Data columns (total 9 columns):\n",
      "tweet_id               2356 non-null object\n",
      "timestamp              2356 non-null datetime64[ns, UTC]\n",
      "source                 2356 non-null category\n",
      "text                   2356 non-null object\n",
      "retweeted_status_id    2356 non-null int64\n",
      "rating_numerator       2356 non-null int64\n",
      "rating_denominator     2356 non-null int64\n",
      "name                   2356 non-null object\n",
      "dog_stage              2356 non-null category\n",
      "dtypes: category(2), datetime64[ns, UTC](1), int64(3), object(3)\n",
      "memory usage: 134.1+ KB\n"
     ]
    }
   ],
   "source": [
    "twitter_archive_clean.info()"
   ]
  },
  {
   "cell_type": "markdown",
   "metadata": {},
   "source": [
    "<a id='7_quality'></a>\n",
    "#### 7. Quality\n",
    "\n",
    "#### Define\n",
    "\n",
    "- Several columns has the string <b>None</b> instead of <b>NaN</b> (null objects are non-null)\n",
    "\n",
    "#### Code"
   ]
  },
  {
   "cell_type": "code",
   "execution_count": 57,
   "metadata": {},
   "outputs": [],
   "source": [
    "twitter_archive_clean.replace('None', np.NAN, inplace=True)\n",
    "twitter_archive_clean.loc[:,'retweeted_status_id'].replace(0, np.NAN, inplace=True)"
   ]
  },
  {
   "cell_type": "markdown",
   "metadata": {},
   "source": [
    "#### Test"
   ]
  },
  {
   "cell_type": "code",
   "execution_count": 58,
   "metadata": {},
   "outputs": [
    {
     "data": {
      "text/plain": [
       "tweet_id                  0\n",
       "timestamp                 0\n",
       "source                    0\n",
       "text                      0\n",
       "retweeted_status_id    2175\n",
       "rating_numerator          0\n",
       "rating_denominator        0\n",
       "name                    745\n",
       "dog_stage                 0\n",
       "dtype: int64"
      ]
     },
     "execution_count": 58,
     "metadata": {},
     "output_type": "execute_result"
    }
   ],
   "source": [
    "twitter_archive_clean.isna().sum()"
   ]
  },
  {
   "cell_type": "markdown",
   "metadata": {},
   "source": [
    "<a id='8_quality'></a>\n",
    "#### 8. Quality\n",
    "\n",
    "#### Define\n",
    "- `source` has dirt in data fields, need to be more readable\n",
    "\n",
    "#### Code"
   ]
  },
  {
   "cell_type": "code",
   "execution_count": 59,
   "metadata": {},
   "outputs": [
    {
     "data": {
      "text/plain": [
       "[<a href=\"http://twitter.com/download/iphone\" r..., <a href=\"http://twitter.com\" rel=\"nofollow\">Tw..., <a href=\"http://vine.co\" rel=\"nofollow\">Vine -..., <a href=\"https://about.twitter.com/products/tw...]\n",
       "Categories (4, object): [<a href=\"http://twitter.com/download/iphone\" r..., <a href=\"http://twitter.com\" rel=\"nofollow\">Tw..., <a href=\"http://vine.co\" rel=\"nofollow\">Vine -..., <a href=\"https://about.twitter.com/products/tw...]"
      ]
     },
     "execution_count": 59,
     "metadata": {},
     "output_type": "execute_result"
    }
   ],
   "source": [
    "twitter_archive_clean.loc[:,'source'].unique()"
   ]
  },
  {
   "cell_type": "code",
   "execution_count": 60,
   "metadata": {},
   "outputs": [],
   "source": [
    "def remove_html_tags(text):\n",
    "    \"\"\"Remove html tags from a string\"\"\"\n",
    "    import re\n",
    "    clean = re.compile('<.*?>')\n",
    "    return re.sub(clean, '', text)\n",
    "\n",
    "\n",
    "twitter_archive_clean.loc[:,'source'] = twitter_archive_clean.loc[:,'source'].apply(remove_html_tags)"
   ]
  },
  {
   "cell_type": "markdown",
   "metadata": {},
   "source": [
    "#### Test"
   ]
  },
  {
   "cell_type": "code",
   "execution_count": 61,
   "metadata": {},
   "outputs": [
    {
     "data": {
      "text/html": [
       "<div>\n",
       "<style scoped>\n",
       "    .dataframe tbody tr th:only-of-type {\n",
       "        vertical-align: middle;\n",
       "    }\n",
       "\n",
       "    .dataframe tbody tr th {\n",
       "        vertical-align: top;\n",
       "    }\n",
       "\n",
       "    .dataframe thead th {\n",
       "        text-align: right;\n",
       "    }\n",
       "</style>\n",
       "<table border=\"1\" class=\"dataframe\">\n",
       "  <thead>\n",
       "    <tr style=\"text-align: right;\">\n",
       "      <th></th>\n",
       "      <th>tweet_id</th>\n",
       "      <th>timestamp</th>\n",
       "      <th>source</th>\n",
       "      <th>text</th>\n",
       "      <th>retweeted_status_id</th>\n",
       "      <th>rating_numerator</th>\n",
       "      <th>rating_denominator</th>\n",
       "      <th>name</th>\n",
       "      <th>dog_stage</th>\n",
       "    </tr>\n",
       "  </thead>\n",
       "  <tbody>\n",
       "    <tr>\n",
       "      <th>0</th>\n",
       "      <td>892420643555336193</td>\n",
       "      <td>2017-08-01 16:23:56+00:00</td>\n",
       "      <td>Twitter for iPhone</td>\n",
       "      <td>This is Phineas. He's a mystical boy. Only eve...</td>\n",
       "      <td>NaN</td>\n",
       "      <td>13</td>\n",
       "      <td>10</td>\n",
       "      <td>Phineas</td>\n",
       "      <td></td>\n",
       "    </tr>\n",
       "    <tr>\n",
       "      <th>1</th>\n",
       "      <td>892177421306343426</td>\n",
       "      <td>2017-08-01 00:17:27+00:00</td>\n",
       "      <td>Twitter for iPhone</td>\n",
       "      <td>This is Tilly. She's just checking pup on you....</td>\n",
       "      <td>NaN</td>\n",
       "      <td>13</td>\n",
       "      <td>10</td>\n",
       "      <td>Tilly</td>\n",
       "      <td></td>\n",
       "    </tr>\n",
       "    <tr>\n",
       "      <th>2</th>\n",
       "      <td>891815181378084864</td>\n",
       "      <td>2017-07-31 00:18:03+00:00</td>\n",
       "      <td>Twitter for iPhone</td>\n",
       "      <td>This is Archie. He is a rare Norwegian Pouncin...</td>\n",
       "      <td>NaN</td>\n",
       "      <td>12</td>\n",
       "      <td>10</td>\n",
       "      <td>Archie</td>\n",
       "      <td></td>\n",
       "    </tr>\n",
       "  </tbody>\n",
       "</table>\n",
       "</div>"
      ],
      "text/plain": [
       "             tweet_id                 timestamp              source  \\\n",
       "0  892420643555336193 2017-08-01 16:23:56+00:00  Twitter for iPhone   \n",
       "1  892177421306343426 2017-08-01 00:17:27+00:00  Twitter for iPhone   \n",
       "2  891815181378084864 2017-07-31 00:18:03+00:00  Twitter for iPhone   \n",
       "\n",
       "                                                text  retweeted_status_id  \\\n",
       "0  This is Phineas. He's a mystical boy. Only eve...                  NaN   \n",
       "1  This is Tilly. She's just checking pup on you....                  NaN   \n",
       "2  This is Archie. He is a rare Norwegian Pouncin...                  NaN   \n",
       "\n",
       "   rating_numerator  rating_denominator     name dog_stage  \n",
       "0                13                  10  Phineas            \n",
       "1                13                  10    Tilly            \n",
       "2                12                  10   Archie            "
      ]
     },
     "execution_count": 61,
     "metadata": {},
     "output_type": "execute_result"
    }
   ],
   "source": [
    "twitter_archive_clean.head(3)"
   ]
  },
  {
   "cell_type": "code",
   "execution_count": 62,
   "metadata": {},
   "outputs": [
    {
     "data": {
      "text/plain": [
       "tweet_id                  0\n",
       "timestamp                 0\n",
       "source                    0\n",
       "text                      0\n",
       "retweeted_status_id    2175\n",
       "rating_numerator          0\n",
       "rating_denominator        0\n",
       "name                    745\n",
       "dog_stage                 0\n",
       "dtype: int64"
      ]
     },
     "execution_count": 62,
     "metadata": {},
     "output_type": "execute_result"
    }
   ],
   "source": [
    "twitter_archive_clean.isnull().sum()"
   ]
  },
  {
   "cell_type": "code",
   "execution_count": 63,
   "metadata": {},
   "outputs": [
    {
     "data": {
      "text/plain": [
       "array(['Twitter for iPhone', 'Twitter Web Client', 'Vine - Make a Scene',\n",
       "       'TweetDeck'], dtype=object)"
      ]
     },
     "execution_count": 63,
     "metadata": {},
     "output_type": "execute_result"
    }
   ],
   "source": [
    "tweet_data_clean['device'].unique()"
   ]
  },
  {
   "cell_type": "code",
   "execution_count": 64,
   "metadata": {},
   "outputs": [
    {
     "data": {
      "text/plain": [
       "[Twitter for iPhone, Twitter Web Client, Vine - Make a Scene, TweetDeck]\n",
       "Categories (4, object): [Twitter for iPhone, Twitter Web Client, Vine - Make a Scene, TweetDeck]"
      ]
     },
     "execution_count": 64,
     "metadata": {},
     "output_type": "execute_result"
    }
   ],
   "source": [
    "twitter_archive_clean['source'].unique()"
   ]
  },
  {
   "cell_type": "markdown",
   "metadata": {},
   "source": [
    "<a id='9_quality'></a>\n",
    "#### 9. Quality\n",
    "\n",
    "#### Define\n",
    "- `twitter_archive` dataset has 181 retweets\n",
    "\n",
    "#### Code"
   ]
  },
  {
   "cell_type": "code",
   "execution_count": 65,
   "metadata": {},
   "outputs": [],
   "source": [
    "twitter_archive_clean = twitter_archive_clean[pd.isnull(twitter_archive_clean.retweeted_status_id)]"
   ]
  },
  {
   "cell_type": "markdown",
   "metadata": {},
   "source": [
    "#### Test"
   ]
  },
  {
   "cell_type": "code",
   "execution_count": 66,
   "metadata": {},
   "outputs": [
    {
     "data": {
      "text/plain": [
       "(2175, 9)"
      ]
     },
     "execution_count": 66,
     "metadata": {},
     "output_type": "execute_result"
    }
   ],
   "source": [
    "twitter_archive_clean.shape"
   ]
  },
  {
   "cell_type": "markdown",
   "metadata": {},
   "source": [
    "#### Test"
   ]
  },
  {
   "cell_type": "code",
   "execution_count": 67,
   "metadata": {},
   "outputs": [
    {
     "data": {
      "text/plain": [
       "(2175, 9)"
      ]
     },
     "execution_count": 67,
     "metadata": {},
     "output_type": "execute_result"
    }
   ],
   "source": [
    "twitter_archive_clean.shape"
   ]
  },
  {
   "cell_type": "code",
   "execution_count": 68,
   "metadata": {},
   "outputs": [
    {
     "data": {
      "text/plain": [
       "[, doggo, puppo, pupper, floofer, doggo,puppo, doggo,floofer, doggo,pupper]\n",
       "Categories (8, object): [, doggo, puppo, pupper, floofer, doggo,puppo, doggo,floofer, doggo,pupper]"
      ]
     },
     "execution_count": 68,
     "metadata": {},
     "output_type": "execute_result"
    }
   ],
   "source": [
    "twitter_archive_clean['dog_stage'].unique()"
   ]
  },
  {
   "cell_type": "code",
   "execution_count": 69,
   "metadata": {},
   "outputs": [
    {
     "name": "stdout",
     "output_type": "stream",
     "text": [
      "                 1831\n",
      "pupper            224\n",
      "doggo              75\n",
      "puppo              24\n",
      "doggo,pupper       10\n",
      "floofer             9\n",
      "doggo,puppo         1\n",
      "doggo,floofer       1\n",
      "Name: dog_stage, dtype: int64\n",
      "2175\n"
     ]
    }
   ],
   "source": [
    "print(twitter_archive_clean.dog_stage.value_counts())\n",
    "print(len(twitter_archive_clean))"
   ]
  },
  {
   "cell_type": "code",
   "execution_count": 70,
   "metadata": {},
   "outputs": [],
   "source": [
    "# Sort by dogs_stage then drop duplicated based on tweet_id except the last occurrence\n",
    "twitter_archive_clean = twitter_archive_clean.sort_values('dog_stage').drop_duplicates(subset='tweet_id', \n",
    "                                                                                        keep='last')"
   ]
  },
  {
   "cell_type": "code",
   "execution_count": 71,
   "metadata": {
    "scrolled": true
   },
   "outputs": [
    {
     "name": "stdout",
     "output_type": "stream",
     "text": [
      "                 1831\n",
      "pupper            224\n",
      "doggo              75\n",
      "puppo              24\n",
      "doggo,pupper       10\n",
      "floofer             9\n",
      "doggo,puppo         1\n",
      "doggo,floofer       1\n",
      "Name: dog_stage, dtype: int64\n",
      "2175\n"
     ]
    }
   ],
   "source": [
    "print(twitter_archive_clean.dog_stage.value_counts())\n",
    "print(len(twitter_archive_clean))"
   ]
  },
  {
   "cell_type": "markdown",
   "metadata": {},
   "source": [
    "<a id='images_predict_clean'></a>\n",
    "### 2.3.2. images_predict_clean\n",
    "\n",
    "<a id='2_tidiness'></a>\n",
    "#### 2. Tidiness:\n",
    "\n",
    "#### Define\n",
    "- The information of the following columns can be stored in only two columns `dog_breed_prediction` and `confidence_level`:<br><br>`p1`, `p1_conf`, `p1_dog`, `p2`, `p2_conf`, `p2_dog`, `p3`, `p3_conf`, `p3_dog`\n",
    "\n",
    "#### Code"
   ]
  },
  {
   "cell_type": "code",
   "execution_count": 72,
   "metadata": {},
   "outputs": [],
   "source": [
    "# Store the first true prediction (p1, p2 or p3) in these lists\n",
    "dog_breed_prediction = []\n",
    "confidence_level = []\n",
    "\n",
    "# Create a function which captures the dog breed and \n",
    "# confidence level from the fist true prediction\n",
    "\n",
    "def prediction(df):\n",
    "    if df['p1_dog'] == True:\n",
    "        dog_breed_prediction.append(df['p1'])\n",
    "        confidence_level.append(df['p1_conf'])\n",
    "    elif df['p2_dog'] == True:\n",
    "        dog_breed_prediction.append(df['p2'])\n",
    "        confidence_level.append(df['p2_conf'])\n",
    "    elif df['p3_dog'] == True:\n",
    "        dog_breed_prediction.append(df['p3'])\n",
    "        confidence_level.append(df['p3_conf'])\n",
    "    else:\n",
    "        dog_breed_prediction.append(np.NAN)\n",
    "        confidence_level.append(0)\n",
    "\n",
    "# Apply function on Dataframe and create new columns        \n",
    "images_predict_clean.apply(prediction, axis=1)\n",
    "images_predict_clean['dog_breed_prediction'] = dog_breed_prediction\n",
    "images_predict_clean['confidence_level'] = confidence_level"
   ]
  },
  {
   "cell_type": "markdown",
   "metadata": {},
   "source": [
    "#### Test"
   ]
  },
  {
   "cell_type": "code",
   "execution_count": 73,
   "metadata": {},
   "outputs": [
    {
     "data": {
      "text/plain": [
       "(2075, 14)"
      ]
     },
     "execution_count": 73,
     "metadata": {},
     "output_type": "execute_result"
    }
   ],
   "source": [
    "images_predict_clean.shape"
   ]
  },
  {
   "cell_type": "code",
   "execution_count": 74,
   "metadata": {
    "scrolled": true
   },
   "outputs": [],
   "source": [
    "images_predict_clean.dropna(inplace=True)"
   ]
  },
  {
   "cell_type": "code",
   "execution_count": 75,
   "metadata": {},
   "outputs": [
    {
     "data": {
      "text/plain": [
       "(1751, 14)"
      ]
     },
     "execution_count": 75,
     "metadata": {},
     "output_type": "execute_result"
    }
   ],
   "source": [
    "images_predict_clean.shape"
   ]
  },
  {
   "cell_type": "code",
   "execution_count": 76,
   "metadata": {},
   "outputs": [
    {
     "data": {
      "text/html": [
       "<div>\n",
       "<style scoped>\n",
       "    .dataframe tbody tr th:only-of-type {\n",
       "        vertical-align: middle;\n",
       "    }\n",
       "\n",
       "    .dataframe tbody tr th {\n",
       "        vertical-align: top;\n",
       "    }\n",
       "\n",
       "    .dataframe thead th {\n",
       "        text-align: right;\n",
       "    }\n",
       "</style>\n",
       "<table border=\"1\" class=\"dataframe\">\n",
       "  <thead>\n",
       "    <tr style=\"text-align: right;\">\n",
       "      <th></th>\n",
       "      <th>tweet_id</th>\n",
       "      <th>jpg_url</th>\n",
       "      <th>img_num</th>\n",
       "      <th>p1</th>\n",
       "      <th>p1_conf</th>\n",
       "      <th>p1_dog</th>\n",
       "      <th>p2</th>\n",
       "      <th>p2_conf</th>\n",
       "      <th>p2_dog</th>\n",
       "      <th>p3</th>\n",
       "      <th>p3_conf</th>\n",
       "      <th>p3_dog</th>\n",
       "      <th>dog_breed_prediction</th>\n",
       "      <th>confidence_level</th>\n",
       "    </tr>\n",
       "  </thead>\n",
       "  <tbody>\n",
       "    <tr>\n",
       "      <th>0</th>\n",
       "      <td>666020888022790149</td>\n",
       "      <td>https://pbs.twimg.com/media/CT4udn0WwAA0aMy.jpg</td>\n",
       "      <td>1</td>\n",
       "      <td>Welsh_springer_spaniel</td>\n",
       "      <td>0.465074</td>\n",
       "      <td>True</td>\n",
       "      <td>collie</td>\n",
       "      <td>0.156665</td>\n",
       "      <td>True</td>\n",
       "      <td>Shetland_sheepdog</td>\n",
       "      <td>0.061428</td>\n",
       "      <td>True</td>\n",
       "      <td>Welsh_springer_spaniel</td>\n",
       "      <td>0.465074</td>\n",
       "    </tr>\n",
       "    <tr>\n",
       "      <th>1</th>\n",
       "      <td>666029285002620928</td>\n",
       "      <td>https://pbs.twimg.com/media/CT42GRgUYAA5iDo.jpg</td>\n",
       "      <td>1</td>\n",
       "      <td>redbone</td>\n",
       "      <td>0.506826</td>\n",
       "      <td>True</td>\n",
       "      <td>miniature_pinscher</td>\n",
       "      <td>0.074192</td>\n",
       "      <td>True</td>\n",
       "      <td>Rhodesian_ridgeback</td>\n",
       "      <td>0.072010</td>\n",
       "      <td>True</td>\n",
       "      <td>redbone</td>\n",
       "      <td>0.506826</td>\n",
       "    </tr>\n",
       "    <tr>\n",
       "      <th>2</th>\n",
       "      <td>666033412701032449</td>\n",
       "      <td>https://pbs.twimg.com/media/CT4521TWwAEvMyu.jpg</td>\n",
       "      <td>1</td>\n",
       "      <td>German_shepherd</td>\n",
       "      <td>0.596461</td>\n",
       "      <td>True</td>\n",
       "      <td>malinois</td>\n",
       "      <td>0.138584</td>\n",
       "      <td>True</td>\n",
       "      <td>bloodhound</td>\n",
       "      <td>0.116197</td>\n",
       "      <td>True</td>\n",
       "      <td>German_shepherd</td>\n",
       "      <td>0.596461</td>\n",
       "    </tr>\n",
       "    <tr>\n",
       "      <th>3</th>\n",
       "      <td>666044226329800704</td>\n",
       "      <td>https://pbs.twimg.com/media/CT5Dr8HUEAA-lEu.jpg</td>\n",
       "      <td>1</td>\n",
       "      <td>Rhodesian_ridgeback</td>\n",
       "      <td>0.408143</td>\n",
       "      <td>True</td>\n",
       "      <td>redbone</td>\n",
       "      <td>0.360687</td>\n",
       "      <td>True</td>\n",
       "      <td>miniature_pinscher</td>\n",
       "      <td>0.222752</td>\n",
       "      <td>True</td>\n",
       "      <td>Rhodesian_ridgeback</td>\n",
       "      <td>0.408143</td>\n",
       "    </tr>\n",
       "    <tr>\n",
       "      <th>4</th>\n",
       "      <td>666049248165822465</td>\n",
       "      <td>https://pbs.twimg.com/media/CT5IQmsXIAAKY4A.jpg</td>\n",
       "      <td>1</td>\n",
       "      <td>miniature_pinscher</td>\n",
       "      <td>0.560311</td>\n",
       "      <td>True</td>\n",
       "      <td>Rottweiler</td>\n",
       "      <td>0.243682</td>\n",
       "      <td>True</td>\n",
       "      <td>Doberman</td>\n",
       "      <td>0.154629</td>\n",
       "      <td>True</td>\n",
       "      <td>miniature_pinscher</td>\n",
       "      <td>0.560311</td>\n",
       "    </tr>\n",
       "  </tbody>\n",
       "</table>\n",
       "</div>"
      ],
      "text/plain": [
       "             tweet_id                                          jpg_url  \\\n",
       "0  666020888022790149  https://pbs.twimg.com/media/CT4udn0WwAA0aMy.jpg   \n",
       "1  666029285002620928  https://pbs.twimg.com/media/CT42GRgUYAA5iDo.jpg   \n",
       "2  666033412701032449  https://pbs.twimg.com/media/CT4521TWwAEvMyu.jpg   \n",
       "3  666044226329800704  https://pbs.twimg.com/media/CT5Dr8HUEAA-lEu.jpg   \n",
       "4  666049248165822465  https://pbs.twimg.com/media/CT5IQmsXIAAKY4A.jpg   \n",
       "\n",
       "   img_num                      p1   p1_conf  p1_dog                  p2  \\\n",
       "0        1  Welsh_springer_spaniel  0.465074    True              collie   \n",
       "1        1                 redbone  0.506826    True  miniature_pinscher   \n",
       "2        1         German_shepherd  0.596461    True            malinois   \n",
       "3        1     Rhodesian_ridgeback  0.408143    True             redbone   \n",
       "4        1      miniature_pinscher  0.560311    True          Rottweiler   \n",
       "\n",
       "    p2_conf  p2_dog                   p3   p3_conf  p3_dog  \\\n",
       "0  0.156665    True    Shetland_sheepdog  0.061428    True   \n",
       "1  0.074192    True  Rhodesian_ridgeback  0.072010    True   \n",
       "2  0.138584    True           bloodhound  0.116197    True   \n",
       "3  0.360687    True   miniature_pinscher  0.222752    True   \n",
       "4  0.243682    True             Doberman  0.154629    True   \n",
       "\n",
       "     dog_breed_prediction  confidence_level  \n",
       "0  Welsh_springer_spaniel          0.465074  \n",
       "1                 redbone          0.506826  \n",
       "2         German_shepherd          0.596461  \n",
       "3     Rhodesian_ridgeback          0.408143  \n",
       "4      miniature_pinscher          0.560311  "
      ]
     },
     "execution_count": 76,
     "metadata": {},
     "output_type": "execute_result"
    }
   ],
   "source": [
    "images_predict_clean.head()"
   ]
  },
  {
   "cell_type": "markdown",
   "metadata": {},
   "source": [
    "<a id='10_quality'></a>\n",
    "#### 10. Quality:\n",
    "\n",
    "#### Define\n",
    "- ID fields need to be stored as strings: `tweet_id`\n",
    "\n",
    "#### Code"
   ]
  },
  {
   "cell_type": "code",
   "execution_count": 77,
   "metadata": {},
   "outputs": [],
   "source": [
    "images_predict_clean.tweet_id = images_predict_clean.tweet_id.astype(str)"
   ]
  },
  {
   "cell_type": "markdown",
   "metadata": {},
   "source": [
    "#### Test"
   ]
  },
  {
   "cell_type": "code",
   "execution_count": 78,
   "metadata": {},
   "outputs": [
    {
     "name": "stdout",
     "output_type": "stream",
     "text": [
      "<class 'pandas.core.frame.DataFrame'>\n",
      "Int64Index: 1751 entries, 0 to 2073\n",
      "Data columns (total 14 columns):\n",
      "tweet_id                1751 non-null object\n",
      "jpg_url                 1751 non-null object\n",
      "img_num                 1751 non-null int64\n",
      "p1                      1751 non-null object\n",
      "p1_conf                 1751 non-null float64\n",
      "p1_dog                  1751 non-null bool\n",
      "p2                      1751 non-null object\n",
      "p2_conf                 1751 non-null float64\n",
      "p2_dog                  1751 non-null bool\n",
      "p3                      1751 non-null object\n",
      "p3_conf                 1751 non-null float64\n",
      "p3_dog                  1751 non-null bool\n",
      "dog_breed_prediction    1751 non-null object\n",
      "confidence_level        1751 non-null float64\n",
      "dtypes: bool(3), float64(4), int64(1), object(6)\n",
      "memory usage: 169.3+ KB\n"
     ]
    }
   ],
   "source": [
    "images_predict_clean.info()"
   ]
  },
  {
   "cell_type": "markdown",
   "metadata": {},
   "source": [
    "<a id='11_quality'></a>\n",
    "#### 11. Quality\n",
    "\n",
    "#### Define\n",
    "\n",
    "- `jpg_url` has 66 duplicated images\n",
    "\n",
    "\n",
    "#### Code"
   ]
  },
  {
   "cell_type": "code",
   "execution_count": 79,
   "metadata": {},
   "outputs": [],
   "source": [
    "images_predict_clean = images_predict_clean.drop_duplicates(subset=['jpg_url'], keep='last')\n"
   ]
  },
  {
   "cell_type": "code",
   "execution_count": 80,
   "metadata": {},
   "outputs": [
    {
     "data": {
      "text/plain": [
       "0"
      ]
     },
     "execution_count": 80,
     "metadata": {},
     "output_type": "execute_result"
    }
   ],
   "source": [
    "sum(images_predict_clean['jpg_url'].duplicated())"
   ]
  },
  {
   "cell_type": "code",
   "execution_count": 81,
   "metadata": {},
   "outputs": [],
   "source": [
    "# Delete the columns of image prediction information\n",
    "images_predict_clean = images_predict_clean.drop(['jpg_url',\n",
    "                                                  'img_num', \n",
    "                                                  'p1', \n",
    "                                                  'p1_conf', \n",
    "                                                  'p1_dog', \n",
    "                                                  'p2', \n",
    "                                                  'p2_conf', \n",
    "                                                  'p2_dog', \n",
    "                                                  'p3', \n",
    "                                                  'p3_conf', \n",
    "                                                  'p3_dog'], 1)"
   ]
  },
  {
   "cell_type": "markdown",
   "metadata": {},
   "source": [
    "#### Test"
   ]
  },
  {
   "cell_type": "code",
   "execution_count": 82,
   "metadata": {},
   "outputs": [
    {
     "data": {
      "text/plain": [
       "tweet_id                0\n",
       "dog_breed_prediction    0\n",
       "confidence_level        0\n",
       "dtype: int64"
      ]
     },
     "execution_count": 82,
     "metadata": {},
     "output_type": "execute_result"
    }
   ],
   "source": [
    "images_predict_clean.isnull().sum()"
   ]
  },
  {
   "cell_type": "code",
   "execution_count": 83,
   "metadata": {},
   "outputs": [
    {
     "data": {
      "text/plain": [
       "(1691, 3)"
      ]
     },
     "execution_count": 83,
     "metadata": {},
     "output_type": "execute_result"
    }
   ],
   "source": [
    "images_predict_clean.shape"
   ]
  },
  {
   "cell_type": "code",
   "execution_count": 84,
   "metadata": {},
   "outputs": [
    {
     "data": {
      "text/html": [
       "<div>\n",
       "<style scoped>\n",
       "    .dataframe tbody tr th:only-of-type {\n",
       "        vertical-align: middle;\n",
       "    }\n",
       "\n",
       "    .dataframe tbody tr th {\n",
       "        vertical-align: top;\n",
       "    }\n",
       "\n",
       "    .dataframe thead th {\n",
       "        text-align: right;\n",
       "    }\n",
       "</style>\n",
       "<table border=\"1\" class=\"dataframe\">\n",
       "  <thead>\n",
       "    <tr style=\"text-align: right;\">\n",
       "      <th></th>\n",
       "      <th>tweet_id</th>\n",
       "      <th>dog_breed_prediction</th>\n",
       "      <th>confidence_level</th>\n",
       "    </tr>\n",
       "  </thead>\n",
       "  <tbody>\n",
       "    <tr>\n",
       "      <th>0</th>\n",
       "      <td>666020888022790149</td>\n",
       "      <td>Welsh_springer_spaniel</td>\n",
       "      <td>0.465074</td>\n",
       "    </tr>\n",
       "    <tr>\n",
       "      <th>1</th>\n",
       "      <td>666029285002620928</td>\n",
       "      <td>redbone</td>\n",
       "      <td>0.506826</td>\n",
       "    </tr>\n",
       "    <tr>\n",
       "      <th>2</th>\n",
       "      <td>666033412701032449</td>\n",
       "      <td>German_shepherd</td>\n",
       "      <td>0.596461</td>\n",
       "    </tr>\n",
       "  </tbody>\n",
       "</table>\n",
       "</div>"
      ],
      "text/plain": [
       "             tweet_id    dog_breed_prediction  confidence_level\n",
       "0  666020888022790149  Welsh_springer_spaniel          0.465074\n",
       "1  666029285002620928                 redbone          0.506826\n",
       "2  666033412701032449         German_shepherd          0.596461"
      ]
     },
     "execution_count": 84,
     "metadata": {},
     "output_type": "execute_result"
    }
   ],
   "source": [
    "images_predict_clean.head(3)"
   ]
  },
  {
   "cell_type": "markdown",
   "metadata": {},
   "source": [
    "<a id='tweet_data_clean'></a>\n",
    "### 2.3.3. tweet_data_clean\n",
    "\n",
    "<a id='12_quality'></a>\n",
    "#### 12. Quality:\n",
    "\n",
    "#### Define\n",
    "- ID fields need to be stored as strings: `tweet_id`\n",
    "\n",
    "#### Code"
   ]
  },
  {
   "cell_type": "code",
   "execution_count": 85,
   "metadata": {},
   "outputs": [],
   "source": [
    "images_predict_clean.tweet_id = images_predict_clean.tweet_id.astype(str)"
   ]
  },
  {
   "cell_type": "markdown",
   "metadata": {},
   "source": [
    "#### Test"
   ]
  },
  {
   "cell_type": "code",
   "execution_count": 86,
   "metadata": {},
   "outputs": [
    {
     "name": "stdout",
     "output_type": "stream",
     "text": [
      "<class 'pandas.core.frame.DataFrame'>\n",
      "Int64Index: 1691 entries, 0 to 2073\n",
      "Data columns (total 3 columns):\n",
      "tweet_id                1691 non-null object\n",
      "dog_breed_prediction    1691 non-null object\n",
      "confidence_level        1691 non-null float64\n",
      "dtypes: float64(1), object(2)\n",
      "memory usage: 52.8+ KB\n"
     ]
    }
   ],
   "source": [
    "images_predict_clean.info()"
   ]
  },
  {
   "cell_type": "markdown",
   "metadata": {},
   "source": [
    "<a id='13_quality'></a>\n",
    "#### 13. Quality\n",
    "\n",
    "#### Define\n",
    "- data format should be <b>category</b> instead of <b>object</b>: `device`\n",
    "\n",
    "#### Code"
   ]
  },
  {
   "cell_type": "code",
   "execution_count": 87,
   "metadata": {},
   "outputs": [],
   "source": [
    "tweet_data_clean.loc[:,'device'] = tweet_data_clean.loc[:,'device'].astype('category')\n",
    "tweet_data_clean.rename(columns={'device':'source'}, inplace=True)"
   ]
  },
  {
   "cell_type": "markdown",
   "metadata": {},
   "source": [
    "#### Test"
   ]
  },
  {
   "cell_type": "code",
   "execution_count": 88,
   "metadata": {
    "scrolled": false
   },
   "outputs": [
    {
     "name": "stdout",
     "output_type": "stream",
     "text": [
      "<class 'pandas.core.frame.DataFrame'>\n",
      "RangeIndex: 2335 entries, 0 to 2334\n",
      "Data columns (total 8 columns):\n",
      "tweet_id           2335 non-null object\n",
      "source             2335 non-null category\n",
      "followers_count    2335 non-null int64\n",
      "retweet_count      2335 non-null int64\n",
      "favorite_count     2335 non-null int64\n",
      "retweeted          2335 non-null bool\n",
      "text               2335 non-null object\n",
      "date_time          2335 non-null datetime64[ns, UTC]\n",
      "dtypes: bool(1), category(1), datetime64[ns, UTC](1), int64(3), object(2)\n",
      "memory usage: 114.3+ KB\n"
     ]
    }
   ],
   "source": [
    "tweet_data_clean.info()"
   ]
  },
  {
   "cell_type": "markdown",
   "metadata": {},
   "source": [
    "<a id='merge'></a>\n",
    "### 2.3.4. Merge Dataframes\n",
    "\n",
    "<a id='3_tidiness'></a>\n",
    "#### 3. Tidiness:\n",
    "\n",
    "#### Define\n",
    "Now that we have `twitter_archive_clean`, `images_predict_clean` and `tweet_data_clean` dataframes cleaned, we will merge it into one dataframe:"
   ]
  },
  {
   "cell_type": "code",
   "execution_count": 89,
   "metadata": {},
   "outputs": [
    {
     "name": "stdout",
     "output_type": "stream",
     "text": [
      "twitter_archive_clean: (2175, 9)\n",
      "images_predict_clean: (1691, 3)\n",
      "tweet_data_clean: (2335, 8)\n"
     ]
    }
   ],
   "source": [
    "print('twitter_archive_clean:',twitter_archive_clean.shape)\n",
    "print('images_predict_clean:',images_predict_clean.shape)\n",
    "print('tweet_data_clean:',tweet_data_clean.shape)"
   ]
  },
  {
   "cell_type": "markdown",
   "metadata": {},
   "source": [
    "#### Code"
   ]
  },
  {
   "cell_type": "code",
   "execution_count": 90,
   "metadata": {},
   "outputs": [],
   "source": [
    "# Create new dataframe as a merge of tweet_data_clean and twitter_archive_clean\n",
    "df_twitter_1 = pd.merge(twitter_archive_clean,\n",
    "                        tweet_data_clean,\n",
    "                        how = 'left',\n",
    "                        on = ['tweet_id'])\n",
    "\n",
    "df_twitter = pd.merge(images_predict_clean,\n",
    "                      df_twitter_1,\n",
    "                      how = 'left',\n",
    "                      on = ['tweet_id'])"
   ]
  },
  {
   "cell_type": "code",
   "execution_count": 91,
   "metadata": {},
   "outputs": [],
   "source": [
    "# Drop redundant columns\n",
    "\n",
    "df_twitter.drop(columns=['source_y',\n",
    "                         'text_y',\n",
    "                         'retweeted',\n",
    "                         'retweeted_status_id',\n",
    "                         'date_time'], inplace=True)\n",
    "\n",
    "# Removing the suffix\n",
    "\n",
    "df_twitter.rename(columns={'source_x':'source','text_x':'text'},inplace=True)\n",
    "\n",
    "# Even if we already did this in previous steps, after the merging\n",
    "# some columns with int format return to float, we will change it again to int\n",
    "\n",
    "list_to_int = ['followers_count',\n",
    "               'retweet_count',\n",
    "               'favorite_count',\n",
    "               'rating_numerator',\n",
    "               'rating_denominator']\n",
    "\n",
    "df_twitter.loc[:,list_to_int] = \\\n",
    "df_twitter.loc[:,list_to_int].fillna(0).astype(int)"
   ]
  },
  {
   "cell_type": "markdown",
   "metadata": {},
   "source": [
    "#### Test"
   ]
  },
  {
   "cell_type": "code",
   "execution_count": 92,
   "metadata": {},
   "outputs": [
    {
     "data": {
      "text/plain": [
       "tweet_id                  0\n",
       "dog_breed_prediction      0\n",
       "confidence_level          0\n",
       "timestamp                65\n",
       "source                   65\n",
       "text                     65\n",
       "rating_numerator          0\n",
       "rating_denominator        0\n",
       "name                    469\n",
       "dog_stage                65\n",
       "followers_count           0\n",
       "retweet_count             0\n",
       "favorite_count            0\n",
       "dtype: int64"
      ]
     },
     "execution_count": 92,
     "metadata": {},
     "output_type": "execute_result"
    }
   ],
   "source": [
    "# Here we have some inconsistencies between data, \n",
    "# we will drop these 65 null rows\n",
    "\n",
    "df_twitter.isnull().sum()"
   ]
  },
  {
   "cell_type": "code",
   "execution_count": 93,
   "metadata": {},
   "outputs": [
    {
     "data": {
      "text/plain": [
       "tweet_id                  0\n",
       "dog_breed_prediction      0\n",
       "confidence_level          0\n",
       "timestamp                 0\n",
       "source                    0\n",
       "text                      0\n",
       "rating_numerator          0\n",
       "rating_denominator        0\n",
       "name                    404\n",
       "dog_stage                 0\n",
       "followers_count           0\n",
       "retweet_count             0\n",
       "favorite_count            0\n",
       "dtype: int64"
      ]
     },
     "execution_count": 93,
     "metadata": {},
     "output_type": "execute_result"
    }
   ],
   "source": [
    "df_twitter = df_twitter.loc[df_twitter['source'].notnull(),:]\n",
    "df_twitter.isnull().sum()"
   ]
  },
  {
   "cell_type": "markdown",
   "metadata": {},
   "source": [
    "Here we finish the Data Wrangling process !"
   ]
  },
  {
   "cell_type": "markdown",
   "metadata": {},
   "source": [
    "<a id='data_analysis'></a>\n",
    "# 3. Data Analysis\n",
    "\n",
    "Storing, analyzing, and visualizing wrangled data"
   ]
  },
  {
   "cell_type": "markdown",
   "metadata": {},
   "source": [
    "<a id='storing'></a>\n",
    "## 3.1. Storing\n",
    "\n",
    "Let's store `df_twitter` into a csv file to further analysis"
   ]
  },
  {
   "cell_type": "code",
   "execution_count": 94,
   "metadata": {},
   "outputs": [],
   "source": [
    "df_twitter.to_csv('source/twitter_archive_master.csv',encoding='utf-8',index=False)"
   ]
  },
  {
   "cell_type": "markdown",
   "metadata": {},
   "source": [
    "<a id='analyzing'></a>\n",
    "## 3.2. Analyzing and Visualizing\n",
    "\n",
    "This analysis can be seen in the file `act_report.html`"
   ]
  }
 ],
 "metadata": {
  "kernelspec": {
   "display_name": "Python 3",
   "language": "python",
   "name": "python3"
  },
  "language_info": {
   "codemirror_mode": {
    "name": "ipython",
    "version": 3
   },
   "file_extension": ".py",
   "mimetype": "text/x-python",
   "name": "python",
   "nbconvert_exporter": "python",
   "pygments_lexer": "ipython3",
   "version": "3.7.3"
  }
 },
 "nbformat": 4,
 "nbformat_minor": 2
}
