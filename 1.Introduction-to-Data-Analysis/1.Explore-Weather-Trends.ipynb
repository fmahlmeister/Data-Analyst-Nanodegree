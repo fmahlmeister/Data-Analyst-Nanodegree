{
 "cells": [
  {
   "cell_type": "markdown",
   "metadata": {},
   "source": [
    "# Project 1: Explore Weather Trends\n",
    "\n",
    "São Paulo, 21 February of 2019<br>\n",
    "Felipe Mahlmeister\n",
    "\n",
    "## Table of Contents\n",
    "\n",
    "1. [Summary](#summary)<br>\n",
    "2. [Extracting the Data](#extract)<br>\n",
    "3. [Analysis, Modeling, and Validation](#analysis)<br>\n",
    "4. [Conclusion](#conclusion)<br>"
   ]
  },
  {
   "cell_type": "markdown",
   "metadata": {},
   "source": [
    "<a id='summary'></a>\n",
    "## 1. Summary\n",
    "\n",
    "In this project, I will analyze local and global temperature data and compare the temperature trends where I live to overall global temperature trends."
   ]
  },
  {
   "cell_type": "markdown",
   "metadata": {},
   "source": [
    "<a id='extract'></a>\n",
    "## 2. Extracting the Data\n",
    "\n",
    "Using the SQL Workspace, I was able to extract from the database all the information needed to start my project.\n",
    "The temperature data for the world as well as for the closest big city to where I live were exported using SQL language, and the results were downloaded as CSV files.\n",
    "Follows below the steps that I took to extract and collect the data.\n",
    "\n",
    "Step 1:\n",
    "Using the following code, I could identify which cities in the list could be the nearest city of mine (Sao Paulo). The nearest and the chosen was Guarulhos, which is 10 km close to where I live."
   ]
  },
  {
   "cell_type": "markdown",
   "metadata": {},
   "source": [
    ">SELECT *<br>\n",
    "FROM city_list<br>\n",
    "WHERE country = 'Brazil';"
   ]
  },
  {
   "cell_type": "markdown",
   "metadata": {},
   "source": [
    "Step 2:\n",
    "Knowing that Guarulhos is the nearest city, I could extract the average temperatures for each city by year."
   ]
  },
  {
   "cell_type": "markdown",
   "metadata": {},
   "source": [
    ">SELECT *<br>\n",
    "FROM city_data<br>\n",
    "WHERE country = 'Brazil' AND city = 'Guarulhos';"
   ]
  },
  {
   "cell_type": "markdown",
   "metadata": {},
   "source": [
    "Step 3:\n",
    "To compare the average temperatures for the chosen city with the global temperatures, I extracted the following information"
   ]
  },
  {
   "cell_type": "markdown",
   "metadata": {},
   "source": [
    ">SELECT *<br>\n",
    "FROM global_data;"
   ]
  }
 ],
 "metadata": {
  "kernelspec": {
   "display_name": "Python 3",
   "language": "python",
   "name": "python3"
  },
  "language_info": {
   "codemirror_mode": {
    "name": "ipython",
    "version": 3
   },
   "file_extension": ".py",
   "mimetype": "text/x-python",
   "name": "python",
   "nbconvert_exporter": "python",
   "pygments_lexer": "ipython3",
   "version": "3.7.3"
  }
 },
 "nbformat": 4,
 "nbformat_minor": 2
}
