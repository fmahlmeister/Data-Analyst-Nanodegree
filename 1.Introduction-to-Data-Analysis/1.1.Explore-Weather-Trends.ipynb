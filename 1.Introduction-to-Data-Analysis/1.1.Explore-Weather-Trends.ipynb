{
 "cells": [
  {
   "cell_type": "markdown",
   "metadata": {},
   "source": [
    "# Project 1.1: Explore Weather Trends\n",
    "\n",
    "São Paulo, 21 February of 2019<br>\n",
    "Felipe Mahlmeister\n",
    "\n",
    "## Table of Contents\n",
    "\n",
    "1. [Summary](#summary)<br>\n",
    "2. [Extracting the Data](#extract)<br>\n",
    "3. [Analysis, Modeling, and Validation](#analysis)<br>\n",
    "4. [Conclusion](#conclusion)<br>"
   ]
  },
  {
   "cell_type": "markdown",
   "metadata": {},
   "source": [
    "<a id='summary'></a>\n",
    "## 1. Summary\n",
    "\n",
    "In this project, I will analyze local and global temperature data and compare the temperature trends where I live to overall global temperature trends."
   ]
  },
  {
   "cell_type": "markdown",
   "metadata": {},
   "source": [
    "<a id='extract'></a>\n",
    "## 2. Extracting the Data\n",
    "\n",
    "Using the SQL Workspace, I was able to extract from the database all the information needed to start my project.\n",
    "The temperature data for the world as well as for the closest big city to where I live were exported using SQL language, and the results were downloaded as CSV files.\n",
    "Follows below the steps that I took to extract and collect the data.\n",
    "\n",
    "Step 1:\n",
    "Using the following code, I could identify which cities in the list could be the nearest city of mine (Sao Paulo). The nearest and the chosen was Guarulhos, which is 10 km close to where I live."
   ]
  },
  {
   "cell_type": "markdown",
   "metadata": {},
   "source": [
    ">SELECT *<br>\n",
    "FROM city_list<br>\n",
    "WHERE country = 'Brazil';"
   ]
  },
  {
   "cell_type": "markdown",
   "metadata": {},
   "source": [
    "Step 2:\n",
    "Knowing that Guarulhos is the nearest city, I could extract the average temperatures for each city by year."
   ]
  },
  {
   "cell_type": "markdown",
   "metadata": {},
   "source": [
    ">SELECT *<br>\n",
    "FROM city_data<br>\n",
    "WHERE country = 'Brazil' AND city = 'Guarulhos';"
   ]
  },
  {
   "cell_type": "markdown",
   "metadata": {},
   "source": [
    "Step 3:\n",
    "To compare the average temperatures for the chosen city with the global temperatures, I extracted the following information"
   ]
  },
  {
   "cell_type": "markdown",
   "metadata": {},
   "source": [
    ">SELECT *<br>\n",
    "FROM global_data;"
   ]
  },
  {
   "cell_type": "markdown",
   "metadata": {},
   "source": [
    "<a id='analysis'></a>\n",
    "## 3. Analysis, Modeling, and Validation\n",
    "\n",
    "After extracting data from the database, I opened up first the CSV with the local data (Guarulhos) utilizing Excel.\n",
    "\n",
    "To observe the fluctuation of temperature along the years, I plotted a line chart, but as predicted, wasn’t clear what’s the trending because of the excessive pikes of each year.\n",
    "\n",
    "The solution was to use the Moving Average technique to smooth out the data and make it easier to observe long terms and not get lost yearly fluctuations. The easiest way to do this was to use the AVERAGE function from Excel.\n",
    "After some tests, the range that had the best fit with this data was a Moving Average with 20 years of interval, as could be seen in the graph below."
   ]
  },
  {
   "cell_type": "markdown",
   "metadata": {},
   "source": [
    "<img src=\"img/img_01.png\" width=\"600\">"
   ]
  },
  {
   "cell_type": "markdown",
   "metadata": {},
   "source": [
    "Similar to the local data, I utilized the same strategy to observe long term trends in global temperatures. Also, the range of the Moving Average was set to the same value of the local data (20 years of interval). As could be seen in the graph below."
   ]
  },
  {
   "cell_type": "markdown",
   "metadata": {},
   "source": [
    "<img src=\"img/img_02.png\" width=\"600\">"
   ]
  },
  {
   "cell_type": "markdown",
   "metadata": {},
   "source": [
    "In order to observe similar patterns between both data (local and global), the following graph was plotted.\n",
    "\n",
    "To express maximum information possible on this graph, trend lines and the equation was included to show more information about the slope of graphs. Also was included the R-squared, to be able to see how close the data are to the fitted regression line."
   ]
  },
  {
   "cell_type": "markdown",
   "metadata": {},
   "source": [
    "<img src=\"img/img_03.png\" width=\"600\">"
   ]
  },
  {
   "cell_type": "markdown",
   "metadata": {},
   "source": [
    "But, as we can see, isn’t trivial to observe if the slope of the local data is greater than the global, because the values have some displacement between them, caused by a difference of mean temperatures (Brazil is located on the equator line, which configures it as a warm country).\n",
    "\n",
    "In order to makes clear to observe this difference only graphcally, I expanded the trending lines until it crosses."
   ]
  },
  {
   "cell_type": "markdown",
   "metadata": {},
   "source": [
    "<img src=\"img/img_04.png\" width=\"600\">"
   ]
  },
  {
   "cell_type": "markdown",
   "metadata": {},
   "source": [
    "Mistrusting the veracity of the result from the above graph with reality, another graph was plotted/considered. In this case, the global temperatures data was limited to the first register from local data, which starts in 1832.\n",
    "\n",
    "After this modification, the comparison makes more sense. It could be verified graphically as well as the equation of the linear regression."
   ]
  },
  {
   "cell_type": "markdown",
   "metadata": {},
   "source": [
    "<img src=\"img/img_05.png\" width=\"600\">"
   ]
  },
  {
   "cell_type": "markdown",
   "metadata": {},
   "source": [
    "Comparing both linear equations, we could make some remarks:\n",
    "\n",
    "From the point of view of the variable term of the equation, the slope of local data is 2.7% greater than global, which could mean that the temperature grows locally 2.7% faster than globally, along the time.\n",
    "\n",
    "But we can’t say that this is true, because the equations are offset from the origin. The difference between the offset from both equations is 0.3%, caused by a mean temperature difference between both.\n",
    "\n",
    "The temperature variation in comparison of both is 0.8%, considering the difference of slope and the offset."
   ]
  },
  {
   "cell_type": "markdown",
   "metadata": {},
   "source": [
    "<a id='conclusion'></a>\n",
    "## 4. Conclusion\n",
    "\n",
    "After analysis and modeling, we can conclude:\n",
    "\n",
    "- Guarulhos city is getting hotter and hotter over the years, the trend has been consistently positive, and it looks like will continue growing in the next few years;<br><br>\n",
    "\n",
    "- The world is also getting hotter and hotter over the years, a consistent positive trend could be seen from the last 200 years.\n",
    "It can’t be just coincidence that this positive trend starts exactly when the world started to change because of the industrial revolution, which started at the middle of the XVIII century and got fully developed near to the middle of the XIX century.\n",
    "Because unknown reasons it got a negative slope between 1810 and 1830, breaking a weird previous positive trend (from 1770 to 1810). The hidden causes of these events couldn’t be explained by these data, to make any conclusion about that we need more information about the world at this time or about the data collection;<br><br>\n",
    "\n",
    "- The city where I live is getting hotter than the world temperature, meaning that even the world has a large influence on the local temperature, we are also partly guilty about that.\n",
    "Looking for the last 20 years’ slope (which is the highest of all the time), I got worried about the next years, because I don’t see any local initiative in a way to reduce its growing and the temperature at the summer could be a danger for the population;<br><br>\n",
    "\n",
    "- This study has shown some alarming points about our influence on the climate changes and about its importance of having a reliable data to achieve reliable conclusion, in order to make decisions that could impacts the whole world."
   ]
  }
 ],
 "metadata": {
  "kernelspec": {
   "display_name": "Python 3",
   "language": "python",
   "name": "python3"
  },
  "language_info": {
   "codemirror_mode": {
    "name": "ipython",
    "version": 3
   },
   "file_extension": ".py",
   "mimetype": "text/x-python",
   "name": "python",
   "nbconvert_exporter": "python",
   "pygments_lexer": "ipython3",
   "version": "3.7.3"
  }
 },
 "nbformat": 4,
 "nbformat_minor": 2
}
