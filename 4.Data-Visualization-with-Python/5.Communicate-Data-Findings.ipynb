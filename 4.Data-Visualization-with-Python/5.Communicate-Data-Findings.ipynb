{
 "cells": [
  {
   "cell_type": "markdown",
   "metadata": {},
   "source": [
    "# Project 5: Communicate Data Findings\n",
    "\n",
    "São Paulo, 15 June of 2019<br>\n",
    "Felipe Mahlmeister\n",
    "\n",
    "## Table of Contents\n",
    "\n",
    "1. [Summary](#summary)<br>\n",
    "2. [Extracting the Data](#extract)<br>\n",
    "3. [Analysis, Modeling, and Validation](#analysis)<br>\n",
    "4. [Conclusion](#conclusion)<br>"
   ]
  },
  {
   "cell_type": "markdown",
   "metadata": {},
   "source": [
    "<a id='summary'></a>\n",
    "## 1. Summary\n",
    "\n",
    "In this project, I will analyze local and global temperature data and compare the temperature trends where I live to overall global temperature trends."
   ]
  },
  {
   "cell_type": "markdown",
   "metadata": {},
   "source": [
    "<a id='summary'></a>\n",
    "## 2. Preliminary Wrangling\n",
    "\n",
    "> Briefly introduce your dataset here.\n",
    "\n",
    "In this project, I will analyze local and global temperature data and compare the temperature trends where I live to overall global temperature trends."
   ]
  },
  {
   "cell_type": "code",
   "execution_count": 1,
   "metadata": {},
   "outputs": [],
   "source": [
    "# import all default packages and set plots to be embedded inline\n",
    "import numpy as np\n",
    "import pandas as pd\n",
    "import matplotlib.pyplot as plt\n",
    "import seaborn as sb\n",
    "from urllib.request import urlretrieve\n",
    "\n",
    "# import my packages\n",
    "from jupyterworkflow.data import get_url\n",
    "from jupyterworkflow.data import get_download_and_unzip\n",
    "from jupyterworkflow.data import get_flights_data\n",
    "\n",
    "%matplotlib inline"
   ]
  },
  {
   "cell_type": "code",
   "execution_count": 2,
   "metadata": {},
   "outputs": [],
   "source": [
    "# Choose the range of years you want to download\n",
    "start_year = 1987\n",
    "end_year = 2008"
   ]
  },
  {
   "cell_type": "code",
   "execution_count": 3,
   "metadata": {},
   "outputs": [
    {
     "name": "stdout",
     "output_type": "stream",
     "text": [
      "\n",
      "1987.csv : file 1 of 22 was successfully downloaded and unzipped in 6.43 seconds\n",
      "\n",
      "1988.csv : file 2 of 22 was successfully downloaded and unzipped in 19.70 seconds\n",
      "\n",
      "1989.csv : file 3 of 22 was successfully downloaded and unzipped in 24.98 seconds\n",
      "\n",
      "1990.csv : file 4 of 22 was successfully downloaded and unzipped in 23.68 seconds\n",
      "\n",
      "1991.csv : file 5 of 22 was successfully downloaded and unzipped in 20.57 seconds\n",
      "\n",
      "1992.csv : file 6 of 22 was successfully downloaded and unzipped in 27.23 seconds\n",
      "\n",
      "1993.csv : file 7 of 22 was successfully downloaded and unzipped in 21.12 seconds\n",
      "\n",
      "1994.csv : file 8 of 22 was successfully downloaded and unzipped in 22.50 seconds\n",
      "\n",
      "1995.csv : file 9 of 22 was successfully downloaded and unzipped in 25.89 seconds\n",
      "\n",
      "1996.csv : file 10 of 22 was successfully downloaded and unzipped in 24.61 seconds\n",
      "\n",
      "1997.csv : file 11 of 22 was successfully downloaded and unzipped in 25.68 seconds\n",
      "\n",
      "1998.csv : file 12 of 22 was successfully downloaded and unzipped in 25.54 seconds\n",
      "\n",
      "1999.csv : file 13 of 22 was successfully downloaded and unzipped in 26.50 seconds\n",
      "\n",
      "2000.csv : file 14 of 22 was successfully downloaded and unzipped in 27.01 seconds\n",
      "\n",
      "2001.csv : file 15 of 22 was successfully downloaded and unzipped in 31.08 seconds\n",
      "\n",
      "2002.csv : file 16 of 22 was successfully downloaded and unzipped in 24.70 seconds\n",
      "\n",
      "2003.csv : file 17 of 22 was successfully downloaded and unzipped in 29.93 seconds\n",
      "\n",
      "2004.csv : file 18 of 22 was successfully downloaded and unzipped in 33.58 seconds\n",
      "\n",
      "2005.csv : file 19 of 22 was successfully downloaded and unzipped in 33.74 seconds\n",
      "\n",
      "2006.csv : file 20 of 22 was successfully downloaded and unzipped in 34.12 seconds\n",
      "\n",
      "2007.csv : file 21 of 22 was successfully downloaded and unzipped in 35.76 seconds\n",
      "\n",
      "2008.csv : file 22 of 22 was successfully downloaded and unzipped in 34.49 seconds\n",
      "-----------------------------------\n",
      "total download time: 203.07 seconds\n",
      "total unzip time: 375.77 seconds\n",
      "\n",
      "total execution time:  9.65 minutes\n",
      "total size of downloaded files: 11.20 GB\n"
     ]
    }
   ],
   "source": [
    "url, filepath = get_url(start_year, end_year)\n",
    "get_flights_data(url, filepath)"
   ]
  },
  {
   "cell_type": "code",
   "execution_count": null,
   "metadata": {},
   "outputs": [],
   "source": [
    "# Calculate the time of execution\n",
    "#start_3 = time.time()\n",
    "\n",
    "#data = pd.read_csv(filepath[:-4])\n",
    "\n",
    "# Calculate the time of execution\n",
    "#end_3 = time.time()\n",
    "\n",
    "#print('read df - execution time: ',end_3 - start_3, 'seconds')\n",
    "#print('read df - execution time: ',(end_3 - start_3)/60, 'minutes')\n",
    "#print('-----------------------------------------------------')\n",
    "#print('total execution time: ',(end_1+end_2+end_3)-(start_1+start_2+start_3), 'seconds')\n",
    "#print('total execution time: ',((end_1+end_2+end_3)-(start_1+start_2+start_3))/60, 'minutes')"
   ]
  },
  {
   "cell_type": "markdown",
   "metadata": {},
   "source": [
    "### What is the structure of your dataset?\n",
    "\n",
    "> Your answer here!\n",
    "\n",
    "### What is/are the main feature(s) of interest in your dataset?\n",
    "\n",
    "> Your answer here!\n",
    "\n",
    "### What features in the dataset do you think will help support your investigation into your feature(s) of interest?\n",
    "\n",
    "> Your answer here!"
   ]
  },
  {
   "cell_type": "markdown",
   "metadata": {},
   "source": [
    "## Univariate Exploration\n",
    "\n",
    "> In this section, investigate distributions of individual variables. If\n",
    "you see unusual points or outliers, take a deeper look to clean things up\n",
    "and prepare yourself to look at relationships between variables."
   ]
  },
  {
   "cell_type": "code",
   "execution_count": null,
   "metadata": {},
   "outputs": [],
   "source": []
  },
  {
   "cell_type": "markdown",
   "metadata": {},
   "source": [
    "> Make sure that, after every plot or related series of plots, that you\n",
    "include a Markdown cell with comments about what you observed, and what\n",
    "you plan on investigating next."
   ]
  },
  {
   "cell_type": "code",
   "execution_count": null,
   "metadata": {},
   "outputs": [],
   "source": []
  },
  {
   "cell_type": "markdown",
   "metadata": {},
   "source": [
    "### Discuss the distribution(s) of your variable(s) of interest. Were there any unusual points? Did you need to perform any transformations?\n",
    "\n",
    "> Your answer here!\n",
    "\n",
    "### Of the features you investigated, were there any unusual distributions? Did you perform any operations on the data to tidy, adjust, or change the form of the data? If so, why did you do this?\n",
    "\n",
    "> Your answer here!"
   ]
  },
  {
   "cell_type": "markdown",
   "metadata": {},
   "source": [
    "## Bivariate Exploration\n",
    "\n",
    "> In this section, investigate relationships between pairs of variables in your\n",
    "data. Make sure the variables that you cover here have been introduced in some\n",
    "fashion in the previous section (univariate exploration)."
   ]
  },
  {
   "cell_type": "code",
   "execution_count": null,
   "metadata": {},
   "outputs": [],
   "source": []
  },
  {
   "cell_type": "markdown",
   "metadata": {},
   "source": [
    "### Talk about some of the relationships you observed in this part of the investigation. How did the feature(s) of interest vary with other features in the dataset?\n",
    "\n",
    "> Your answer here!\n",
    "\n",
    "### Did you observe any interesting relationships between the other features (not the main feature(s) of interest)?\n",
    "\n",
    "> Your answer here!"
   ]
  },
  {
   "cell_type": "markdown",
   "metadata": {},
   "source": [
    "## Multivariate Exploration\n",
    "\n",
    "> Create plots of three or more variables to investigate your data even\n",
    "further. Make sure that your investigations are justified, and follow from\n",
    "your work in the previous sections."
   ]
  },
  {
   "cell_type": "code",
   "execution_count": null,
   "metadata": {},
   "outputs": [],
   "source": []
  },
  {
   "cell_type": "markdown",
   "metadata": {},
   "source": [
    "### Talk about some of the relationships you observed in this part of the investigation. Were there features that strengthened each other in terms of looking at your feature(s) of interest?\n",
    "\n",
    "> Your answer here!\n",
    "\n",
    "### Were there any interesting or surprising interactions between features?\n",
    "\n",
    "> Your answer here!"
   ]
  },
  {
   "cell_type": "markdown",
   "metadata": {},
   "source": [
    "> At the end of your report, make sure that you export the notebook as an\n",
    "html file from the `File > Download as... > HTML` menu. Make sure you keep\n",
    "track of where the exported file goes, so you can put it in the same folder\n",
    "as this notebook for project submission. Also, make sure you remove all of\n",
    "the quote-formatted guide notes like this one before you finish your report!"
   ]
  },
  {
   "cell_type": "code",
   "execution_count": null,
   "metadata": {},
   "outputs": [],
   "source": []
  }
 ],
 "metadata": {
  "kernelspec": {
   "display_name": "Python 3",
   "language": "python",
   "name": "python3"
  },
  "language_info": {
   "codemirror_mode": {
    "name": "ipython",
    "version": 3
   },
   "file_extension": ".py",
   "mimetype": "text/x-python",
   "name": "python",
   "nbconvert_exporter": "python",
   "pygments_lexer": "ipython3",
   "version": "3.7.3"
  }
 },
 "nbformat": 4,
 "nbformat_minor": 2
}
