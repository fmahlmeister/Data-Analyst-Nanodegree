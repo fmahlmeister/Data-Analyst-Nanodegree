{
 "cells": [
  {
   "cell_type": "markdown",
   "metadata": {},
   "source": [
    "# Project 5: Communicate Data Findings\n",
    "\n",
    "São Paulo, 15 June of 2019<br>\n",
    "Felipe Mahlmeister\n",
    "\n",
    "## Table of Contents\n",
    "\n",
    "1. [Summary](#summary)<br>\n",
    "2. [Extracting the Data](#extract)<br>\n",
    "3. [Analysis, Modeling, and Validation](#analysis)<br>\n",
    "4. [Conclusion](#conclusion)<br>"
   ]
  },
  {
   "cell_type": "markdown",
   "metadata": {},
   "source": [
    "<a id='summary'></a>\n",
    "## 1. Summary\n",
    "\n",
    "In this project, I will analyze local and global temperature data and compare the temperature trends where I live to overall global temperature trends."
   ]
  },
  {
   "cell_type": "markdown",
   "metadata": {},
   "source": [
    "<a id='summary'></a>\n",
    "## 2. Preliminary Wrangling\n",
    "\n",
    "> Briefly introduce your dataset here.\n",
    "\n",
    "In this project, I will analyze local and global temperature data and compare the temperature trends where I live to overall global temperature trends."
   ]
  },
  {
   "cell_type": "code",
   "execution_count": 1,
   "metadata": {},
   "outputs": [],
   "source": [
    "# import all packages and set plots to be embedded inline\n",
    "import os\n",
    "import numpy as np\n",
    "import time\n",
    "import requests\n",
    "import pandas as pd\n",
    "import matplotlib.pyplot as plt\n",
    "import seaborn as sb\n",
    "from urllib.request import urlretrieve\n",
    "import bz2\n",
    "\n",
    "%matplotlib inline"
   ]
  },
  {
   "cell_type": "markdown",
   "metadata": {},
   "source": [
    "> Load in your dataset and describe its properties through the questions below.\n",
    "Try and motivate your exploration goals through this section."
   ]
  },
  {
   "cell_type": "markdown",
   "metadata": {},
   "source": [
    "1. user input year range\n",
    "2. url and filepath list with get_url\n",
    "3. "
   ]
  },
  {
   "cell_type": "code",
   "execution_count": 2,
   "metadata": {},
   "outputs": [],
   "source": [
    "# Choose the range of years you want to download\n",
    "start_year = 2007\n",
    "end_year = 2008"
   ]
  },
  {
   "cell_type": "code",
   "execution_count": 3,
   "metadata": {},
   "outputs": [],
   "source": [
    "def get_url(start_year, end_year):\n",
    "    \n",
    "    # Create lists\n",
    "    url, filepath = [], []\n",
    "    \n",
    "    for year in range(start_year,end_year+1):\n",
    "    \n",
    "        # Create full url string\n",
    "        url_str = 'http://stat-computing.org/dataexpo/2009/'+str(year)+'.csv.bz2'\n",
    "\n",
    "        # Append url string to the list\n",
    "        url.append(url_str)\n",
    "\n",
    "        # Create full filepath string\n",
    "        filepath_str = 'source/'+str(year)+'.csv.bz2'\n",
    "\n",
    "        # Append filepath string to the list\n",
    "        filepath.append(filepath_str)\n",
    "\n",
    "    return url, filepath"
   ]
  },
  {
   "cell_type": "code",
   "execution_count": 4,
   "metadata": {},
   "outputs": [],
   "source": [
    "url, filepath = get_url(start_year, end_year)"
   ]
  },
  {
   "cell_type": "code",
   "execution_count": 5,
   "metadata": {},
   "outputs": [],
   "source": [
    "def get_download_and_unzip(filepath, url, force_download=False):\n",
    "    \n",
    "    # download_start_time_list = d_start_l\n",
    "    # download_end_time_list = d_end_l\n",
    "    # unzip_start_time_list = u_start_l\n",
    "    # unzip_end_time_list = u_end_l\n",
    "    \n",
    "    d_start_l, d_end_l = [], []\n",
    "    u_start_l, u_end_l = [], []\n",
    "    \n",
    "    if force_download or not os.path.exists(filepath[:-4]):\n",
    "        \n",
    "        # -------- Calculate download time: start\n",
    "        start_1 = time.time()\n",
    "        \n",
    "        urlData = requests.get(url)\n",
    "\n",
    "        with open(filepath, mode ='wb') as file:\n",
    "            file.write(urlData.content)\n",
    "            \n",
    "        # -------- Calculate download time: end\n",
    "        end_1 = time.time()\n",
    "        \n",
    "        # -------- Calculate unzip time: start\n",
    "        start_2 = time.time()\n",
    "        \n",
    "        # Open the file\n",
    "        zipfile = bz2.BZ2File(filepath)\n",
    "        \n",
    "        # Get the decompressed data\n",
    "        data = zipfile.read()\n",
    "        \n",
    "        # Assuming the filepath ends with .bz2\n",
    "        newfilepath = filepath[:-4]\n",
    "        \n",
    "        # Write a uncompressed file\n",
    "        open(newfilepath, 'wb').write(data)\n",
    "        \n",
    "        # -------- Calculate unzip time: end\n",
    "        end_2 = time.time()\n",
    "           \n",
    "        # Delete zip files from source folder\n",
    "        os.remove(filepath)\n",
    "        \n",
    "        # Add execution time to list\n",
    "        \n",
    "        d_start_l.append(start_1)\n",
    "        d_end_l.append(end_1)\n",
    "        u_start_l.append(start_2)\n",
    "        u_end_l.append(end_2)\n",
    "    else:\n",
    "        print(\"All the files have already been downloaded\")\n",
    "    return d_start_l, d_end_l, u_start_l, u_end_l"
   ]
  },
  {
   "cell_type": "code",
   "execution_count": 6,
   "metadata": {},
   "outputs": [],
   "source": [
    "def get_flights_data(url, filepath):\n",
    "    \n",
    "    total_d_start_l, total_d_end_l = [], []\n",
    "    total_u_start_l, total_u_end_l = [], []\n",
    "    total_d_diff_l, total_u_diff_l = [], []\n",
    "\n",
    "    !mkdir source\n",
    "\n",
    "    for file in range(0,len(url)):\n",
    "\n",
    "        d_start_l, d_end_l, u_start_l, u_end_l = get_download_and_unzip(filepath[file], url[file])\n",
    "\n",
    "        total_d_start_l.append(d_start_l)\n",
    "        total_d_end_l.append(d_end_l)\n",
    "        total_u_start_l.append(u_start_l)\n",
    "        total_u_end_l.append(u_end_l)\n",
    "\n",
    "        total_d_diff = total_d_end_l[file][0]-total_d_start_l[file][0]\n",
    "        total_d_diff_l.append(total_d_diff)\n",
    "\n",
    "        total_u_diff = total_u_end_l[file][0]-total_u_start_l[file][0]\n",
    "        total_u_diff_l.append(total_u_diff)\n",
    "\n",
    "        total_diff = total_d_diff + total_u_diff\n",
    "\n",
    "        print('')\n",
    "        print(filepath[file][7:-4],':','file',file+1,'of',len(url),'were successfully downloaded and unzipped in',\n",
    "              '{:0.2f}'.format(total_diff),'seconds')\n",
    "\n",
    "    total_download_time = sum(total_d_diff_l)\n",
    "    total_unzip_time = sum(total_u_diff_l)\n",
    "    total_download_unzip = total_download_time + total_unzip_time\n",
    "\n",
    "    print('-----------------------------------')\n",
    "    print('total download time:','{:0.2f}'.format(total_download_time),'seconds')\n",
    "    print('total unzip time:','{:0.2f}'.format(total_unzip_time),'seconds')\n",
    "    print('')\n",
    "    print('total execution time: ','{:0.2f}'.format((total_download_unzip)/60), 'minutes')\n",
    "\n",
    "    statinfo = []\n",
    "\n",
    "    for file in range(0,len(filepath)):\n",
    "\n",
    "        file_bytes = os.stat(filepath[file][:-4]).st_size\n",
    "\n",
    "        file_gb = file_bytes/1024**3\n",
    "\n",
    "        statinfo.append(file_gb)\n",
    "\n",
    "    print('total size of downloaded files:','{:0.2f}'.format(sum(statinfo)),'GB')"
   ]
  },
  {
   "cell_type": "code",
   "execution_count": 7,
   "metadata": {},
   "outputs": [
    {
     "name": "stdout",
     "output_type": "stream",
     "text": [
      "\n",
      "2007.csv : file 1 of 2 were successfully downloaded and unzipped in 58.67 seconds\n",
      "\n",
      "2008.csv : file 2 of 2 were successfully downloaded and unzipped in 43.73 seconds\n",
      "-----------------------------------\n",
      "total download time: 39.84 seconds\n",
      "total unzip time: 62.56 seconds\n",
      "\n",
      "total execution time:  1.71 minutes\n",
      "total size of downloaded files: 1.30 GB\n"
     ]
    }
   ],
   "source": [
    "get_flights_data(url, filepath)"
   ]
  },
  {
   "cell_type": "code",
   "execution_count": null,
   "metadata": {},
   "outputs": [],
   "source": []
  },
  {
   "cell_type": "code",
   "execution_count": null,
   "metadata": {},
   "outputs": [],
   "source": []
  },
  {
   "cell_type": "code",
   "execution_count": null,
   "metadata": {},
   "outputs": [],
   "source": []
  },
  {
   "cell_type": "code",
   "execution_count": null,
   "metadata": {},
   "outputs": [],
   "source": []
  },
  {
   "cell_type": "code",
   "execution_count": null,
   "metadata": {},
   "outputs": [],
   "source": []
  },
  {
   "cell_type": "code",
   "execution_count": null,
   "metadata": {},
   "outputs": [],
   "source": []
  },
  {
   "cell_type": "code",
   "execution_count": null,
   "metadata": {},
   "outputs": [],
   "source": []
  },
  {
   "cell_type": "code",
   "execution_count": null,
   "metadata": {},
   "outputs": [],
   "source": []
  },
  {
   "cell_type": "code",
   "execution_count": null,
   "metadata": {},
   "outputs": [],
   "source": []
  },
  {
   "cell_type": "code",
   "execution_count": null,
   "metadata": {},
   "outputs": [],
   "source": []
  },
  {
   "cell_type": "code",
   "execution_count": null,
   "metadata": {},
   "outputs": [],
   "source": []
  },
  {
   "cell_type": "code",
   "execution_count": null,
   "metadata": {},
   "outputs": [],
   "source": [
    "total_d_start_l, total_d_end_l = [], []\n",
    "total_u_start_l, total_u_end_l = [], []\n",
    "total_d_diff_l, total_u_diff_l = [], []\n",
    "\n",
    "!mkdir source\n",
    "\n",
    "for file in range(0,len(url)):\n",
    "        \n",
    "    d_start_l, d_end_l, u_start_l, u_end_l = get_download_and_unzip(filepath[file], url[file])\n",
    "    \n",
    "    total_d_start_l.append(d_start_l)\n",
    "    total_d_end_l.append(d_end_l)\n",
    "    total_u_start_l.append(u_start_l)\n",
    "    total_u_end_l.append(u_end_l)\n",
    "    \n",
    "    total_d_diff = total_d_end_l[file][0]-total_d_start_l[file][0]\n",
    "    total_d_diff_l.append(total_d_diff)\n",
    "    \n",
    "    total_u_diff = total_u_end_l[file][0]-total_u_start_l[file][0]\n",
    "    total_u_diff_l.append(total_u_diff)\n",
    "    \n",
    "    total_diff = total_d_diff + total_u_diff\n",
    "    \n",
    "    print('')\n",
    "    print(filepath[file][7:-4],':','file',file+1,'of',len(url),'were successfully downloaded and unzipped in',\n",
    "          '{:0.2f}'.format(total_diff),'seconds')\n",
    "\n",
    "total_download_time = sum(total_d_diff_l)\n",
    "total_unzip_time = sum(total_u_diff_l)\n",
    "total_download_unzip = total_download_time + total_unzip_time\n",
    "\n",
    "print('-----------------------------------')\n",
    "print('total download time:','{:0.2f}'.format(total_download_time),'seconds')\n",
    "print('total unzip time:','{:0.2f}'.format(total_unzip_time),'seconds')\n",
    "print('')\n",
    "print('total execution time: ','{:0.2f}'.format((total_download_unzip)/60), 'minutes')\n",
    "\n",
    "statinfo = []\n",
    "\n",
    "for file in range(0,len(filepath)):\n",
    "    \n",
    "    file_bytes = os.stat(filepath[file][:-4]).st_size\n",
    "    \n",
    "    file_gb = file_bytes/1024**3\n",
    "    \n",
    "    statinfo.append(file_gb)\n",
    "    \n",
    "print('total size of downloaded files:','{:0.2f}'.format(sum(statinfo)),'GB')"
   ]
  },
  {
   "cell_type": "code",
   "execution_count": null,
   "metadata": {},
   "outputs": [],
   "source": []
  },
  {
   "cell_type": "code",
   "execution_count": null,
   "metadata": {},
   "outputs": [],
   "source": []
  },
  {
   "cell_type": "code",
   "execution_count": null,
   "metadata": {},
   "outputs": [],
   "source": []
  },
  {
   "cell_type": "code",
   "execution_count": null,
   "metadata": {},
   "outputs": [],
   "source": []
  },
  {
   "cell_type": "code",
   "execution_count": null,
   "metadata": {},
   "outputs": [],
   "source": []
  },
  {
   "cell_type": "code",
   "execution_count": null,
   "metadata": {},
   "outputs": [],
   "source": []
  },
  {
   "cell_type": "code",
   "execution_count": null,
   "metadata": {},
   "outputs": [],
   "source": []
  },
  {
   "cell_type": "code",
   "execution_count": null,
   "metadata": {},
   "outputs": [],
   "source": []
  },
  {
   "cell_type": "code",
   "execution_count": null,
   "metadata": {},
   "outputs": [],
   "source": []
  },
  {
   "cell_type": "code",
   "execution_count": null,
   "metadata": {},
   "outputs": [],
   "source": []
  },
  {
   "cell_type": "code",
   "execution_count": null,
   "metadata": {},
   "outputs": [],
   "source": []
  },
  {
   "cell_type": "code",
   "execution_count": null,
   "metadata": {},
   "outputs": [],
   "source": []
  },
  {
   "cell_type": "code",
   "execution_count": null,
   "metadata": {},
   "outputs": [],
   "source": []
  },
  {
   "cell_type": "code",
   "execution_count": null,
   "metadata": {},
   "outputs": [],
   "source": []
  },
  {
   "cell_type": "code",
   "execution_count": null,
   "metadata": {},
   "outputs": [],
   "source": []
  },
  {
   "cell_type": "code",
   "execution_count": null,
   "metadata": {},
   "outputs": [],
   "source": []
  },
  {
   "cell_type": "code",
   "execution_count": null,
   "metadata": {},
   "outputs": [],
   "source": []
  },
  {
   "cell_type": "code",
   "execution_count": null,
   "metadata": {},
   "outputs": [],
   "source": []
  },
  {
   "cell_type": "code",
   "execution_count": null,
   "metadata": {},
   "outputs": [],
   "source": []
  },
  {
   "cell_type": "code",
   "execution_count": null,
   "metadata": {},
   "outputs": [],
   "source": []
  },
  {
   "cell_type": "code",
   "execution_count": null,
   "metadata": {},
   "outputs": [],
   "source": []
  },
  {
   "cell_type": "code",
   "execution_count": null,
   "metadata": {},
   "outputs": [],
   "source": []
  },
  {
   "cell_type": "code",
   "execution_count": null,
   "metadata": {},
   "outputs": [],
   "source": []
  },
  {
   "cell_type": "code",
   "execution_count": null,
   "metadata": {},
   "outputs": [],
   "source": []
  },
  {
   "cell_type": "code",
   "execution_count": null,
   "metadata": {},
   "outputs": [],
   "source": []
  },
  {
   "cell_type": "code",
   "execution_count": null,
   "metadata": {},
   "outputs": [],
   "source": []
  },
  {
   "cell_type": "code",
   "execution_count": null,
   "metadata": {},
   "outputs": [],
   "source": []
  },
  {
   "cell_type": "code",
   "execution_count": null,
   "metadata": {},
   "outputs": [],
   "source": []
  },
  {
   "cell_type": "code",
   "execution_count": null,
   "metadata": {},
   "outputs": [],
   "source": []
  },
  {
   "cell_type": "code",
   "execution_count": null,
   "metadata": {},
   "outputs": [],
   "source": []
  },
  {
   "cell_type": "code",
   "execution_count": null,
   "metadata": {},
   "outputs": [],
   "source": []
  },
  {
   "cell_type": "code",
   "execution_count": null,
   "metadata": {},
   "outputs": [],
   "source": []
  },
  {
   "cell_type": "code",
   "execution_count": null,
   "metadata": {},
   "outputs": [],
   "source": []
  },
  {
   "cell_type": "code",
   "execution_count": null,
   "metadata": {},
   "outputs": [],
   "source": []
  },
  {
   "cell_type": "code",
   "execution_count": null,
   "metadata": {},
   "outputs": [],
   "source": []
  },
  {
   "cell_type": "code",
   "execution_count": null,
   "metadata": {},
   "outputs": [],
   "source": []
  },
  {
   "cell_type": "code",
   "execution_count": null,
   "metadata": {},
   "outputs": [],
   "source": []
  },
  {
   "cell_type": "code",
   "execution_count": null,
   "metadata": {},
   "outputs": [],
   "source": []
  },
  {
   "cell_type": "code",
   "execution_count": null,
   "metadata": {},
   "outputs": [],
   "source": []
  },
  {
   "cell_type": "code",
   "execution_count": null,
   "metadata": {},
   "outputs": [],
   "source": []
  },
  {
   "cell_type": "code",
   "execution_count": null,
   "metadata": {},
   "outputs": [],
   "source": []
  },
  {
   "cell_type": "code",
   "execution_count": null,
   "metadata": {},
   "outputs": [],
   "source": []
  },
  {
   "cell_type": "code",
   "execution_count": null,
   "metadata": {},
   "outputs": [],
   "source": []
  },
  {
   "cell_type": "code",
   "execution_count": null,
   "metadata": {},
   "outputs": [],
   "source": []
  },
  {
   "cell_type": "code",
   "execution_count": null,
   "metadata": {},
   "outputs": [],
   "source": []
  },
  {
   "cell_type": "code",
   "execution_count": null,
   "metadata": {},
   "outputs": [],
   "source": []
  },
  {
   "cell_type": "code",
   "execution_count": null,
   "metadata": {},
   "outputs": [],
   "source": []
  },
  {
   "cell_type": "code",
   "execution_count": null,
   "metadata": {},
   "outputs": [],
   "source": []
  },
  {
   "cell_type": "code",
   "execution_count": null,
   "metadata": {},
   "outputs": [],
   "source": []
  },
  {
   "cell_type": "code",
   "execution_count": null,
   "metadata": {},
   "outputs": [],
   "source": []
  },
  {
   "cell_type": "code",
   "execution_count": null,
   "metadata": {},
   "outputs": [],
   "source": []
  },
  {
   "cell_type": "code",
   "execution_count": null,
   "metadata": {},
   "outputs": [],
   "source": []
  },
  {
   "cell_type": "code",
   "execution_count": null,
   "metadata": {},
   "outputs": [],
   "source": []
  },
  {
   "cell_type": "code",
   "execution_count": null,
   "metadata": {},
   "outputs": [],
   "source": []
  },
  {
   "cell_type": "code",
   "execution_count": null,
   "metadata": {},
   "outputs": [],
   "source": []
  },
  {
   "cell_type": "code",
   "execution_count": null,
   "metadata": {},
   "outputs": [],
   "source": []
  },
  {
   "cell_type": "code",
   "execution_count": null,
   "metadata": {},
   "outputs": [],
   "source": []
  },
  {
   "cell_type": "code",
   "execution_count": null,
   "metadata": {},
   "outputs": [],
   "source": []
  },
  {
   "cell_type": "code",
   "execution_count": null,
   "metadata": {},
   "outputs": [],
   "source": []
  },
  {
   "cell_type": "code",
   "execution_count": null,
   "metadata": {},
   "outputs": [],
   "source": []
  },
  {
   "cell_type": "code",
   "execution_count": null,
   "metadata": {},
   "outputs": [],
   "source": []
  },
  {
   "cell_type": "code",
   "execution_count": null,
   "metadata": {},
   "outputs": [],
   "source": []
  },
  {
   "cell_type": "code",
   "execution_count": null,
   "metadata": {},
   "outputs": [],
   "source": []
  },
  {
   "cell_type": "code",
   "execution_count": null,
   "metadata": {},
   "outputs": [],
   "source": []
  },
  {
   "cell_type": "code",
   "execution_count": null,
   "metadata": {},
   "outputs": [],
   "source": []
  },
  {
   "cell_type": "code",
   "execution_count": null,
   "metadata": {},
   "outputs": [],
   "source": []
  },
  {
   "cell_type": "code",
   "execution_count": null,
   "metadata": {},
   "outputs": [],
   "source": []
  },
  {
   "cell_type": "code",
   "execution_count": null,
   "metadata": {},
   "outputs": [],
   "source": []
  },
  {
   "cell_type": "code",
   "execution_count": null,
   "metadata": {},
   "outputs": [],
   "source": []
  },
  {
   "cell_type": "code",
   "execution_count": null,
   "metadata": {},
   "outputs": [],
   "source": []
  },
  {
   "cell_type": "code",
   "execution_count": null,
   "metadata": {},
   "outputs": [],
   "source": []
  },
  {
   "cell_type": "code",
   "execution_count": null,
   "metadata": {},
   "outputs": [],
   "source": []
  },
  {
   "cell_type": "code",
   "execution_count": null,
   "metadata": {},
   "outputs": [],
   "source": []
  },
  {
   "cell_type": "code",
   "execution_count": null,
   "metadata": {},
   "outputs": [],
   "source": []
  },
  {
   "cell_type": "code",
   "execution_count": null,
   "metadata": {},
   "outputs": [],
   "source": []
  },
  {
   "cell_type": "code",
   "execution_count": null,
   "metadata": {},
   "outputs": [],
   "source": []
  },
  {
   "cell_type": "code",
   "execution_count": null,
   "metadata": {},
   "outputs": [],
   "source": []
  },
  {
   "cell_type": "code",
   "execution_count": null,
   "metadata": {},
   "outputs": [],
   "source": []
  },
  {
   "cell_type": "code",
   "execution_count": null,
   "metadata": {},
   "outputs": [],
   "source": [
    "def get_flights_dataframe()\n",
    "\n",
    "# Calculate the time of execution\n",
    "start_3 = time.time()\n",
    "\n",
    "data = pd.read_csv(filepath[:-4])\n",
    "\n",
    "# Calculate the time of execution\n",
    "end_3 = time.time()\n",
    "\n",
    "print('read df - execution time: ',end_3 - start_3, 'seconds')\n",
    "print('read df - execution time: ',(end_3 - start_3)/60, 'minutes')\n",
    "print('-----------------------------------------------------')\n",
    "print('total execution time: ',(end_1+end_2+end_3)-(start_1+start_2+start_3), 'seconds')\n",
    "print('total execution time: ',((end_1+end_2+end_3)-(start_1+start_2+start_3))/60, 'minutes')"
   ]
  },
  {
   "cell_type": "code",
   "execution_count": null,
   "metadata": {},
   "outputs": [],
   "source": [
    "df.head()"
   ]
  },
  {
   "cell_type": "code",
   "execution_count": null,
   "metadata": {},
   "outputs": [],
   "source": [
    "df.shape"
   ]
  },
  {
   "cell_type": "code",
   "execution_count": null,
   "metadata": {},
   "outputs": [],
   "source": [
    "def test(url):\n",
    "    print(url)"
   ]
  },
  {
   "cell_type": "code",
   "execution_count": null,
   "metadata": {},
   "outputs": [],
   "source": [
    "URL_1 = 'http://stat-computing.org/dataexpo/2009/2008.csv.bz2'\n",
    "URL_2 = 'http://stat-computing.org/dataexpo/2009/2007.csv.bz2'\n",
    "\n",
    "a = test(URL_1)\n",
    "b = test(URL_2)"
   ]
  },
  {
   "cell_type": "code",
   "execution_count": null,
   "metadata": {},
   "outputs": [],
   "source": [
    "# Calculate the time of execution\n",
    "start_4 = time.time()\n",
    "\n",
    "df_1 = pd.read_csv('source/2008.csv.bz2', compression='bz2', header=0, sep=',')\n",
    "        \n",
    "# Calculate the time of execution\n",
    "end_4 = time.time()"
   ]
  },
  {
   "cell_type": "code",
   "execution_count": null,
   "metadata": {},
   "outputs": [],
   "source": [
    "print('-----------------------------------------------------')\n",
    "print('read df - execution time: ',end_4 - start_4, 'seconds')\n",
    "print('read df - execution time: ',(end_4 - start_4)/60, 'minutes')"
   ]
  },
  {
   "cell_type": "code",
   "execution_count": null,
   "metadata": {},
   "outputs": [],
   "source": [
    "df.head()"
   ]
  },
  {
   "cell_type": "code",
   "execution_count": null,
   "metadata": {},
   "outputs": [],
   "source": [
    "df.info()"
   ]
  },
  {
   "cell_type": "code",
   "execution_count": null,
   "metadata": {},
   "outputs": [],
   "source": []
  },
  {
   "cell_type": "code",
   "execution_count": null,
   "metadata": {},
   "outputs": [],
   "source": [
    "# create directories for downloads\n",
    "!mkdir data"
   ]
  },
  {
   "cell_type": "code",
   "execution_count": null,
   "metadata": {},
   "outputs": [],
   "source": [
    "# Calculate the time of execution\n",
    "start_1 = time.time()\n",
    "\n",
    "url = 'http://stat-computing.org/dataexpo/2009/2008.csv.bz2'\n",
    "urlData = requests.get(url)\n",
    "\n",
    "with open('data/2008.csv.bz2', mode ='wb') as file:\n",
    "    file.write(urlData.content)\n",
    "    \n",
    "# Calculate the time of execution\n",
    "end_1 = time.time()\n",
    "print('-----------------------------------------------------')\n",
    "print('execution time: ',end_1 - start_1, 'seconds')\n",
    "print('execution time: ',(end_1 - start_1)/60, 'minutes')"
   ]
  },
  {
   "cell_type": "code",
   "execution_count": null,
   "metadata": {},
   "outputs": [],
   "source": [
    "# Calculate the time of execution\n",
    "start_2 = time.time()\n",
    "\n",
    "filepath = 'data/2008.csv.bz2'\n",
    "zipfile = bz2.BZ2File(filepath) # open the file\n",
    "data = zipfile.read() # get the decompressed data\n",
    "newfilepath = filepath[:-4] # assuming the filepath ends with .bz2\n",
    "open(newfilepath, 'wb').write(data) # write a uncompressed file\n",
    "\n",
    "# Calculate the time of execution\n",
    "end_2 = time.time()\n",
    "print('-----------------------------------------------------')\n",
    "print('execution time: ',end_2 - start_2, 'seconds')\n",
    "print('execution time: ',(end_2 - start_2)/60, 'minutes')"
   ]
  },
  {
   "cell_type": "code",
   "execution_count": null,
   "metadata": {},
   "outputs": [],
   "source": [
    "# Load image predictions file\n",
    "\n",
    "# Calculate the time of execution\n",
    "start_3 = time.time()\n",
    "\n",
    "df = pd.read_csv('data/2008.csv')\n",
    "\n",
    "# Calculate the time of execution\n",
    "end_3 = time.time()\n",
    "print('-----------------------------------------------------')\n",
    "print('execution time: ',end_3 - start_3, 'seconds')\n",
    "print('execution time: ',(end_3 - start_3)/60, 'minutes')"
   ]
  },
  {
   "cell_type": "code",
   "execution_count": null,
   "metadata": {},
   "outputs": [],
   "source": [
    "print('-----------------------------------------------------')\n",
    "print('execution time: ',(end_1+end_2+end_3)-(start_1+start_2+start_3), 'seconds')\n",
    "print('execution time: ',((end_1+end_2+end_3)-(start_1+start_2+start_3))/60, 'minutes')"
   ]
  },
  {
   "cell_type": "code",
   "execution_count": null,
   "metadata": {},
   "outputs": [],
   "source": [
    "df.head()"
   ]
  },
  {
   "cell_type": "code",
   "execution_count": null,
   "metadata": {},
   "outputs": [],
   "source": [
    "df.shape"
   ]
  },
  {
   "cell_type": "code",
   "execution_count": null,
   "metadata": {},
   "outputs": [],
   "source": []
  },
  {
   "cell_type": "code",
   "execution_count": null,
   "metadata": {},
   "outputs": [],
   "source": []
  },
  {
   "cell_type": "code",
   "execution_count": null,
   "metadata": {},
   "outputs": [],
   "source": []
  },
  {
   "cell_type": "code",
   "execution_count": null,
   "metadata": {},
   "outputs": [],
   "source": []
  },
  {
   "cell_type": "code",
   "execution_count": null,
   "metadata": {},
   "outputs": [],
   "source": []
  },
  {
   "cell_type": "code",
   "execution_count": null,
   "metadata": {},
   "outputs": [],
   "source": []
  },
  {
   "cell_type": "code",
   "execution_count": null,
   "metadata": {},
   "outputs": [],
   "source": []
  },
  {
   "cell_type": "code",
   "execution_count": null,
   "metadata": {},
   "outputs": [],
   "source": []
  },
  {
   "cell_type": "code",
   "execution_count": null,
   "metadata": {},
   "outputs": [],
   "source": []
  },
  {
   "cell_type": "markdown",
   "metadata": {},
   "source": [
    "### What is the structure of your dataset?\n",
    "\n",
    "> Your answer here!\n",
    "\n",
    "### What is/are the main feature(s) of interest in your dataset?\n",
    "\n",
    "> Your answer here!\n",
    "\n",
    "### What features in the dataset do you think will help support your investigation into your feature(s) of interest?\n",
    "\n",
    "> Your answer here!"
   ]
  },
  {
   "cell_type": "markdown",
   "metadata": {},
   "source": [
    "## Univariate Exploration\n",
    "\n",
    "> In this section, investigate distributions of individual variables. If\n",
    "you see unusual points or outliers, take a deeper look to clean things up\n",
    "and prepare yourself to look at relationships between variables."
   ]
  },
  {
   "cell_type": "code",
   "execution_count": null,
   "metadata": {},
   "outputs": [],
   "source": []
  },
  {
   "cell_type": "markdown",
   "metadata": {},
   "source": [
    "> Make sure that, after every plot or related series of plots, that you\n",
    "include a Markdown cell with comments about what you observed, and what\n",
    "you plan on investigating next."
   ]
  },
  {
   "cell_type": "code",
   "execution_count": null,
   "metadata": {},
   "outputs": [],
   "source": []
  },
  {
   "cell_type": "markdown",
   "metadata": {},
   "source": [
    "### Discuss the distribution(s) of your variable(s) of interest. Were there any unusual points? Did you need to perform any transformations?\n",
    "\n",
    "> Your answer here!\n",
    "\n",
    "### Of the features you investigated, were there any unusual distributions? Did you perform any operations on the data to tidy, adjust, or change the form of the data? If so, why did you do this?\n",
    "\n",
    "> Your answer here!"
   ]
  },
  {
   "cell_type": "markdown",
   "metadata": {},
   "source": [
    "## Bivariate Exploration\n",
    "\n",
    "> In this section, investigate relationships between pairs of variables in your\n",
    "data. Make sure the variables that you cover here have been introduced in some\n",
    "fashion in the previous section (univariate exploration)."
   ]
  },
  {
   "cell_type": "code",
   "execution_count": null,
   "metadata": {},
   "outputs": [],
   "source": []
  },
  {
   "cell_type": "markdown",
   "metadata": {},
   "source": [
    "### Talk about some of the relationships you observed in this part of the investigation. How did the feature(s) of interest vary with other features in the dataset?\n",
    "\n",
    "> Your answer here!\n",
    "\n",
    "### Did you observe any interesting relationships between the other features (not the main feature(s) of interest)?\n",
    "\n",
    "> Your answer here!"
   ]
  },
  {
   "cell_type": "markdown",
   "metadata": {},
   "source": [
    "## Multivariate Exploration\n",
    "\n",
    "> Create plots of three or more variables to investigate your data even\n",
    "further. Make sure that your investigations are justified, and follow from\n",
    "your work in the previous sections."
   ]
  },
  {
   "cell_type": "code",
   "execution_count": null,
   "metadata": {},
   "outputs": [],
   "source": []
  },
  {
   "cell_type": "markdown",
   "metadata": {},
   "source": [
    "### Talk about some of the relationships you observed in this part of the investigation. Were there features that strengthened each other in terms of looking at your feature(s) of interest?\n",
    "\n",
    "> Your answer here!\n",
    "\n",
    "### Were there any interesting or surprising interactions between features?\n",
    "\n",
    "> Your answer here!"
   ]
  },
  {
   "cell_type": "markdown",
   "metadata": {},
   "source": [
    "> At the end of your report, make sure that you export the notebook as an\n",
    "html file from the `File > Download as... > HTML` menu. Make sure you keep\n",
    "track of where the exported file goes, so you can put it in the same folder\n",
    "as this notebook for project submission. Also, make sure you remove all of\n",
    "the quote-formatted guide notes like this one before you finish your report!"
   ]
  },
  {
   "cell_type": "code",
   "execution_count": null,
   "metadata": {},
   "outputs": [],
   "source": []
  }
 ],
 "metadata": {
  "kernelspec": {
   "display_name": "Python 3",
   "language": "python",
   "name": "python3"
  },
  "language_info": {
   "codemirror_mode": {
    "name": "ipython",
    "version": 3
   },
   "file_extension": ".py",
   "mimetype": "text/x-python",
   "name": "python",
   "nbconvert_exporter": "python",
   "pygments_lexer": "ipython3",
   "version": "3.7.3"
  }
 },
 "nbformat": 4,
 "nbformat_minor": 2
}
