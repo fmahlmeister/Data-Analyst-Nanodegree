{
 "cells": [
  {
   "cell_type": "markdown",
   "metadata": {},
   "source": [
    "# Project 5: Communicate Data Findings\n",
    "\n",
    "São Paulo, 15 June of 2019<br>\n",
    "Felipe Mahlmeister\n",
    "\n",
    "## Table of Contents\n",
    "\n",
    "1. [Summary](#summary)<br>\n",
    "2. [Extracting the Data](#extract)<br>\n",
    "3. [Analysis, Modeling, and Validation](#analysis)<br>\n",
    "4. [Conclusion](#conclusion)<br>"
   ]
  },
  {
   "cell_type": "markdown",
   "metadata": {},
   "source": [
    "<a id='summary'></a>\n",
    "## 1. Summary\n",
    "\n",
    "In this project, I will analyze local and global temperature data and compare the temperature trends where I live to overall global temperature trends."
   ]
  },
  {
   "cell_type": "markdown",
   "metadata": {},
   "source": [
    "<a id='summary'></a>\n",
    "## 2. Preliminary Wrangling\n",
    "\n",
    "> Briefly introduce your dataset here.\n",
    "\n",
    "In this project, I will analyze local and global temperature data and compare the temperature trends where I live to overall global temperature trends."
   ]
  },
  {
   "cell_type": "code",
   "execution_count": 43,
   "metadata": {},
   "outputs": [],
   "source": [
    "# import all packages and set plots to be embedded inline\n",
    "import os\n",
    "import numpy as np\n",
    "import time\n",
    "import requests\n",
    "import pandas as pd\n",
    "import matplotlib.pyplot as plt\n",
    "import seaborn as sb\n",
    "from urllib.request import urlretrieve\n",
    "import bz2\n",
    "\n",
    "%matplotlib inline"
   ]
  },
  {
   "cell_type": "markdown",
   "metadata": {},
   "source": [
    "> Load in your dataset and describe its properties through the questions below.\n",
    "Try and motivate your exploration goals through this section."
   ]
  },
  {
   "cell_type": "code",
   "execution_count": 17,
   "metadata": {},
   "outputs": [],
   "source": [
    "def get_download_flights_data(filepath, url, force_download=False):\n",
    "    \n",
    "    start_time_list, end_time_list = [], []\n",
    "    \n",
    "    if force_download or not os.path.exists(filepath[:-4]):\n",
    "        # Calculate the time of execution\n",
    "        start_1 = time.time()\n",
    "        \n",
    "        !mkdir source\n",
    "        \n",
    "        urlData = requests.get(url)\n",
    "\n",
    "        with open(filepath, mode ='wb') as file:\n",
    "            file.write(urlData.content)\n",
    "        # Calculate the time of execution\n",
    "        end_1 = time.time()\n",
    "        \n",
    "        # Calculate the time of execution\n",
    "        start_2 = time.time()\n",
    "        \n",
    "        zipfile = bz2.BZ2File(filepath) # open the file\n",
    "        data = zipfile.read() # get the decompressed data\n",
    "        newfilepath = filepath[:-4] # assuming the filepath ends with .bz2\n",
    "        open(newfilepath, 'wb').write(data) # write a uncompressed file\n",
    "        \n",
    "        # Calculate the time of execution\n",
    "        end_2 = time.time()\n",
    "           \n",
    "        # Delete zip files from source folder\n",
    "        os.remove(filepath)\n",
    "        \n",
    "        # Add execution time to list\n",
    "        \n",
    "        start_time_list.append(start_1)\n",
    "        end_time_list.append(end_1)\n",
    "        start_time_list.append(start_2)\n",
    "        end_time_list.append(end_2)\n",
    "    else:\n",
    "        print(\"All the files have already been downloaded\")\n",
    "    return start_time_list, end_time_list"
   ]
  },
  {
   "cell_type": "code",
   "execution_count": null,
   "metadata": {},
   "outputs": [],
   "source": [
    "'{:.2f}'.format(sum(end_time_list)-sum(start_time_list)))"
   ]
  },
  {
   "cell_type": "code",
   "execution_count": 25,
   "metadata": {},
   "outputs": [
    {
     "name": "stdout",
     "output_type": "stream",
     "text": [
      "\n",
      "2007.csv : file 0 of 2 were successfully downloaded in 40.14 seconds\n",
      "\n",
      "mkdir: cannot create directory ‘source’: File exists\n",
      "\n",
      "2008.csv : file 1 of 2 were successfully downloaded in 39.37 seconds\n",
      "\n"
     ]
    }
   ],
   "source": [
    "URL = ['http://stat-computing.org/dataexpo/2009/2007.csv.bz2',\n",
    "       'http://stat-computing.org/dataexpo/2009/2008.csv.bz2']\n",
    "\n",
    "filepath = ['source/2007.csv.bz2',\n",
    "            'source/2008.csv.bz2']\n",
    "\n",
    "total_start_time_list, total_end_time_list = [], []\n",
    "\n",
    "for file in range(0,len(URL)):\n",
    "        \n",
    "    start_time_list, end_time_list = get_download_flights_data(filepath[file], URL[file])\n",
    "    \n",
    "    total_start_time_list.append(start_time_list)\n",
    "    total_end_time_list.append(end_time_list)\n",
    "    \n",
    "    time_diff = sum(end_time_list)-sum(start_time_list)\n",
    "    \n",
    "    print('')\n",
    "    print(filepath[file][7:-4],':','file',file+1,'of',len(URL),'were successfully downloaded in',\n",
    "          '{:0.2f}'.format(time_diff),'seconds')\n",
    "    print('')\n",
    "\n",
    "total_time_diff = total_end_time_list - total_start_time_list\n",
    "\n",
    "print('download - execution time: ',total_end_time_list[0] - start_time_list[0], 'seconds')\n",
    "    \n",
    "    \n",
    "    \n",
    "    \n",
    "    \n",
    "    \n",
    "    \n",
    "#print('')\n",
    "#print('download - execution time: ',total_end_time_list[0] - start_time_list[0], 'seconds')\n",
    "#print('download - execution time: ',(end_time_list[0] - start_time_list[0])/60, 'minutes')\n",
    "#print('-----------------------------------------------------')\n",
    "#print('unzip file - execution time: ',end_time_list[1] - start_time_list[1], 'seconds')\n",
    "#print('unzip file - execution time: ',(end_time_list[1] - start_time_list[1])/60, 'minutes')\n",
    "#print('-----------------------------------------------------')\n",
    "#print('total execution time: ',sum(end_time_list)-sum(start_time_list), 'seconds')\n",
    "#print('total execution time: ',(sum(end_time_list)-sum(start_time_list))/60, 'minutes')"
   ]
  },
  {
   "cell_type": "code",
   "execution_count": 29,
   "metadata": {},
   "outputs": [
    {
     "data": {
      "text/plain": [
       "40.13559937477112"
      ]
     },
     "execution_count": 29,
     "metadata": {},
     "output_type": "execute_result"
    }
   ],
   "source": [
    "(total_end_time_list[0][0] - total_start_time_list[0][0]) + \\\n",
    "(total_end_time_list[0][1] - total_start_time_list[0][1])"
   ]
  },
  {
   "cell_type": "code",
   "execution_count": 32,
   "metadata": {},
   "outputs": [
    {
     "data": {
      "text/plain": [
       "2"
      ]
     },
     "execution_count": 32,
     "metadata": {},
     "output_type": "execute_result"
    }
   ],
   "source": [
    "len(total_end_time_list)"
   ]
  },
  {
   "cell_type": "code",
   "execution_count": 35,
   "metadata": {},
   "outputs": [
    {
     "data": {
      "text/plain": [
       "40.13559913635254"
      ]
     },
     "execution_count": 35,
     "metadata": {},
     "output_type": "execute_result"
    }
   ],
   "source": [
    "sum(total_end_time_list[0])-sum(total_start_time_list[0])"
   ]
  },
  {
   "cell_type": "code",
   "execution_count": null,
   "metadata": {},
   "outputs": [],
   "source": []
  },
  {
   "cell_type": "code",
   "execution_count": null,
   "metadata": {},
   "outputs": [],
   "source": []
  },
  {
   "cell_type": "code",
   "execution_count": null,
   "metadata": {},
   "outputs": [],
   "source": []
  },
  {
   "cell_type": "code",
   "execution_count": null,
   "metadata": {},
   "outputs": [],
   "source": []
  },
  {
   "cell_type": "code",
   "execution_count": null,
   "metadata": {},
   "outputs": [],
   "source": []
  },
  {
   "cell_type": "code",
   "execution_count": null,
   "metadata": {},
   "outputs": [],
   "source": []
  },
  {
   "cell_type": "code",
   "execution_count": null,
   "metadata": {},
   "outputs": [],
   "source": []
  },
  {
   "cell_type": "code",
   "execution_count": null,
   "metadata": {},
   "outputs": [],
   "source": []
  },
  {
   "cell_type": "code",
   "execution_count": null,
   "metadata": {},
   "outputs": [],
   "source": []
  },
  {
   "cell_type": "code",
   "execution_count": null,
   "metadata": {},
   "outputs": [],
   "source": []
  },
  {
   "cell_type": "code",
   "execution_count": null,
   "metadata": {},
   "outputs": [],
   "source": []
  },
  {
   "cell_type": "code",
   "execution_count": null,
   "metadata": {},
   "outputs": [],
   "source": []
  },
  {
   "cell_type": "code",
   "execution_count": null,
   "metadata": {},
   "outputs": [],
   "source": []
  },
  {
   "cell_type": "code",
   "execution_count": null,
   "metadata": {},
   "outputs": [],
   "source": []
  },
  {
   "cell_type": "code",
   "execution_count": null,
   "metadata": {},
   "outputs": [],
   "source": []
  },
  {
   "cell_type": "code",
   "execution_count": null,
   "metadata": {},
   "outputs": [],
   "source": []
  },
  {
   "cell_type": "code",
   "execution_count": null,
   "metadata": {},
   "outputs": [],
   "source": [
    "print('download - execution time: ',end_1 - start_1, 'seconds')\n",
    "print('download - execution time: ',(end_1 - start_1)/60, 'minutes')\n",
    "print('-----------------------------------------------------')\n",
    "print('unzip file - execution time: ',end_2 - start_2, 'seconds')\n",
    "print('unzip file - execution time: ',(end_2 - start_2)/60, 'minutes')\n",
    "print('-----------------------------------------------------')\n",
    "print('total execution time: ',(end_1+end_2)-(start_1+start_2), 'seconds')\n",
    "print('total execution time: ',((end_1+end_2)-(start_1+start_2))/60, 'minutes')\n",
    "print('-----------------------------------------------------')"
   ]
  },
  {
   "cell_type": "code",
   "execution_count": null,
   "metadata": {},
   "outputs": [],
   "source": [
    "URL = ['http://stat-computing.org/dataexpo/2009/2007.csv.bz2',\n",
    "       'http://stat-computing.org/dataexpo/2009/2008.csv.bz2']\n",
    "\n",
    "filepath = ['source/2007.csv.bz2',\n",
    "            'source/2008.csv.bz2']\n",
    "\n",
    "for file in range(0,len(URL)):\n",
    "    get_flights_data(filepath[file], URL[file])"
   ]
  },
  {
   "cell_type": "code",
   "execution_count": null,
   "metadata": {},
   "outputs": [],
   "source": []
  },
  {
   "cell_type": "code",
   "execution_count": null,
   "metadata": {},
   "outputs": [],
   "source": []
  },
  {
   "cell_type": "code",
   "execution_count": null,
   "metadata": {},
   "outputs": [],
   "source": []
  },
  {
   "cell_type": "code",
   "execution_count": null,
   "metadata": {},
   "outputs": [],
   "source": []
  },
  {
   "cell_type": "code",
   "execution_count": null,
   "metadata": {},
   "outputs": [],
   "source": []
  },
  {
   "cell_type": "code",
   "execution_count": null,
   "metadata": {},
   "outputs": [],
   "source": []
  },
  {
   "cell_type": "code",
   "execution_count": null,
   "metadata": {},
   "outputs": [],
   "source": []
  },
  {
   "cell_type": "code",
   "execution_count": null,
   "metadata": {},
   "outputs": [],
   "source": []
  },
  {
   "cell_type": "code",
   "execution_count": null,
   "metadata": {},
   "outputs": [],
   "source": [
    "def get_flights_dataframe()\n",
    "\n",
    "# Calculate the time of execution\n",
    "start_3 = time.time()\n",
    "\n",
    "data = pd.read_csv(filepath[:-4])\n",
    "\n",
    "# Calculate the time of execution\n",
    "end_3 = time.time()\n",
    "\n",
    "print('read df - execution time: ',end_3 - start_3, 'seconds')\n",
    "print('read df - execution time: ',(end_3 - start_3)/60, 'minutes')\n",
    "print('-----------------------------------------------------')\n",
    "print('total execution time: ',(end_1+end_2+end_3)-(start_1+start_2+start_3), 'seconds')\n",
    "print('total execution time: ',((end_1+end_2+end_3)-(start_1+start_2+start_3))/60, 'minutes')"
   ]
  },
  {
   "cell_type": "code",
   "execution_count": null,
   "metadata": {},
   "outputs": [],
   "source": [
    "df.head()"
   ]
  },
  {
   "cell_type": "code",
   "execution_count": null,
   "metadata": {},
   "outputs": [],
   "source": [
    "df.shape"
   ]
  },
  {
   "cell_type": "code",
   "execution_count": null,
   "metadata": {},
   "outputs": [],
   "source": [
    "def test(url):\n",
    "    print(url)"
   ]
  },
  {
   "cell_type": "code",
   "execution_count": null,
   "metadata": {},
   "outputs": [],
   "source": [
    "URL_1 = 'http://stat-computing.org/dataexpo/2009/2008.csv.bz2'\n",
    "URL_2 = 'http://stat-computing.org/dataexpo/2009/2007.csv.bz2'\n",
    "\n",
    "a = test(URL_1)\n",
    "b = test(URL_2)"
   ]
  },
  {
   "cell_type": "code",
   "execution_count": null,
   "metadata": {},
   "outputs": [],
   "source": [
    "# Calculate the time of execution\n",
    "start_4 = time.time()\n",
    "\n",
    "df_1 = pd.read_csv('source/2008.csv.bz2', compression='bz2', header=0, sep=',')\n",
    "        \n",
    "# Calculate the time of execution\n",
    "end_4 = time.time()"
   ]
  },
  {
   "cell_type": "code",
   "execution_count": null,
   "metadata": {},
   "outputs": [],
   "source": [
    "print('-----------------------------------------------------')\n",
    "print('read df - execution time: ',end_4 - start_4, 'seconds')\n",
    "print('read df - execution time: ',(end_4 - start_4)/60, 'minutes')"
   ]
  },
  {
   "cell_type": "code",
   "execution_count": null,
   "metadata": {},
   "outputs": [],
   "source": [
    "df.head()"
   ]
  },
  {
   "cell_type": "code",
   "execution_count": null,
   "metadata": {},
   "outputs": [],
   "source": [
    "df.info()"
   ]
  },
  {
   "cell_type": "code",
   "execution_count": null,
   "metadata": {},
   "outputs": [],
   "source": []
  },
  {
   "cell_type": "code",
   "execution_count": null,
   "metadata": {},
   "outputs": [],
   "source": [
    "# create directories for downloads\n",
    "!mkdir data"
   ]
  },
  {
   "cell_type": "code",
   "execution_count": null,
   "metadata": {},
   "outputs": [],
   "source": [
    "# Calculate the time of execution\n",
    "start_1 = time.time()\n",
    "\n",
    "url = 'http://stat-computing.org/dataexpo/2009/2008.csv.bz2'\n",
    "urlData = requests.get(url)\n",
    "\n",
    "with open('data/2008.csv.bz2', mode ='wb') as file:\n",
    "    file.write(urlData.content)\n",
    "    \n",
    "# Calculate the time of execution\n",
    "end_1 = time.time()\n",
    "print('-----------------------------------------------------')\n",
    "print('execution time: ',end_1 - start_1, 'seconds')\n",
    "print('execution time: ',(end_1 - start_1)/60, 'minutes')"
   ]
  },
  {
   "cell_type": "code",
   "execution_count": null,
   "metadata": {},
   "outputs": [],
   "source": [
    "# Calculate the time of execution\n",
    "start_2 = time.time()\n",
    "\n",
    "filepath = 'data/2008.csv.bz2'\n",
    "zipfile = bz2.BZ2File(filepath) # open the file\n",
    "data = zipfile.read() # get the decompressed data\n",
    "newfilepath = filepath[:-4] # assuming the filepath ends with .bz2\n",
    "open(newfilepath, 'wb').write(data) # write a uncompressed file\n",
    "\n",
    "# Calculate the time of execution\n",
    "end_2 = time.time()\n",
    "print('-----------------------------------------------------')\n",
    "print('execution time: ',end_2 - start_2, 'seconds')\n",
    "print('execution time: ',(end_2 - start_2)/60, 'minutes')"
   ]
  },
  {
   "cell_type": "code",
   "execution_count": null,
   "metadata": {},
   "outputs": [],
   "source": [
    "# Load image predictions file\n",
    "\n",
    "# Calculate the time of execution\n",
    "start_3 = time.time()\n",
    "\n",
    "df = pd.read_csv('data/2008.csv')\n",
    "\n",
    "# Calculate the time of execution\n",
    "end_3 = time.time()\n",
    "print('-----------------------------------------------------')\n",
    "print('execution time: ',end_3 - start_3, 'seconds')\n",
    "print('execution time: ',(end_3 - start_3)/60, 'minutes')"
   ]
  },
  {
   "cell_type": "code",
   "execution_count": null,
   "metadata": {},
   "outputs": [],
   "source": [
    "print('-----------------------------------------------------')\n",
    "print('execution time: ',(end_1+end_2+end_3)-(start_1+start_2+start_3), 'seconds')\n",
    "print('execution time: ',((end_1+end_2+end_3)-(start_1+start_2+start_3))/60, 'minutes')"
   ]
  },
  {
   "cell_type": "code",
   "execution_count": null,
   "metadata": {},
   "outputs": [],
   "source": [
    "df.head()"
   ]
  },
  {
   "cell_type": "code",
   "execution_count": null,
   "metadata": {},
   "outputs": [],
   "source": [
    "df.shape"
   ]
  },
  {
   "cell_type": "code",
   "execution_count": null,
   "metadata": {},
   "outputs": [],
   "source": []
  },
  {
   "cell_type": "code",
   "execution_count": null,
   "metadata": {},
   "outputs": [],
   "source": []
  },
  {
   "cell_type": "code",
   "execution_count": null,
   "metadata": {},
   "outputs": [],
   "source": []
  },
  {
   "cell_type": "code",
   "execution_count": null,
   "metadata": {},
   "outputs": [],
   "source": []
  },
  {
   "cell_type": "code",
   "execution_count": null,
   "metadata": {},
   "outputs": [],
   "source": []
  },
  {
   "cell_type": "code",
   "execution_count": null,
   "metadata": {},
   "outputs": [],
   "source": []
  },
  {
   "cell_type": "code",
   "execution_count": null,
   "metadata": {},
   "outputs": [],
   "source": []
  },
  {
   "cell_type": "code",
   "execution_count": null,
   "metadata": {},
   "outputs": [],
   "source": []
  },
  {
   "cell_type": "code",
   "execution_count": null,
   "metadata": {},
   "outputs": [],
   "source": []
  },
  {
   "cell_type": "markdown",
   "metadata": {},
   "source": [
    "### What is the structure of your dataset?\n",
    "\n",
    "> Your answer here!\n",
    "\n",
    "### What is/are the main feature(s) of interest in your dataset?\n",
    "\n",
    "> Your answer here!\n",
    "\n",
    "### What features in the dataset do you think will help support your investigation into your feature(s) of interest?\n",
    "\n",
    "> Your answer here!"
   ]
  },
  {
   "cell_type": "markdown",
   "metadata": {},
   "source": [
    "## Univariate Exploration\n",
    "\n",
    "> In this section, investigate distributions of individual variables. If\n",
    "you see unusual points or outliers, take a deeper look to clean things up\n",
    "and prepare yourself to look at relationships between variables."
   ]
  },
  {
   "cell_type": "code",
   "execution_count": null,
   "metadata": {},
   "outputs": [],
   "source": []
  },
  {
   "cell_type": "markdown",
   "metadata": {},
   "source": [
    "> Make sure that, after every plot or related series of plots, that you\n",
    "include a Markdown cell with comments about what you observed, and what\n",
    "you plan on investigating next."
   ]
  },
  {
   "cell_type": "code",
   "execution_count": null,
   "metadata": {},
   "outputs": [],
   "source": []
  },
  {
   "cell_type": "markdown",
   "metadata": {},
   "source": [
    "### Discuss the distribution(s) of your variable(s) of interest. Were there any unusual points? Did you need to perform any transformations?\n",
    "\n",
    "> Your answer here!\n",
    "\n",
    "### Of the features you investigated, were there any unusual distributions? Did you perform any operations on the data to tidy, adjust, or change the form of the data? If so, why did you do this?\n",
    "\n",
    "> Your answer here!"
   ]
  },
  {
   "cell_type": "markdown",
   "metadata": {},
   "source": [
    "## Bivariate Exploration\n",
    "\n",
    "> In this section, investigate relationships between pairs of variables in your\n",
    "data. Make sure the variables that you cover here have been introduced in some\n",
    "fashion in the previous section (univariate exploration)."
   ]
  },
  {
   "cell_type": "code",
   "execution_count": null,
   "metadata": {},
   "outputs": [],
   "source": []
  },
  {
   "cell_type": "markdown",
   "metadata": {},
   "source": [
    "### Talk about some of the relationships you observed in this part of the investigation. How did the feature(s) of interest vary with other features in the dataset?\n",
    "\n",
    "> Your answer here!\n",
    "\n",
    "### Did you observe any interesting relationships between the other features (not the main feature(s) of interest)?\n",
    "\n",
    "> Your answer here!"
   ]
  },
  {
   "cell_type": "markdown",
   "metadata": {},
   "source": [
    "## Multivariate Exploration\n",
    "\n",
    "> Create plots of three or more variables to investigate your data even\n",
    "further. Make sure that your investigations are justified, and follow from\n",
    "your work in the previous sections."
   ]
  },
  {
   "cell_type": "code",
   "execution_count": null,
   "metadata": {},
   "outputs": [],
   "source": []
  },
  {
   "cell_type": "markdown",
   "metadata": {},
   "source": [
    "### Talk about some of the relationships you observed in this part of the investigation. Were there features that strengthened each other in terms of looking at your feature(s) of interest?\n",
    "\n",
    "> Your answer here!\n",
    "\n",
    "### Were there any interesting or surprising interactions between features?\n",
    "\n",
    "> Your answer here!"
   ]
  },
  {
   "cell_type": "markdown",
   "metadata": {},
   "source": [
    "> At the end of your report, make sure that you export the notebook as an\n",
    "html file from the `File > Download as... > HTML` menu. Make sure you keep\n",
    "track of where the exported file goes, so you can put it in the same folder\n",
    "as this notebook for project submission. Also, make sure you remove all of\n",
    "the quote-formatted guide notes like this one before you finish your report!"
   ]
  },
  {
   "cell_type": "code",
   "execution_count": null,
   "metadata": {},
   "outputs": [],
   "source": []
  }
 ],
 "metadata": {
  "kernelspec": {
   "display_name": "Python 3",
   "language": "python",
   "name": "python3"
  },
  "language_info": {
   "codemirror_mode": {
    "name": "ipython",
    "version": 3
   },
   "file_extension": ".py",
   "mimetype": "text/x-python",
   "name": "python",
   "nbconvert_exporter": "python",
   "pygments_lexer": "ipython3",
   "version": "3.7.3"
  }
 },
 "nbformat": 4,
 "nbformat_minor": 2
}
